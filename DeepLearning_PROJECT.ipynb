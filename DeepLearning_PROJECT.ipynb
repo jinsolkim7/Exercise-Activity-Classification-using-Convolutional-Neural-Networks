{
 "cells": [
  {
   "cell_type": "code",
   "execution_count": 1,
   "metadata": {},
   "outputs": [],
   "source": [
    "import os, shutil"
   ]
  },
  {
   "cell_type": "markdown",
   "metadata": {},
   "source": [
    "### making directory"
   ]
  },
  {
   "cell_type": "code",
   "execution_count": 2,
   "metadata": {},
   "outputs": [],
   "source": [
    "original_dataset_dir = './datasets/train'"
   ]
  },
  {
   "cell_type": "code",
   "execution_count": 3,
   "metadata": {},
   "outputs": [],
   "source": [
    "# making directory for datasets\n",
    "\n",
    "base_dir = './datasets_class'\n",
    "os.mkdir(base_dir)"
   ]
  },
  {
   "cell_type": "code",
   "execution_count": 4,
   "metadata": {},
   "outputs": [],
   "source": [
    "# making directory for traing/validation/test\n",
    "\n",
    "train_dir = os.path.join(base_dir, 'train')\n",
    "os.mkdir(train_dir)\n",
    "\n",
    "validation_dir = os.path.join(base_dir, 'validation')\n",
    "os.mkdir(validation_dir)\n",
    "\n",
    "test_dir = os.path.join(base_dir, 'test')\n",
    "os.mkdir(test_dir)"
   ]
  },
  {
   "cell_type": "code",
   "execution_count": 5,
   "metadata": {},
   "outputs": [],
   "source": [
    "# making training data directory for 'pullup / pushup / running / squat'\n",
    "\n",
    "train_pullup_dir = os.path.join(train_dir, 'pullup')\n",
    "os.mkdir(train_pullup_dir)\n",
    "\n",
    "train_pushup_dir = os.path.join(train_dir, 'pushup')\n",
    "os.mkdir(train_pushup_dir)\n",
    "\n",
    "train_running_dir = os.path.join(train_dir, 'running')\n",
    "os.mkdir(train_running_dir)\n",
    "\n",
    "train_squat_dir = os.path.join(train_dir, 'squat')\n",
    "os.mkdir(train_squat_dir)"
   ]
  },
  {
   "cell_type": "code",
   "execution_count": 6,
   "metadata": {},
   "outputs": [],
   "source": [
    "# making validation data directory for 'pullup / pushup / running / squat'\n",
    "\n",
    "validation_pullup_dir = os.path.join(validation_dir, 'pullup')\n",
    "os.mkdir(validation_pullup_dir)\n",
    "\n",
    "validation_pushup_dir = os.path.join(validation_dir, 'pushup')\n",
    "os.mkdir(validation_pushup_dir)\n",
    "\n",
    "validation_running_dir = os.path.join(validation_dir, 'running')\n",
    "os.mkdir(validation_running_dir)\n",
    "\n",
    "validation_squat_dir = os.path.join(validation_dir, 'squat')\n",
    "os.mkdir(validation_squat_dir)"
   ]
  },
  {
   "cell_type": "code",
   "execution_count": 7,
   "metadata": {},
   "outputs": [],
   "source": [
    "# making test data directory for 'pullup / pushup / running / squat'\n",
    "\n",
    "test_pullup_dir = os.path.join(test_dir, 'pullup')\n",
    "os.mkdir(test_pullup_dir)\n",
    "\n",
    "test_pushup_dir = os.path.join(test_dir, 'pushup')\n",
    "os.mkdir(test_pushup_dir)\n",
    "\n",
    "test_running_dir = os.path.join(test_dir, 'running')\n",
    "os.mkdir(test_running_dir)\n",
    "\n",
    "test_squat_dir = os.path.join(test_dir, 'squat')\n",
    "os.mkdir(test_squat_dir)"
   ]
  },
  {
   "cell_type": "markdown",
   "metadata": {},
   "source": [
    "### train / validation / test datasets"
   ]
  },
  {
   "cell_type": "markdown",
   "metadata": {},
   "source": [
    "train"
   ]
  },
  {
   "cell_type": "code",
   "execution_count": 8,
   "metadata": {},
   "outputs": [],
   "source": [
    "# copying 700 pullup images to 'train_pullup_dir' (70%)\n",
    "\n",
    "fnames = ['pullup ({}).jpg'.format(i) for i in range(1, 701)]\n",
    "for fname in fnames:\n",
    "    src = os.path.join(original_dataset_dir, fname)\n",
    "    dst = os.path.join(train_pullup_dir, fname)\n",
    "    shutil.copyfile(src, dst)"
   ]
  },
  {
   "cell_type": "code",
   "execution_count": 9,
   "metadata": {},
   "outputs": [],
   "source": [
    "# copying 700 pushup images to 'train_pushup_dir' (70%)\n",
    "\n",
    "fnames = ['pushup ({}).jpg'.format(i) for i in range(1, 701)]\n",
    "for fname in fnames:\n",
    "    src = os.path.join(original_dataset_dir, fname)\n",
    "    dst = os.path.join(train_pushup_dir, fname)\n",
    "    shutil.copyfile(src, dst)"
   ]
  },
  {
   "cell_type": "code",
   "execution_count": 10,
   "metadata": {},
   "outputs": [],
   "source": [
    "# copying 700 running images to 'train_running_dir' (70%)\n",
    "\n",
    "fnames = ['running ({}).jpg'.format(i) for i in range(1, 701)]\n",
    "for fname in fnames:\n",
    "    src = os.path.join(original_dataset_dir, fname)\n",
    "    dst = os.path.join(train_running_dir, fname)\n",
    "    shutil.copyfile(src, dst)"
   ]
  },
  {
   "cell_type": "code",
   "execution_count": 11,
   "metadata": {},
   "outputs": [],
   "source": [
    "# copying 700 squat images to 'train_squat_dir' (70%)\n",
    "\n",
    "fnames = ['squat ({}).jpg'.format(i) for i in range(1, 701)]\n",
    "for fname in fnames:\n",
    "    src = os.path.join(original_dataset_dir, fname)\n",
    "    dst = os.path.join(train_squat_dir, fname)\n",
    "    shutil.copyfile(src, dst)"
   ]
  },
  {
   "cell_type": "markdown",
   "metadata": {},
   "source": [
    "validation"
   ]
  },
  {
   "cell_type": "code",
   "execution_count": 12,
   "metadata": {},
   "outputs": [],
   "source": [
    "# copying 100 pullup images to 'validation_pullup_dir' (10%)\n",
    "\n",
    "fnames = ['pullup ({}).jpg'.format(i) for i in range(701, 801)]\n",
    "for fname in fnames:\n",
    "    src = os.path.join(original_dataset_dir, fname)\n",
    "    dst = os.path.join(validation_pullup_dir, fname)\n",
    "    shutil.copyfile(src, dst)"
   ]
  },
  {
   "cell_type": "code",
   "execution_count": 13,
   "metadata": {},
   "outputs": [],
   "source": [
    "# copying 100 pushup images to 'validation_pushup_dir' (10%)\n",
    "\n",
    "fnames = ['pushup ({}).jpg'.format(i) for i in range(701, 801)]\n",
    "for fname in fnames:\n",
    "    src = os.path.join(original_dataset_dir, fname)\n",
    "    dst = os.path.join(validation_pushup_dir, fname)\n",
    "    shutil.copyfile(src, dst)"
   ]
  },
  {
   "cell_type": "code",
   "execution_count": 14,
   "metadata": {},
   "outputs": [],
   "source": [
    "# copying 100 running images to 'validation_running_dir' (10%)\n",
    "\n",
    "fnames = ['running ({}).jpg'.format(i) for i in range(701, 801)]\n",
    "for fname in fnames:\n",
    "    src = os.path.join(original_dataset_dir, fname)\n",
    "    dst = os.path.join(validation_running_dir, fname)\n",
    "    shutil.copyfile(src, dst)"
   ]
  },
  {
   "cell_type": "code",
   "execution_count": 15,
   "metadata": {},
   "outputs": [],
   "source": [
    "# copying 100 squat images to 'validation_squat_dir' (10%)\n",
    "\n",
    "fnames = ['squat ({}).jpg'.format(i) for i in range(701, 801)]\n",
    "for fname in fnames:\n",
    "    src = os.path.join(original_dataset_dir, fname)\n",
    "    dst = os.path.join(validation_squat_dir, fname)\n",
    "    shutil.copyfile(src, dst)"
   ]
  },
  {
   "cell_type": "markdown",
   "metadata": {},
   "source": [
    "test"
   ]
  },
  {
   "cell_type": "code",
   "execution_count": 16,
   "metadata": {},
   "outputs": [],
   "source": [
    "# copying 200 pullup images to 'test_pullup_dir'\n",
    "\n",
    "fnames = ['pullup ({}).jpg'.format(i) for i in range(801, 1001)]\n",
    "for fname in fnames:\n",
    "    src = os.path.join(original_dataset_dir, fname)\n",
    "    dst = os.path.join(test_pullup_dir, fname)\n",
    "    shutil.copyfile(src, dst)"
   ]
  },
  {
   "cell_type": "code",
   "execution_count": 17,
   "metadata": {},
   "outputs": [],
   "source": [
    "# copying 200 pushup images to 'test_pushup_dir'\n",
    "\n",
    "fnames = ['pushup ({}).jpg'.format(i) for i in range(801, 1001)]\n",
    "for fname in fnames:\n",
    "    src = os.path.join(original_dataset_dir, fname)\n",
    "    dst = os.path.join(test_pushup_dir, fname)\n",
    "    shutil.copyfile(src, dst)"
   ]
  },
  {
   "cell_type": "code",
   "execution_count": 18,
   "metadata": {},
   "outputs": [],
   "source": [
    "# copying 200 running images to 'test_running_dir'\n",
    "\n",
    "fnames = ['running ({}).jpg'.format(i) for i in range(801, 1001)]\n",
    "for fname in fnames:\n",
    "    src = os.path.join(original_dataset_dir, fname)\n",
    "    dst = os.path.join(test_running_dir, fname)\n",
    "    shutil.copyfile(src, dst)"
   ]
  },
  {
   "cell_type": "code",
   "execution_count": 19,
   "metadata": {},
   "outputs": [],
   "source": [
    "# copying 200 squat images to 'test_squat_dir'\n",
    "\n",
    "fnames = ['squat ({}).jpg'.format(i) for i in range(801, 1001)]\n",
    "for fname in fnames:\n",
    "    src = os.path.join(original_dataset_dir, fname)\n",
    "    dst = os.path.join(test_squat_dir, fname)\n",
    "    shutil.copyfile(src, dst)"
   ]
  },
  {
   "cell_type": "code",
   "execution_count": 20,
   "metadata": {},
   "outputs": [
    {
     "name": "stdout",
     "output_type": "stream",
     "text": [
      "total number of training pullup images: 700\n",
      "total number of training pushup images: 700\n",
      "total number of training running images: 700\n",
      "total number of training squat images: 700\n"
     ]
    }
   ],
   "source": [
    "print('total number of training pullup images:', len(os.listdir(train_pullup_dir)))\n",
    "print('total number of training pushup images:', len(os.listdir(train_pushup_dir)))\n",
    "print('total number of training running images:', len(os.listdir(train_running_dir)))\n",
    "print('total number of training squat images:', len(os.listdir(train_squat_dir)))"
   ]
  },
  {
   "cell_type": "markdown",
   "metadata": {},
   "source": [
    "### model"
   ]
  },
  {
   "cell_type": "code",
   "execution_count": 21,
   "metadata": {
    "scrolled": true
   },
   "outputs": [
    {
     "name": "stderr",
     "output_type": "stream",
     "text": [
      "Using TensorFlow backend.\n",
      "C:\\Users\\Owner\\anaconda3\\lib\\site-packages\\tensorflow\\python\\framework\\dtypes.py:516: FutureWarning: Passing (type, 1) or '1type' as a synonym of type is deprecated; in a future version of numpy, it will be understood as (type, (1,)) / '(1,)type'.\n",
      "  _np_qint8 = np.dtype([(\"qint8\", np.int8, 1)])\n",
      "C:\\Users\\Owner\\anaconda3\\lib\\site-packages\\tensorflow\\python\\framework\\dtypes.py:517: FutureWarning: Passing (type, 1) or '1type' as a synonym of type is deprecated; in a future version of numpy, it will be understood as (type, (1,)) / '(1,)type'.\n",
      "  _np_quint8 = np.dtype([(\"quint8\", np.uint8, 1)])\n",
      "C:\\Users\\Owner\\anaconda3\\lib\\site-packages\\tensorflow\\python\\framework\\dtypes.py:518: FutureWarning: Passing (type, 1) or '1type' as a synonym of type is deprecated; in a future version of numpy, it will be understood as (type, (1,)) / '(1,)type'.\n",
      "  _np_qint16 = np.dtype([(\"qint16\", np.int16, 1)])\n",
      "C:\\Users\\Owner\\anaconda3\\lib\\site-packages\\tensorflow\\python\\framework\\dtypes.py:519: FutureWarning: Passing (type, 1) or '1type' as a synonym of type is deprecated; in a future version of numpy, it will be understood as (type, (1,)) / '(1,)type'.\n",
      "  _np_quint16 = np.dtype([(\"quint16\", np.uint16, 1)])\n",
      "C:\\Users\\Owner\\anaconda3\\lib\\site-packages\\tensorflow\\python\\framework\\dtypes.py:520: FutureWarning: Passing (type, 1) or '1type' as a synonym of type is deprecated; in a future version of numpy, it will be understood as (type, (1,)) / '(1,)type'.\n",
      "  _np_qint32 = np.dtype([(\"qint32\", np.int32, 1)])\n",
      "C:\\Users\\Owner\\anaconda3\\lib\\site-packages\\tensorflow\\python\\framework\\dtypes.py:525: FutureWarning: Passing (type, 1) or '1type' as a synonym of type is deprecated; in a future version of numpy, it will be understood as (type, (1,)) / '(1,)type'.\n",
      "  np_resource = np.dtype([(\"resource\", np.ubyte, 1)])\n",
      "C:\\Users\\Owner\\anaconda3\\lib\\site-packages\\tensorboard\\compat\\tensorflow_stub\\dtypes.py:541: FutureWarning: Passing (type, 1) or '1type' as a synonym of type is deprecated; in a future version of numpy, it will be understood as (type, (1,)) / '(1,)type'.\n",
      "  _np_qint8 = np.dtype([(\"qint8\", np.int8, 1)])\n",
      "C:\\Users\\Owner\\anaconda3\\lib\\site-packages\\tensorboard\\compat\\tensorflow_stub\\dtypes.py:542: FutureWarning: Passing (type, 1) or '1type' as a synonym of type is deprecated; in a future version of numpy, it will be understood as (type, (1,)) / '(1,)type'.\n",
      "  _np_quint8 = np.dtype([(\"quint8\", np.uint8, 1)])\n",
      "C:\\Users\\Owner\\anaconda3\\lib\\site-packages\\tensorboard\\compat\\tensorflow_stub\\dtypes.py:543: FutureWarning: Passing (type, 1) or '1type' as a synonym of type is deprecated; in a future version of numpy, it will be understood as (type, (1,)) / '(1,)type'.\n",
      "  _np_qint16 = np.dtype([(\"qint16\", np.int16, 1)])\n",
      "C:\\Users\\Owner\\anaconda3\\lib\\site-packages\\tensorboard\\compat\\tensorflow_stub\\dtypes.py:544: FutureWarning: Passing (type, 1) or '1type' as a synonym of type is deprecated; in a future version of numpy, it will be understood as (type, (1,)) / '(1,)type'.\n",
      "  _np_quint16 = np.dtype([(\"quint16\", np.uint16, 1)])\n",
      "C:\\Users\\Owner\\anaconda3\\lib\\site-packages\\tensorboard\\compat\\tensorflow_stub\\dtypes.py:545: FutureWarning: Passing (type, 1) or '1type' as a synonym of type is deprecated; in a future version of numpy, it will be understood as (type, (1,)) / '(1,)type'.\n",
      "  _np_qint32 = np.dtype([(\"qint32\", np.int32, 1)])\n",
      "C:\\Users\\Owner\\anaconda3\\lib\\site-packages\\tensorboard\\compat\\tensorflow_stub\\dtypes.py:550: FutureWarning: Passing (type, 1) or '1type' as a synonym of type is deprecated; in a future version of numpy, it will be understood as (type, (1,)) / '(1,)type'.\n",
      "  np_resource = np.dtype([(\"resource\", np.ubyte, 1)])\n"
     ]
    }
   ],
   "source": [
    "from keras import layers\n",
    "from keras import models"
   ]
  },
  {
   "cell_type": "code",
   "execution_count": 22,
   "metadata": {},
   "outputs": [
    {
     "name": "stdout",
     "output_type": "stream",
     "text": [
      "WARNING:tensorflow:From C:\\Users\\Owner\\anaconda3\\lib\\site-packages\\keras\\backend\\tensorflow_backend.py:4070: The name tf.nn.max_pool is deprecated. Please use tf.nn.max_pool2d instead.\n",
      "\n"
     ]
    }
   ],
   "source": [
    "model = models.Sequential()\n",
    "model.add(layers.Conv2D(32, (3, 3), activation='relu', input_shape=(100, 100, 3)))\n",
    "model.add(layers.MaxPooling2D((2, 2)))\n",
    "model.add(layers.Conv2D(64, (3, 3), activation='relu'))\n",
    "model.add(layers.MaxPooling2D((2, 2)))\n",
    "model.add(layers.Conv2D(128, (3, 3), activation='relu'))\n",
    "model.add(layers.MaxPooling2D((2, 2)))\n",
    "model.add(layers.Conv2D(128, (3, 3), activation='relu'))\n",
    "model.add(layers.MaxPooling2D((2, 2)))\n",
    "model.add(layers.Flatten())\n",
    "model.add(layers.Dense(512, activation='relu'))\n",
    "model.add(layers.Dense(4, activation='softmax'))"
   ]
  },
  {
   "cell_type": "code",
   "execution_count": 23,
   "metadata": {},
   "outputs": [
    {
     "name": "stdout",
     "output_type": "stream",
     "text": [
      "Model: \"sequential_1\"\n",
      "_________________________________________________________________\n",
      "Layer (type)                 Output Shape              Param #   \n",
      "=================================================================\n",
      "conv2d_1 (Conv2D)            (None, 98, 98, 32)        896       \n",
      "_________________________________________________________________\n",
      "max_pooling2d_1 (MaxPooling2 (None, 49, 49, 32)        0         \n",
      "_________________________________________________________________\n",
      "conv2d_2 (Conv2D)            (None, 47, 47, 64)        18496     \n",
      "_________________________________________________________________\n",
      "max_pooling2d_2 (MaxPooling2 (None, 23, 23, 64)        0         \n",
      "_________________________________________________________________\n",
      "conv2d_3 (Conv2D)            (None, 21, 21, 128)       73856     \n",
      "_________________________________________________________________\n",
      "max_pooling2d_3 (MaxPooling2 (None, 10, 10, 128)       0         \n",
      "_________________________________________________________________\n",
      "conv2d_4 (Conv2D)            (None, 8, 8, 128)         147584    \n",
      "_________________________________________________________________\n",
      "max_pooling2d_4 (MaxPooling2 (None, 4, 4, 128)         0         \n",
      "_________________________________________________________________\n",
      "flatten_1 (Flatten)          (None, 2048)              0         \n",
      "_________________________________________________________________\n",
      "dense_1 (Dense)              (None, 512)               1049088   \n",
      "_________________________________________________________________\n",
      "dense_2 (Dense)              (None, 4)                 2052      \n",
      "=================================================================\n",
      "Total params: 1,291,972\n",
      "Trainable params: 1,291,972\n",
      "Non-trainable params: 0\n",
      "_________________________________________________________________\n"
     ]
    }
   ],
   "source": [
    "model.summary()"
   ]
  },
  {
   "cell_type": "code",
   "execution_count": 24,
   "metadata": {},
   "outputs": [],
   "source": [
    "from keras import optimizers\n",
    "\n",
    "model.compile(loss='categorical_crossentropy',\n",
    "             optimizer=optimizers.RMSprop(lr=1e-4),\n",
    "             metrics=['acc'])"
   ]
  },
  {
   "cell_type": "markdown",
   "metadata": {},
   "source": [
    "### data preprocessing"
   ]
  },
  {
   "cell_type": "code",
   "execution_count": 25,
   "metadata": {},
   "outputs": [],
   "source": [
    "from keras.preprocessing.image import ImageDataGenerator"
   ]
  },
  {
   "cell_type": "code",
   "execution_count": 26,
   "metadata": {},
   "outputs": [
    {
     "name": "stdout",
     "output_type": "stream",
     "text": [
      "Found 2800 images belonging to 4 classes.\n",
      "Found 400 images belonging to 4 classes.\n"
     ]
    }
   ],
   "source": [
    "train_datagen = ImageDataGenerator(rescale=1./255)\n",
    "test_datagen = ImageDataGenerator(rescale=1./255)\n",
    "\n",
    "train_generator = train_datagen.flow_from_directory(\n",
    "    train_dir,\n",
    "    target_size=(100, 100),\n",
    "    batch_size=20,\n",
    "    class_mode='categorical')\n",
    "\n",
    "validation_generator = test_datagen.flow_from_directory(\n",
    "    validation_dir,\n",
    "    target_size=(100, 100),\n",
    "    batch_size=20,\n",
    "    class_mode='categorical')"
   ]
  },
  {
   "cell_type": "markdown",
   "metadata": {},
   "source": [
    "### model training"
   ]
  },
  {
   "cell_type": "code",
   "execution_count": 27,
   "metadata": {
    "scrolled": true
   },
   "outputs": [
    {
     "name": "stdout",
     "output_type": "stream",
     "text": [
      "WARNING:tensorflow:From C:\\Users\\Owner\\anaconda3\\lib\\site-packages\\keras\\backend\\tensorflow_backend.py:422: The name tf.global_variables is deprecated. Please use tf.compat.v1.global_variables instead.\n",
      "\n",
      "Epoch 1/30\n",
      "120/120 [==============================] - 48s 402ms/step - loss: 1.3530 - acc: 0.3321 - val_loss: 1.3837 - val_acc: 0.4275\n",
      "Epoch 2/30\n",
      "120/120 [==============================] - 43s 357ms/step - loss: 1.1716 - acc: 0.4850 - val_loss: 1.1223 - val_acc: 0.5425\n",
      "Epoch 3/30\n",
      "120/120 [==============================] - 40s 329ms/step - loss: 1.0393 - acc: 0.5658 - val_loss: 0.9051 - val_acc: 0.5800\n",
      "Epoch 4/30\n",
      "120/120 [==============================] - 51s 426ms/step - loss: 0.9499 - acc: 0.6108 - val_loss: 0.7617 - val_acc: 0.6175\n",
      "Epoch 5/30\n",
      "120/120 [==============================] - 44s 365ms/step - loss: 0.8751 - acc: 0.6550 - val_loss: 0.9055 - val_acc: 0.6500\n",
      "Epoch 6/30\n",
      "120/120 [==============================] - 37s 306ms/step - loss: 0.8059 - acc: 0.6767 - val_loss: 0.7605 - val_acc: 0.6850\n",
      "Epoch 7/30\n",
      "120/120 [==============================] - 36s 303ms/step - loss: 0.7497 - acc: 0.7083 - val_loss: 0.9899 - val_acc: 0.6750\n",
      "Epoch 8/30\n",
      "120/120 [==============================] - 36s 300ms/step - loss: 0.6846 - acc: 0.7342 - val_loss: 1.0904 - val_acc: 0.6000\n",
      "Epoch 9/30\n",
      "120/120 [==============================] - 36s 301ms/step - loss: 0.6484 - acc: 0.7425 - val_loss: 0.6565 - val_acc: 0.6775\n",
      "Epoch 10/30\n",
      "120/120 [==============================] - 36s 302ms/step - loss: 0.5999 - acc: 0.7817 - val_loss: 0.6387 - val_acc: 0.6675\n",
      "Epoch 11/30\n",
      "120/120 [==============================] - 37s 306ms/step - loss: 0.5592 - acc: 0.7887 - val_loss: 1.0454 - val_acc: 0.6975\n",
      "Epoch 12/30\n",
      "120/120 [==============================] - 36s 301ms/step - loss: 0.5330 - acc: 0.7979 - val_loss: 0.3423 - val_acc: 0.7100\n",
      "Epoch 13/30\n",
      "120/120 [==============================] - 36s 301ms/step - loss: 0.4965 - acc: 0.8087 - val_loss: 0.8568 - val_acc: 0.7150\n",
      "Epoch 14/30\n",
      "120/120 [==============================] - 36s 301ms/step - loss: 0.4484 - acc: 0.8383 - val_loss: 0.6206 - val_acc: 0.7000\n",
      "Epoch 15/30\n",
      "120/120 [==============================] - 36s 304ms/step - loss: 0.4197 - acc: 0.8487 - val_loss: 0.8423 - val_acc: 0.6750\n",
      "Epoch 16/30\n",
      "120/120 [==============================] - 36s 301ms/step - loss: 0.3708 - acc: 0.8646 - val_loss: 1.3307 - val_acc: 0.7050\n",
      "Epoch 17/30\n",
      "120/120 [==============================] - 36s 301ms/step - loss: 0.3628 - acc: 0.8700 - val_loss: 0.6269 - val_acc: 0.7500\n",
      "Epoch 18/30\n",
      "120/120 [==============================] - 37s 306ms/step - loss: 0.3292 - acc: 0.8808 - val_loss: 0.7554 - val_acc: 0.7525\n",
      "Epoch 19/30\n",
      "120/120 [==============================] - 36s 303ms/step - loss: 0.2936 - acc: 0.9029 - val_loss: 0.6230 - val_acc: 0.7650\n",
      "Epoch 20/30\n",
      "120/120 [==============================] - 36s 302ms/step - loss: 0.2637 - acc: 0.9087 - val_loss: 0.3005 - val_acc: 0.7575\n",
      "Epoch 21/30\n",
      "120/120 [==============================] - 36s 303ms/step - loss: 0.2458 - acc: 0.9204 - val_loss: 1.2212 - val_acc: 0.7575\n",
      "Epoch 22/30\n",
      "120/120 [==============================] - 36s 302ms/step - loss: 0.2011 - acc: 0.9425 - val_loss: 1.2058 - val_acc: 0.7700\n",
      "Epoch 23/30\n",
      "120/120 [==============================] - 36s 301ms/step - loss: 0.1877 - acc: 0.9367 - val_loss: 0.6816 - val_acc: 0.7800\n",
      "Epoch 24/30\n",
      "120/120 [==============================] - 36s 301ms/step - loss: 0.1677 - acc: 0.9513 - val_loss: 0.7781 - val_acc: 0.7625\n",
      "Epoch 25/30\n",
      "120/120 [==============================] - 36s 302ms/step - loss: 0.1435 - acc: 0.9592 - val_loss: 0.7092 - val_acc: 0.7975\n",
      "Epoch 26/30\n",
      "120/120 [==============================] - 36s 301ms/step - loss: 0.1335 - acc: 0.9642 - val_loss: 0.2336 - val_acc: 0.7750\n",
      "Epoch 27/30\n",
      "120/120 [==============================] - 36s 300ms/step - loss: 0.1041 - acc: 0.9746 - val_loss: 1.5876 - val_acc: 0.7625\n",
      "Epoch 28/30\n",
      "120/120 [==============================] - 36s 303ms/step - loss: 0.0965 - acc: 0.9750 - val_loss: 0.1167 - val_acc: 0.7675\n",
      "Epoch 29/30\n",
      "120/120 [==============================] - 37s 306ms/step - loss: 0.0786 - acc: 0.9804 - val_loss: 0.4680 - val_acc: 0.7875\n",
      "Epoch 30/30\n",
      "120/120 [==============================] - 36s 300ms/step - loss: 0.0657 - acc: 0.9862 - val_loss: 0.2604 - val_acc: 0.7800\n"
     ]
    }
   ],
   "source": [
    "history = model.fit_generator(train_generator,\n",
    "                             steps_per_epoch=120,\n",
    "                             epochs=30,\n",
    "                             validation_data=validation_generator,\n",
    "                             validation_steps=40)"
   ]
  },
  {
   "cell_type": "code",
   "execution_count": 28,
   "metadata": {},
   "outputs": [],
   "source": [
    "model.save('model_1.h5')"
   ]
  },
  {
   "cell_type": "code",
   "execution_count": 29,
   "metadata": {},
   "outputs": [],
   "source": [
    "import keras\n",
    "\n",
    "model_1 = keras.models.load_model('model_1.h5')"
   ]
  },
  {
   "cell_type": "code",
   "execution_count": 30,
   "metadata": {},
   "outputs": [
    {
     "name": "stdout",
     "output_type": "stream",
     "text": [
      "Found 800 images belonging to 4 classes.\n"
     ]
    }
   ],
   "source": [
    "test_generator = test_datagen.flow_from_directory(\n",
    "    test_dir,\n",
    "    target_size=(100, 100),\n",
    "    batch_size=20,\n",
    "    class_mode='categorical')"
   ]
  },
  {
   "cell_type": "code",
   "execution_count": 32,
   "metadata": {},
   "outputs": [
    {
     "name": "stdout",
     "output_type": "stream",
     "text": [
      "test acc: 0.8050000071525574\n"
     ]
    }
   ],
   "source": [
    "test_loss, test_acc = model_1.evaluate_generator(test_generator, steps=(800/20))\n",
    "print('test acc:', test_acc)"
   ]
  },
  {
   "cell_type": "markdown",
   "metadata": {},
   "source": [
    "### acc, loss graph"
   ]
  },
  {
   "cell_type": "code",
   "execution_count": 33,
   "metadata": {},
   "outputs": [],
   "source": [
    "import matplotlib.pyplot as plt"
   ]
  },
  {
   "cell_type": "code",
   "execution_count": 34,
   "metadata": {},
   "outputs": [
    {
     "data": {
      "image/png": "[encoded data removed]",
      "text/plain": [
       "<Figure size 432x288 with 1 Axes>"
      ]
     },
     "metadata": {
      "needs_background": "light"
     },
     "output_type": "display_data"
    },
    {
     "data": {
      "image/png": "[encoded data removed]",
      "text/plain": [
       "<Figure size 432x288 with 1 Axes>"
      ]
     },
     "metadata": {
      "needs_background": "light"
     },
     "output_type": "display_data"
    }
   ],
   "source": [
    "acc = history.history['acc']\n",
    "val_acc = history.history['val_acc']\n",
    "loss = history.history['loss']\n",
    "val_loss = history.history['val_loss']\n",
    "\n",
    "epochs = range(1, len(acc) + 1)\n",
    "\n",
    "plt.plot(epochs, acc, 'bo', label='Training acc')\n",
    "plt.plot(epochs, val_acc, 'b', label='Validation acc')\n",
    "plt.title('Training and validation accuracy')\n",
    "plt.legend()\n",
    "\n",
    "plt.figure()\n",
    "\n",
    "plt.plot(epochs, loss, 'bo', label='Training loss')\n",
    "plt.plot(epochs, val_loss, 'b', label='Validation loss')\n",
    "plt.title('Training and validation loss')\n",
    "plt.legend()\n",
    "\n",
    "plt.show()"
   ]
  },
  {
   "cell_type": "markdown",
   "metadata": {},
   "source": [
    "### Data augmentation"
   ]
  },
  {
   "cell_type": "code",
   "execution_count": 41,
   "metadata": {},
   "outputs": [],
   "source": [
    "datagen = ImageDataGenerator(rotation_range=2,\n",
    "                            width_shift_range=0.1,\n",
    "                            height_shift_range=0.1,\n",
    "                            shear_range=0.1,\n",
    "                            zoom_range=0.2,\n",
    "                            horizontal_flip=True,\n",
    "                            fill_mode='nearest')"
   ]
  },
  {
   "cell_type": "code",
   "execution_count": 43,
   "metadata": {
    "scrolled": true
   },
   "outputs": [
    {
     "data": {
      "image/png": "[encoded data removed]",
      "text/plain": [
       "<Figure size 432x288 with 1 Axes>"
      ]
     },
     "metadata": {
      "needs_background": "light"
     },
     "output_type": "display_data"
    },
    {
     "data": {
      "image/png": "[encoded data removed]",
      "text/plain": [
       "<Figure size 432x288 with 1 Axes>"
      ]
     },
     "metadata": {
      "needs_background": "light"
     },
     "output_type": "display_data"
    },
    {
     "data": {
      "image/png": "[encoded data removed]",
      "text/plain": [
       "<Figure size 432x288 with 1 Axes>"
      ]
     },
     "metadata": {
      "needs_background": "light"
     },
     "output_type": "display_data"
    },
    {
     "data": {
      "image/png": "[encoded data removed]",
      "text/plain": [
       "<Figure size 432x288 with 1 Axes>"
      ]
     },
     "metadata": {
      "needs_background": "light"
     },
     "output_type": "display_data"
    }
   ],
   "source": [
    "from keras.preprocessing import image\n",
    "\n",
    "fnames = sorted([os.path.join(train_pullup_dir, fname) for\n",
    "                fname in os.listdir(train_pullup_dir)])\n",
    "\n",
    "img_path = fnames[3]\n",
    "\n",
    "img = image.load_img(img_path, target_size=(100, 100))\n",
    "\n",
    "x = image.img_to_array(img)\n",
    "x = x.reshape((1,) + x.shape)\n",
    "\n",
    "i = 0\n",
    "for batch in datagen.flow(x, batch_size=1):\n",
    "    plt.figure(i)\n",
    "    imgplot = plt.imshow(image.array_to_img(batch[0]))\n",
    "    i += 1\n",
    "    if i % 4 == 0:\n",
    "        break\n",
    "plt.show()"
   ]
  },
  {
   "cell_type": "markdown",
   "metadata": {},
   "source": [
    "# Model 2"
   ]
  },
  {
   "cell_type": "markdown",
   "metadata": {},
   "source": [
    "### New model (with Data augmentation & Dropout)"
   ]
  },
  {
   "cell_type": "code",
   "execution_count": 44,
   "metadata": {},
   "outputs": [],
   "source": [
    "model = models.Sequential()\n",
    "model.add(layers.Conv2D(32, (3, 3), activation='relu', input_shape=(100, 100, 3)))\n",
    "model.add(layers.MaxPooling2D((2, 2)))\n",
    "\n",
    "model.add(layers.Conv2D(64, (3, 3), activation='relu'))\n",
    "model.add(layers.MaxPooling2D((2, 2)))\n",
    "\n",
    "model.add(layers.Conv2D(128, (3, 3), activation='relu'))\n",
    "model.add(layers.MaxPooling2D((2, 2)))\n",
    "\n",
    "model.add(layers.Conv2D(128, (3, 3), activation='relu'))\n",
    "model.add(layers.MaxPooling2D((2, 2)))\n",
    "\n",
    "model.add(layers.Flatten())\n",
    "model.add(layers.Dropout(0.5))\n",
    "model.add(layers.Dense(512, activation='relu'))\n",
    "model.add(layers.Dense(4, activation='softmax'))\n",
    "\n",
    "from keras import optimizers\n",
    "\n",
    "model.compile(loss='categorical_crossentropy',\n",
    "             optimizer=optimizers.RMSprop(lr=1e-4),\n",
    "             metrics=['acc'])"
   ]
  },
  {
   "cell_type": "markdown",
   "metadata": {},
   "source": [
    "### Training new model using Data augmentions & Dropout"
   ]
  },
  {
   "cell_type": "code",
   "execution_count": 45,
   "metadata": {
    "scrolled": true
   },
   "outputs": [
    {
     "name": "stdout",
     "output_type": "stream",
     "text": [
      "Found 2800 images belonging to 4 classes.\n",
      "Epoch 1/30\n",
      "120/120 [==============================] - 46s 380ms/step - loss: 1.3817 - acc: 0.2796 - val_loss: 1.3791 - val_acc: 0.3375\n",
      "Epoch 2/30\n",
      "120/120 [==============================] - 43s 355ms/step - loss: 1.3393 - acc: 0.3600 - val_loss: 1.3175 - val_acc: 0.4375\n",
      "Epoch 3/30\n",
      "120/120 [==============================] - 41s 344ms/step - loss: 1.2676 - acc: 0.4183 - val_loss: 1.1635 - val_acc: 0.4875\n",
      "Epoch 4/30\n",
      "120/120 [==============================] - 39s 324ms/step - loss: 1.1938 - acc: 0.4812 - val_loss: 1.2399 - val_acc: 0.5400\n",
      "Epoch 5/30\n",
      "120/120 [==============================] - 39s 325ms/step - loss: 1.1580 - acc: 0.4942 - val_loss: 1.0267 - val_acc: 0.5525\n",
      "Epoch 6/30\n",
      "120/120 [==============================] - 39s 324ms/step - loss: 1.1126 - acc: 0.5221 - val_loss: 1.2262 - val_acc: 0.5550\n",
      "Epoch 7/30\n",
      "120/120 [==============================] - 39s 324ms/step - loss: 1.0536 - acc: 0.5454 - val_loss: 0.5340 - val_acc: 0.6275\n",
      "Epoch 8/30\n",
      "120/120 [==============================] - 40s 329ms/step - loss: 1.0249 - acc: 0.5679 - val_loss: 0.9835 - val_acc: 0.5950\n",
      "Epoch 9/30\n",
      "120/120 [==============================] - 39s 327ms/step - loss: 0.9728 - acc: 0.6017 - val_loss: 0.7750 - val_acc: 0.6350\n",
      "Epoch 10/30\n",
      "120/120 [==============================] - 39s 328ms/step - loss: 0.9630 - acc: 0.6000 - val_loss: 0.8191 - val_acc: 0.6125\n",
      "Epoch 11/30\n",
      "120/120 [==============================] - 39s 326ms/step - loss: 0.9479 - acc: 0.6137 - val_loss: 1.0407 - val_acc: 0.6650\n",
      "Epoch 12/30\n",
      "120/120 [==============================] - 39s 326ms/step - loss: 0.9032 - acc: 0.6258 - val_loss: 1.2329 - val_acc: 0.6650\n",
      "Epoch 13/30\n",
      "120/120 [==============================] - 39s 327ms/step - loss: 0.9072 - acc: 0.6304 - val_loss: 0.8692 - val_acc: 0.6725\n",
      "Epoch 14/30\n",
      "120/120 [==============================] - 40s 329ms/step - loss: 0.8603 - acc: 0.6558 - val_loss: 0.6641 - val_acc: 0.6825\n",
      "Epoch 15/30\n",
      "120/120 [==============================] - 39s 329ms/step - loss: 0.8562 - acc: 0.6500 - val_loss: 0.6710 - val_acc: 0.6800\n",
      "Epoch 16/30\n",
      "120/120 [==============================] - 39s 326ms/step - loss: 0.8249 - acc: 0.6692 - val_loss: 0.8091 - val_acc: 0.7125\n",
      "Epoch 17/30\n",
      "120/120 [==============================] - 39s 326ms/step - loss: 0.8088 - acc: 0.6896 - val_loss: 0.7842 - val_acc: 0.7175\n",
      "Epoch 18/30\n",
      "120/120 [==============================] - 39s 327ms/step - loss: 0.8023 - acc: 0.6742 - val_loss: 0.8905 - val_acc: 0.7175\n",
      "Epoch 19/30\n",
      "120/120 [==============================] - 39s 326ms/step - loss: 0.7754 - acc: 0.6858 - val_loss: 0.7630 - val_acc: 0.7150\n",
      "Epoch 20/30\n",
      "120/120 [==============================] - 39s 325ms/step - loss: 0.7623 - acc: 0.7029 - val_loss: 0.4119 - val_acc: 0.7275\n",
      "Epoch 21/30\n",
      "120/120 [==============================] - 39s 326ms/step - loss: 0.7459 - acc: 0.7038 - val_loss: 0.6519 - val_acc: 0.6725\n",
      "Epoch 22/30\n",
      "120/120 [==============================] - 39s 326ms/step - loss: 0.7224 - acc: 0.7167 - val_loss: 0.8624 - val_acc: 0.7650\n",
      "Epoch 23/30\n",
      "120/120 [==============================] - 39s 326ms/step - loss: 0.7298 - acc: 0.7212 - val_loss: 0.6231 - val_acc: 0.7675\n",
      "Epoch 24/30\n",
      "120/120 [==============================] - 39s 327ms/step - loss: 0.7051 - acc: 0.7254 - val_loss: 0.6895 - val_acc: 0.7500\n",
      "Epoch 25/30\n",
      "120/120 [==============================] - 39s 326ms/step - loss: 0.7107 - acc: 0.7246 - val_loss: 0.3229 - val_acc: 0.7600\n",
      "Epoch 26/30\n",
      "120/120 [==============================] - 42s 352ms/step - loss: 0.6684 - acc: 0.7321 - val_loss: 0.5979 - val_acc: 0.7500\n",
      "Epoch 27/30\n",
      "120/120 [==============================] - 40s 335ms/step - loss: 0.6683 - acc: 0.7508 - val_loss: 0.9771 - val_acc: 0.7050\n",
      "Epoch 28/30\n",
      "120/120 [==============================] - 39s 327ms/step - loss: 0.6565 - acc: 0.7442 - val_loss: 0.5356 - val_acc: 0.7850\n",
      "Epoch 29/30\n",
      "120/120 [==============================] - 39s 327ms/step - loss: 0.6600 - acc: 0.7471 - val_loss: 0.3719 - val_acc: 0.8150\n",
      "Epoch 30/30\n",
      "120/120 [==============================] - 39s 326ms/step - loss: 0.6497 - acc: 0.7517 - val_loss: 0.4032 - val_acc: 0.7875\n"
     ]
    }
   ],
   "source": [
    "train_datagen = ImageDataGenerator(rescale=1./255,\n",
    "                                   rotation_range=2,\n",
    "                                   width_shift_range=0.1,\n",
    "                                   height_shift_range=0.1,\n",
    "                                   shear_range=0.1,\n",
    "                                   zoom_range=0.2,\n",
    "                                   horizontal_flip=True,\n",
    "                                   fill_mode='nearest')\n",
    "\n",
    "test_datagen = ImageDataGenerator(rescale=1./255)\n",
    "\n",
    "train_generator = train_datagen.flow_from_directory(train_dir,\n",
    "                                                   target_size=(100, 100),\n",
    "                                                   batch_size=20,\n",
    "                                                   class_mode='categorical')\n",
    "\n",
    "history = model.fit_generator(train_generator,\n",
    "                             steps_per_epoch=120,\n",
    "                             epochs=30,\n",
    "                             validation_data=validation_generator,\n",
    "                             validation_steps=40)"
   ]
  },
  {
   "cell_type": "code",
   "execution_count": 46,
   "metadata": {},
   "outputs": [],
   "source": [
    "model.save('model_2.h5')"
   ]
  },
  {
   "cell_type": "code",
   "execution_count": 47,
   "metadata": {},
   "outputs": [],
   "source": [
    "import keras\n",
    "\n",
    "model_2 = keras.models.load_model('model_2.h5')"
   ]
  },
  {
   "cell_type": "code",
   "execution_count": 48,
   "metadata": {},
   "outputs": [
    {
     "name": "stdout",
     "output_type": "stream",
     "text": [
      "Found 800 images belonging to 4 classes.\n"
     ]
    }
   ],
   "source": [
    "test_generator = test_datagen.flow_from_directory(\n",
    "    test_dir,\n",
    "    target_size=(100, 100),\n",
    "    batch_size=20,\n",
    "    class_mode='categorical')"
   ]
  },
  {
   "cell_type": "code",
   "execution_count": 49,
   "metadata": {},
   "outputs": [
    {
     "name": "stdout",
     "output_type": "stream",
     "text": [
      "test acc: 0.8149999976158142\n"
     ]
    }
   ],
   "source": [
    "test_loss, test_acc = model_2.evaluate_generator(test_generator, steps=(800/20))\n",
    "print('test acc:', test_acc)"
   ]
  },
  {
   "cell_type": "markdown",
   "metadata": {},
   "source": [
    "### acc, loss graph"
   ]
  },
  {
   "cell_type": "code",
   "execution_count": 50,
   "metadata": {},
   "outputs": [],
   "source": [
    "import matplotlib.pyplot as plt"
   ]
  },
  {
   "cell_type": "code",
   "execution_count": 51,
   "metadata": {},
   "outputs": [
    {
     "data": {
      "image/png": "[encoded data removed]",
      "text/plain": [
       "<Figure size 432x288 with 1 Axes>"
      ]
     },
     "metadata": {
      "needs_background": "light"
     },
     "output_type": "display_data"
    },
    {
     "data": {
      "image/png": "[encoded data removed]",
      "text/plain": [
       "<Figure size 432x288 with 1 Axes>"
      ]
     },
     "metadata": {
      "needs_background": "light"
     },
     "output_type": "display_data"
    }
   ],
   "source": [
    "acc = history.history['acc']\n",
    "val_acc = history.history['val_acc']\n",
    "loss = history.history['loss']\n",
    "val_loss = history.history['val_loss']\n",
    "\n",
    "epochs = range(1, len(acc) + 1)\n",
    "\n",
    "plt.plot(epochs, acc, 'bo', label='Training acc')\n",
    "plt.plot(epochs, val_acc, 'b', label='Validation acc')\n",
    "plt.title('Training and validation accuracy')\n",
    "plt.legend()\n",
    "\n",
    "plt.figure()\n",
    "\n",
    "plt.plot(epochs, loss, 'bo', label='Training loss')\n",
    "plt.plot(epochs, val_loss, 'b', label='Validation loss')\n",
    "plt.title('Training and validation loss')\n",
    "plt.legend()\n",
    "\n",
    "plt.show()"
   ]
  },
  {
   "cell_type": "markdown",
   "metadata": {},
   "source": [
    "- training accuracy가 75%까지 밖에 못 갔다. epochs 수를 늘려줄 필요가 있다.\n",
    "- hidden layer의 갯수의 증감에 따라 모델의 정확도가 어떻게 변하는지도 확인해보자."
   ]
  },
  {
   "cell_type": "markdown",
   "metadata": {},
   "source": [
    "# Model 3"
   ]
  },
  {
   "cell_type": "markdown",
   "metadata": {},
   "source": [
    "hidden layer 5개로 증가."
   ]
  },
  {
   "cell_type": "code",
   "execution_count": null,
   "metadata": {},
   "outputs": [],
   "source": [
    "# creating model\n",
    "\n",
    "model = models.Sequential()\n",
    "model.add(layers.Conv2D(32, (3, 3), activation='relu', input_shape=(100, 100, 3)))\n",
    "model.add(layers.MaxPooling2D((2, 2)))\n",
    "\n",
    "model.add(layers.Conv2D(64, (3, 3), activation='relu'))\n",
    "model.add(layers.MaxPooling2D((2, 2)))\n",
    "\n",
    "model.add(layers.Conv2D(128, (3, 3), activation='relu'))\n",
    "model.add(layers.MaxPooling2D((2, 2)))\n",
    "\n",
    "model.add(layers.Conv2D(128, (3, 3), activation='relu'))\n",
    "model.add(layers.MaxPooling2D((2, 2)))\n",
    "\n",
    "model.add(layers.Conv2D(128, (3, 3), activation='relu'))\n",
    "model.add(layers.MaxPooling2D((2, 2)))\n",
    "\n",
    "model.add(layers.Flatten())\n",
    "model.add(layers.Dropout(0.5))\n",
    "model.add(layers.Dense(512, activation='relu'))\n",
    "model.add(layers.Dense(4, activation='softmax'))\n",
    "\n",
    "from keras import optimizers\n",
    "\n",
    "model.compile(loss='categorical_crossentropy',\n",
    "             optimizer=optimizers.RMSprop(lr=1e-4),\n",
    "             metrics=['acc'])"
   ]
  },
  {
   "cell_type": "code",
   "execution_count": 53,
   "metadata": {
    "scrolled": true
   },
   "outputs": [
    {
     "name": "stdout",
     "output_type": "stream",
     "text": [
      "Found 2800 images belonging to 4 classes.\n",
      "Epoch 1/30\n",
      "120/120 [==============================] - 38s 318ms/step - loss: 1.3877 - acc: 0.2479 - val_loss: 1.3819 - val_acc: 0.2500\n",
      "Epoch 2/30\n",
      "120/120 [==============================] - 37s 308ms/step - loss: 1.3833 - acc: 0.2858 - val_loss: 1.4045 - val_acc: 0.3425\n",
      "Epoch 3/30\n",
      "120/120 [==============================] - 38s 313ms/step - loss: 1.3703 - acc: 0.3025 - val_loss: 1.3195 - val_acc: 0.3825\n",
      "Epoch 4/30\n",
      "120/120 [==============================] - 36s 302ms/step - loss: 1.3301 - acc: 0.3492 - val_loss: 1.2714 - val_acc: 0.4325\n",
      "Epoch 5/30\n",
      "120/120 [==============================] - 36s 304ms/step - loss: 1.2827 - acc: 0.3988 - val_loss: 1.0590 - val_acc: 0.4725\n",
      "Epoch 6/30\n",
      "120/120 [==============================] - 36s 300ms/step - loss: 1.2268 - acc: 0.4317 - val_loss: 1.0630 - val_acc: 0.4550\n",
      "Epoch 7/30\n",
      "120/120 [==============================] - 36s 300ms/step - loss: 1.1941 - acc: 0.4633 - val_loss: 1.0407 - val_acc: 0.5000\n",
      "Epoch 8/30\n",
      "120/120 [==============================] - 36s 302ms/step - loss: 1.1589 - acc: 0.4863 - val_loss: 0.8847 - val_acc: 0.5000\n",
      "Epoch 9/30\n",
      "120/120 [==============================] - 36s 300ms/step - loss: 1.1255 - acc: 0.4954 - val_loss: 1.0324 - val_acc: 0.5500\n",
      "Epoch 10/30\n",
      "120/120 [==============================] - 36s 301ms/step - loss: 1.1008 - acc: 0.5208 - val_loss: 1.3864 - val_acc: 0.5475\n",
      "Epoch 11/30\n",
      "120/120 [==============================] - 37s 304ms/step - loss: 1.0785 - acc: 0.5304 - val_loss: 0.9457 - val_acc: 0.5375\n",
      "Epoch 12/30\n",
      "120/120 [==============================] - 36s 302ms/step - loss: 1.0697 - acc: 0.5383 - val_loss: 1.0253 - val_acc: 0.5050\n",
      "Epoch 13/30\n",
      "120/120 [==============================] - 36s 301ms/step - loss: 1.0167 - acc: 0.5571 - val_loss: 0.9495 - val_acc: 0.5900\n",
      "Epoch 14/30\n",
      "120/120 [==============================] - 36s 301ms/step - loss: 1.0084 - acc: 0.5763 - val_loss: 0.7482 - val_acc: 0.5450\n",
      "Epoch 15/30\n",
      "120/120 [==============================] - 36s 301ms/step - loss: 0.9684 - acc: 0.5871 - val_loss: 0.8890 - val_acc: 0.6075\n",
      "Epoch 16/30\n",
      "120/120 [==============================] - 36s 301ms/step - loss: 0.9749 - acc: 0.6083 - val_loss: 1.0022 - val_acc: 0.5800\n",
      "Epoch 17/30\n",
      "120/120 [==============================] - 36s 300ms/step - loss: 0.9405 - acc: 0.6096 - val_loss: 0.9157 - val_acc: 0.6050\n",
      "Epoch 18/30\n",
      "120/120 [==============================] - 36s 301ms/step - loss: 0.9224 - acc: 0.6279 - val_loss: 0.8165 - val_acc: 0.6475\n",
      "Epoch 19/30\n",
      "120/120 [==============================] - 36s 301ms/step - loss: 0.8989 - acc: 0.6388 - val_loss: 0.7166 - val_acc: 0.6775\n",
      "Epoch 20/30\n",
      "120/120 [==============================] - 36s 301ms/step - loss: 0.8782 - acc: 0.6325 - val_loss: 1.1128 - val_acc: 0.6350\n",
      "Epoch 21/30\n",
      "120/120 [==============================] - 36s 301ms/step - loss: 0.8771 - acc: 0.6438 - val_loss: 0.5696 - val_acc: 0.6450\n",
      "Epoch 22/30\n",
      "120/120 [==============================] - 36s 302ms/step - loss: 0.8304 - acc: 0.6650 - val_loss: 0.5303 - val_acc: 0.6450\n",
      "Epoch 23/30\n",
      "120/120 [==============================] - 36s 301ms/step - loss: 0.8599 - acc: 0.6454 - val_loss: 0.5039 - val_acc: 0.6725\n",
      "Epoch 24/30\n",
      "120/120 [==============================] - 36s 300ms/step - loss: 0.8123 - acc: 0.6746 - val_loss: 0.5664 - val_acc: 0.6825\n",
      "Epoch 25/30\n",
      "120/120 [==============================] - 36s 302ms/step - loss: 0.8096 - acc: 0.6842 - val_loss: 0.3948 - val_acc: 0.7125\n",
      "Epoch 26/30\n",
      "120/120 [==============================] - 36s 301ms/step - loss: 0.8046 - acc: 0.6729 - val_loss: 0.6762 - val_acc: 0.6550\n",
      "Epoch 27/30\n",
      "120/120 [==============================] - 36s 300ms/step - loss: 0.7642 - acc: 0.6954 - val_loss: 0.9094 - val_acc: 0.6825\n",
      "Epoch 28/30\n",
      "120/120 [==============================] - 36s 301ms/step - loss: 0.7668 - acc: 0.6971 - val_loss: 0.6671 - val_acc: 0.7050\n",
      "Epoch 29/30\n",
      "120/120 [==============================] - 36s 303ms/step - loss: 0.7582 - acc: 0.6967 - val_loss: 0.6534 - val_acc: 0.7325\n",
      "Epoch 30/30\n",
      "120/120 [==============================] - 36s 300ms/step - loss: 0.7200 - acc: 0.7221 - val_loss: 0.5038 - val_acc: 0.7275\n"
     ]
    }
   ],
   "source": [
    "# model training\n",
    "\n",
    "train_datagen = ImageDataGenerator(rescale=1./255,\n",
    "                                   rotation_range=2,\n",
    "                                   width_shift_range=0.1,\n",
    "                                   height_shift_range=0.1,\n",
    "                                   shear_range=0.1,\n",
    "                                   zoom_range=0.2,\n",
    "                                   horizontal_flip=True,\n",
    "                                   fill_mode='nearest')\n",
    "\n",
    "test_datagen = ImageDataGenerator(rescale=1./255)\n",
    "\n",
    "train_generator = train_datagen.flow_from_directory(train_dir,\n",
    "                                                   target_size=(100, 100),\n",
    "                                                   batch_size=20,\n",
    "                                                   class_mode='categorical')\n",
    "\n",
    "history = model.fit_generator(train_generator,\n",
    "                             steps_per_epoch=120,\n",
    "                             epochs=30,\n",
    "                             validation_data=validation_generator,\n",
    "                             validation_steps=40)"
   ]
  },
  {
   "cell_type": "code",
   "execution_count": 54,
   "metadata": {},
   "outputs": [],
   "source": [
    "model.save('model_3.h5')"
   ]
  },
  {
   "cell_type": "code",
   "execution_count": 55,
   "metadata": {},
   "outputs": [],
   "source": [
    "import keras\n",
    "\n",
    "model_3 = keras.models.load_model('model_3.h5')"
   ]
  },
  {
   "cell_type": "code",
   "execution_count": 56,
   "metadata": {},
   "outputs": [
    {
     "name": "stdout",
     "output_type": "stream",
     "text": [
      "Found 800 images belonging to 4 classes.\n"
     ]
    }
   ],
   "source": [
    "test_generator = test_datagen.flow_from_directory(\n",
    "    test_dir,\n",
    "    target_size=(100, 100),\n",
    "    batch_size=20,\n",
    "    class_mode='categorical')"
   ]
  },
  {
   "cell_type": "code",
   "execution_count": 57,
   "metadata": {},
   "outputs": [
    {
     "name": "stdout",
     "output_type": "stream",
     "text": [
      "test acc: 0.8050000071525574\n"
     ]
    }
   ],
   "source": [
    "test_loss, test_acc = model_3.evaluate_generator(test_generator, steps=(800/20))\n",
    "print('test acc:', test_acc)"
   ]
  },
  {
   "cell_type": "markdown",
   "metadata": {},
   "source": [
    "### acc, loss graph"
   ]
  },
  {
   "cell_type": "code",
   "execution_count": 58,
   "metadata": {},
   "outputs": [],
   "source": [
    "import matplotlib.pyplot as plt"
   ]
  },
  {
   "cell_type": "code",
   "execution_count": 59,
   "metadata": {},
   "outputs": [
    {
     "data": {
      "image/png": "[encoded data removed]",
      "text/plain": [
       "<Figure size 432x288 with 1 Axes>"
      ]
     },
     "metadata": {
      "needs_background": "light"
     },
     "output_type": "display_data"
    },
    {
     "data": {
      "image/png": "[encoded data removed]",
      "text/plain": [
       "<Figure size 432x288 with 1 Axes>"
      ]
     },
     "metadata": {
      "needs_background": "light"
     },
     "output_type": "display_data"
    }
   ],
   "source": [
    "acc = history.history['acc']\n",
    "val_acc = history.history['val_acc']\n",
    "loss = history.history['loss']\n",
    "val_loss = history.history['val_loss']\n",
    "\n",
    "epochs = range(1, len(acc) + 1)\n",
    "\n",
    "plt.plot(epochs, acc, 'bo', label='Training acc')\n",
    "plt.plot(epochs, val_acc, 'b', label='Validation acc')\n",
    "plt.title('Training and validation accuracy')\n",
    "plt.legend()\n",
    "\n",
    "plt.figure()\n",
    "\n",
    "plt.plot(epochs, loss, 'bo', label='Training loss')\n",
    "plt.plot(epochs, val_loss, 'b', label='Validation loss')\n",
    "plt.title('Training and validation loss')\n",
    "plt.legend()\n",
    "\n",
    "plt.show()"
   ]
  },
  {
   "cell_type": "markdown",
   "metadata": {},
   "source": [
    "- Model 3에서와 마찬가지로 training accuracy가 72%까지 밖에 못 갔다. epochs 수를 늘려줄 필요가 있다.\n",
    "- hidden layer 수를 5개로 늘렸는데 오히려 정확도가 감소하였다. hidden layer 수는 4개 이상으로 늘리지 말고, 현재로서는 4개로 진행해보자."
   ]
  },
  {
   "cell_type": "markdown",
   "metadata": {},
   "source": [
    "# Model 4"
   ]
  },
  {
   "cell_type": "markdown",
   "metadata": {},
   "source": [
    "hidden layer 4개 / epochs 100"
   ]
  },
  {
   "cell_type": "code",
   "execution_count": 62,
   "metadata": {},
   "outputs": [],
   "source": [
    "# creating model\n",
    "\n",
    "model = models.Sequential()\n",
    "model.add(layers.Conv2D(32, (3, 3), activation='relu', input_shape=(100, 100, 3)))\n",
    "model.add(layers.MaxPooling2D((2, 2)))\n",
    "\n",
    "model.add(layers.Conv2D(64, (3, 3), activation='relu'))\n",
    "model.add(layers.MaxPooling2D((2, 2)))\n",
    "\n",
    "model.add(layers.Conv2D(128, (3, 3), activation='relu'))\n",
    "model.add(layers.MaxPooling2D((2, 2)))\n",
    "\n",
    "model.add(layers.Conv2D(128, (3, 3), activation='relu'))\n",
    "model.add(layers.MaxPooling2D((2, 2)))\n",
    "\n",
    "model.add(layers.Flatten())\n",
    "model.add(layers.Dropout(0.5))\n",
    "model.add(layers.Dense(512, activation='relu'))\n",
    "model.add(layers.Dense(4, activation='softmax'))\n",
    "\n",
    "from keras import optimizers\n",
    "\n",
    "model.compile(loss='categorical_crossentropy',\n",
    "             optimizer=optimizers.RMSprop(lr=1e-4),\n",
    "             metrics=['acc'])"
   ]
  },
  {
   "cell_type": "code",
   "execution_count": 63,
   "metadata": {
    "scrolled": true
   },
   "outputs": [
    {
     "name": "stdout",
     "output_type": "stream",
     "text": [
      "Found 2800 images belonging to 4 classes.\n",
      "Epoch 1/100\n",
      "120/120 [==============================] - 41s 338ms/step - loss: 1.3863 - acc: 0.2688 - val_loss: 1.3377 - val_acc: 0.4200\n",
      "Epoch 2/100\n",
      "120/120 [==============================] - 40s 330ms/step - loss: 1.3371 - acc: 0.3579 - val_loss: 1.1989 - val_acc: 0.3875\n",
      "Epoch 3/100\n",
      "120/120 [==============================] - 40s 334ms/step - loss: 1.2565 - acc: 0.4229 - val_loss: 1.2750 - val_acc: 0.4700\n",
      "Epoch 4/100\n",
      "120/120 [==============================] - 39s 323ms/step - loss: 1.1957 - acc: 0.4608 - val_loss: 0.9871 - val_acc: 0.5475\n",
      "Epoch 5/100\n",
      "120/120 [==============================] - 39s 323ms/step - loss: 1.1243 - acc: 0.5192 - val_loss: 0.8773 - val_acc: 0.5025\n",
      "Epoch 6/100\n",
      "120/120 [==============================] - 38s 321ms/step - loss: 1.0996 - acc: 0.5300 - val_loss: 0.8813 - val_acc: 0.5975\n",
      "Epoch 7/100\n",
      "120/120 [==============================] - 39s 325ms/step - loss: 1.0400 - acc: 0.5646 - val_loss: 0.9789 - val_acc: 0.5925\n",
      "Epoch 8/100\n",
      "120/120 [==============================] - 39s 325ms/step - loss: 1.0017 - acc: 0.5842 - val_loss: 0.9234 - val_acc: 0.6275\n",
      "Epoch 9/100\n",
      "120/120 [==============================] - 39s 325ms/step - loss: 0.9518 - acc: 0.6017 - val_loss: 0.7814 - val_acc: 0.6550\n",
      "Epoch 10/100\n",
      "120/120 [==============================] - 39s 322ms/step - loss: 0.9415 - acc: 0.6171 - val_loss: 0.6088 - val_acc: 0.6525\n",
      "Epoch 11/100\n",
      "120/120 [==============================] - 38s 319ms/step - loss: 0.9154 - acc: 0.6279 - val_loss: 0.8100 - val_acc: 0.6600\n",
      "Epoch 12/100\n",
      "120/120 [==============================] - 38s 317ms/step - loss: 0.8935 - acc: 0.6408 - val_loss: 0.8062 - val_acc: 0.6175\n",
      "Epoch 13/100\n",
      "120/120 [==============================] - 38s 318ms/step - loss: 0.8504 - acc: 0.6571 - val_loss: 0.5083 - val_acc: 0.5600\n",
      "Epoch 14/100\n",
      "120/120 [==============================] - 39s 321ms/step - loss: 0.8648 - acc: 0.6583 - val_loss: 0.9033 - val_acc: 0.6625\n",
      "Epoch 15/100\n",
      "120/120 [==============================] - 38s 317ms/step - loss: 0.8196 - acc: 0.6750 - val_loss: 1.0863 - val_acc: 0.6850\n",
      "Epoch 16/100\n",
      "120/120 [==============================] - 38s 321ms/step - loss: 0.8116 - acc: 0.6742 - val_loss: 0.4062 - val_acc: 0.7225\n",
      "Epoch 17/100\n",
      "120/120 [==============================] - 39s 323ms/step - loss: 0.7964 - acc: 0.6938 - val_loss: 0.8251 - val_acc: 0.7275\n",
      "Epoch 18/100\n",
      "120/120 [==============================] - 38s 320ms/step - loss: 0.7946 - acc: 0.6862 - val_loss: 0.9167 - val_acc: 0.6700\n",
      "Epoch 19/100\n",
      "120/120 [==============================] - 38s 317ms/step - loss: 0.7800 - acc: 0.6842 - val_loss: 0.7400 - val_acc: 0.7250\n",
      "Epoch 20/100\n",
      "120/120 [==============================] - 38s 318ms/step - loss: 0.7344 - acc: 0.7146 - val_loss: 0.8916 - val_acc: 0.6800\n",
      "Epoch 21/100\n",
      "120/120 [==============================] - 38s 317ms/step - loss: 0.7387 - acc: 0.7067 - val_loss: 0.5531 - val_acc: 0.7025\n",
      "Epoch 22/100\n",
      "120/120 [==============================] - 38s 317ms/step - loss: 0.7177 - acc: 0.7196 - val_loss: 0.7121 - val_acc: 0.7225\n",
      "Epoch 23/100\n",
      "120/120 [==============================] - 38s 318ms/step - loss: 0.7327 - acc: 0.7121 - val_loss: 0.4926 - val_acc: 0.7450\n",
      "Epoch 24/100\n",
      "120/120 [==============================] - 38s 319ms/step - loss: 0.6646 - acc: 0.7425 - val_loss: 0.6036 - val_acc: 0.7400\n",
      "Epoch 25/100\n",
      "120/120 [==============================] - 38s 317ms/step - loss: 0.7051 - acc: 0.7254 - val_loss: 1.0220 - val_acc: 0.7300\n",
      "Epoch 26/100\n",
      "120/120 [==============================] - 38s 318ms/step - loss: 0.6830 - acc: 0.7267 - val_loss: 0.8444 - val_acc: 0.7475\n",
      "Epoch 27/100\n",
      "120/120 [==============================] - 38s 319ms/step - loss: 0.6674 - acc: 0.7383 - val_loss: 0.7983 - val_acc: 0.7400\n",
      "Epoch 28/100\n",
      "120/120 [==============================] - 38s 317ms/step - loss: 0.6486 - acc: 0.7458 - val_loss: 0.5141 - val_acc: 0.7625\n",
      "Epoch 29/100\n",
      "120/120 [==============================] - 38s 317ms/step - loss: 0.6518 - acc: 0.7504 - val_loss: 0.5552 - val_acc: 0.7225\n",
      "Epoch 30/100\n",
      "120/120 [==============================] - 38s 319ms/step - loss: 0.6155 - acc: 0.7633 - val_loss: 0.7928 - val_acc: 0.7675\n",
      "Epoch 31/100\n",
      "120/120 [==============================] - 38s 316ms/step - loss: 0.6401 - acc: 0.7442 - val_loss: 0.9327 - val_acc: 0.7450\n",
      "Epoch 32/100\n",
      "120/120 [==============================] - 38s 316ms/step - loss: 0.6582 - acc: 0.7371 - val_loss: 0.5577 - val_acc: 0.7450\n",
      "Epoch 33/100\n",
      "120/120 [==============================] - 38s 319ms/step - loss: 0.6338 - acc: 0.7462 - val_loss: 0.3950 - val_acc: 0.7725\n",
      "Epoch 34/100\n",
      "120/120 [==============================] - 38s 317ms/step - loss: 0.6140 - acc: 0.7704 - val_loss: 0.4679 - val_acc: 0.7350\n",
      "Epoch 35/100\n",
      "120/120 [==============================] - 38s 317ms/step - loss: 0.5970 - acc: 0.7713 - val_loss: 0.5458 - val_acc: 0.7725\n",
      "Epoch 36/100\n",
      "120/120 [==============================] - 38s 318ms/step - loss: 0.5933 - acc: 0.7608 - val_loss: 0.6092 - val_acc: 0.8000\n",
      "Epoch 37/100\n",
      "120/120 [==============================] - 38s 317ms/step - loss: 0.5778 - acc: 0.7821 - val_loss: 0.3160 - val_acc: 0.7750\n",
      "Epoch 38/100\n",
      "120/120 [==============================] - 38s 317ms/step - loss: 0.5942 - acc: 0.7837 - val_loss: 0.8507 - val_acc: 0.8025\n",
      "Epoch 39/100\n",
      "120/120 [==============================] - 38s 318ms/step - loss: 0.5653 - acc: 0.7771 - val_loss: 0.3699 - val_acc: 0.7800\n",
      "Epoch 40/100\n",
      "120/120 [==============================] - 38s 318ms/step - loss: 0.5726 - acc: 0.7738 - val_loss: 0.4221 - val_acc: 0.8025\n",
      "Epoch 41/100\n",
      "120/120 [==============================] - 38s 317ms/step - loss: 0.5568 - acc: 0.7854 - val_loss: 0.6668 - val_acc: 0.8050\n",
      "Epoch 42/100\n",
      "120/120 [==============================] - 38s 318ms/step - loss: 0.5701 - acc: 0.7817 - val_loss: 0.5543 - val_acc: 0.7950\n",
      "Epoch 43/100\n",
      "120/120 [==============================] - 38s 318ms/step - loss: 0.5403 - acc: 0.7929 - val_loss: 0.7952 - val_acc: 0.7900\n",
      "Epoch 44/100\n",
      "120/120 [==============================] - 38s 317ms/step - loss: 0.5181 - acc: 0.8050 - val_loss: 0.4980 - val_acc: 0.8300\n",
      "Epoch 45/100\n",
      "120/120 [==============================] - 38s 317ms/step - loss: 0.5277 - acc: 0.7979 - val_loss: 0.6195 - val_acc: 0.8000\n",
      "Epoch 46/100\n",
      "120/120 [==============================] - 38s 319ms/step - loss: 0.5340 - acc: 0.7954 - val_loss: 0.2617 - val_acc: 0.8050\n",
      "Epoch 47/100\n",
      "120/120 [==============================] - 38s 318ms/step - loss: 0.5145 - acc: 0.8125 - val_loss: 0.5311 - val_acc: 0.8200\n",
      "Epoch 48/100\n",
      "120/120 [==============================] - 38s 317ms/step - loss: 0.5085 - acc: 0.8062 - val_loss: 0.4206 - val_acc: 0.7675\n",
      "Epoch 49/100\n",
      "120/120 [==============================] - 38s 317ms/step - loss: 0.5028 - acc: 0.8163 - val_loss: 0.7142 - val_acc: 0.8150\n",
      "Epoch 50/100\n",
      "120/120 [==============================] - 38s 318ms/step - loss: 0.4825 - acc: 0.8175 - val_loss: 0.6511 - val_acc: 0.8150\n",
      "Epoch 51/100\n",
      "120/120 [==============================] - 38s 317ms/step - loss: 0.4835 - acc: 0.8188 - val_loss: 0.3992 - val_acc: 0.8200\n",
      "Epoch 52/100\n",
      "120/120 [==============================] - 38s 317ms/step - loss: 0.4977 - acc: 0.8096 - val_loss: 0.1538 - val_acc: 0.8275\n",
      "Epoch 53/100\n",
      "120/120 [==============================] - 38s 318ms/step - loss: 0.4725 - acc: 0.8229 - val_loss: 0.3152 - val_acc: 0.8275\n",
      "Epoch 54/100\n",
      "120/120 [==============================] - 38s 317ms/step - loss: 0.4338 - acc: 0.8358 - val_loss: 0.1874 - val_acc: 0.8025\n",
      "Epoch 55/100\n",
      "120/120 [==============================] - 38s 318ms/step - loss: 0.4848 - acc: 0.8163 - val_loss: 0.4002 - val_acc: 0.8250\n",
      "Epoch 56/100\n",
      "120/120 [==============================] - 38s 317ms/step - loss: 0.4603 - acc: 0.8238 - val_loss: 0.3200 - val_acc: 0.8025\n",
      "Epoch 57/100\n",
      "120/120 [==============================] - 38s 318ms/step - loss: 0.4543 - acc: 0.8338 - val_loss: 0.5578 - val_acc: 0.8200\n",
      "Epoch 58/100\n",
      "120/120 [==============================] - 38s 320ms/step - loss: 0.4642 - acc: 0.8325 - val_loss: 0.4955 - val_acc: 0.8050\n",
      "Epoch 59/100\n",
      "120/120 [==============================] - 40s 335ms/step - loss: 0.4337 - acc: 0.8313 - val_loss: 0.2965 - val_acc: 0.8200\n",
      "Epoch 60/100\n"
     ]
    },
    {
     "name": "stdout",
     "output_type": "stream",
     "text": [
      "120/120 [==============================] - 38s 316ms/step - loss: 0.4491 - acc: 0.8313 - val_loss: 0.5518 - val_acc: 0.8275\n",
      "Epoch 61/100\n",
      "120/120 [==============================] - 39s 321ms/step - loss: 0.4456 - acc: 0.8371 - val_loss: 0.2449 - val_acc: 0.8450\n",
      "Epoch 62/100\n",
      "120/120 [==============================] - 38s 316ms/step - loss: 0.4512 - acc: 0.8338 - val_loss: 0.3286 - val_acc: 0.8450\n",
      "Epoch 63/100\n",
      "120/120 [==============================] - 38s 316ms/step - loss: 0.4264 - acc: 0.8283 - val_loss: 0.2928 - val_acc: 0.8350\n",
      "Epoch 64/100\n",
      "120/120 [==============================] - 38s 317ms/step - loss: 0.4151 - acc: 0.8475 - val_loss: 0.3091 - val_acc: 0.7775\n",
      "Epoch 65/100\n",
      "120/120 [==============================] - 38s 316ms/step - loss: 0.4431 - acc: 0.8375 - val_loss: 0.3893 - val_acc: 0.8075\n",
      "Epoch 66/100\n",
      "120/120 [==============================] - 38s 317ms/step - loss: 0.4170 - acc: 0.8392 - val_loss: 0.6497 - val_acc: 0.8425\n",
      "Epoch 67/100\n",
      "120/120 [==============================] - 39s 321ms/step - loss: 0.4288 - acc: 0.8383 - val_loss: 0.2322 - val_acc: 0.8325\n",
      "Epoch 68/100\n",
      "120/120 [==============================] - 38s 319ms/step - loss: 0.3920 - acc: 0.8583 - val_loss: 0.5707 - val_acc: 0.8225\n",
      "Epoch 69/100\n",
      "120/120 [==============================] - 38s 318ms/step - loss: 0.3975 - acc: 0.8533 - val_loss: 0.6383 - val_acc: 0.8400\n",
      "Epoch 70/100\n",
      "120/120 [==============================] - 38s 317ms/step - loss: 0.4080 - acc: 0.8512 - val_loss: 0.2478 - val_acc: 0.8400\n",
      "Epoch 71/100\n",
      "120/120 [==============================] - 38s 320ms/step - loss: 0.4165 - acc: 0.8496 - val_loss: 0.2297 - val_acc: 0.8400\n",
      "Epoch 72/100\n",
      "120/120 [==============================] - 38s 317ms/step - loss: 0.3962 - acc: 0.8500 - val_loss: 0.3289 - val_acc: 0.7975\n",
      "Epoch 73/100\n",
      "120/120 [==============================] - 38s 320ms/step - loss: 0.3690 - acc: 0.8612 - val_loss: 0.5413 - val_acc: 0.8500\n",
      "Epoch 74/100\n",
      "120/120 [==============================] - 38s 318ms/step - loss: 0.3869 - acc: 0.8571 - val_loss: 0.2199 - val_acc: 0.8550\n",
      "Epoch 75/100\n",
      "120/120 [==============================] - 38s 317ms/step - loss: 0.3961 - acc: 0.8592 - val_loss: 0.1575 - val_acc: 0.8125\n",
      "Epoch 76/100\n",
      "120/120 [==============================] - 38s 320ms/step - loss: 0.3905 - acc: 0.8625 - val_loss: 0.3506 - val_acc: 0.8450\n",
      "Epoch 77/100\n",
      "120/120 [==============================] - 38s 319ms/step - loss: 0.3573 - acc: 0.8671 - val_loss: 0.4395 - val_acc: 0.8175\n",
      "Epoch 78/100\n",
      "120/120 [==============================] - 38s 318ms/step - loss: 0.3671 - acc: 0.8679 - val_loss: 0.4224 - val_acc: 0.8450\n",
      "Epoch 79/100\n",
      "120/120 [==============================] - 38s 318ms/step - loss: 0.3868 - acc: 0.8537 - val_loss: 0.3344 - val_acc: 0.8200\n",
      "Epoch 80/100\n",
      "120/120 [==============================] - 38s 318ms/step - loss: 0.3747 - acc: 0.8646 - val_loss: 0.7010 - val_acc: 0.8375\n",
      "Epoch 81/100\n",
      "120/120 [==============================] - 38s 317ms/step - loss: 0.3687 - acc: 0.8658 - val_loss: 0.2690 - val_acc: 0.8225\n",
      "Epoch 82/100\n",
      "120/120 [==============================] - 38s 318ms/step - loss: 0.3790 - acc: 0.8596 - val_loss: 0.3336 - val_acc: 0.8475\n",
      "Epoch 83/100\n",
      "120/120 [==============================] - 38s 317ms/step - loss: 0.3355 - acc: 0.8721 - val_loss: 0.2163 - val_acc: 0.8450\n",
      "Epoch 84/100\n",
      "120/120 [==============================] - 38s 318ms/step - loss: 0.3613 - acc: 0.8654 - val_loss: 0.5207 - val_acc: 0.8675\n",
      "Epoch 85/100\n",
      "120/120 [==============================] - 38s 318ms/step - loss: 0.3405 - acc: 0.8712 - val_loss: 0.0989 - val_acc: 0.8600\n",
      "Epoch 86/100\n",
      "120/120 [==============================] - 38s 318ms/step - loss: 0.3441 - acc: 0.8737 - val_loss: 0.6968 - val_acc: 0.8675\n",
      "Epoch 87/100\n",
      "120/120 [==============================] - 38s 318ms/step - loss: 0.3657 - acc: 0.8712 - val_loss: 0.4570 - val_acc: 0.8500\n",
      "Epoch 88/100\n",
      "120/120 [==============================] - 38s 318ms/step - loss: 0.3389 - acc: 0.8671 - val_loss: 0.2105 - val_acc: 0.8325\n",
      "Epoch 89/100\n",
      "120/120 [==============================] - 38s 318ms/step - loss: 0.3287 - acc: 0.8788 - val_loss: 0.4185 - val_acc: 0.8525\n",
      "Epoch 90/100\n",
      "120/120 [==============================] - 38s 318ms/step - loss: 0.3527 - acc: 0.8658 - val_loss: 0.6202 - val_acc: 0.8150\n",
      "Epoch 91/100\n",
      "120/120 [==============================] - 38s 320ms/step - loss: 0.3547 - acc: 0.8700 - val_loss: 0.3769 - val_acc: 0.8500\n",
      "Epoch 92/100\n",
      "120/120 [==============================] - 38s 318ms/step - loss: 0.3503 - acc: 0.8758 - val_loss: 0.0966 - val_acc: 0.8525\n",
      "Epoch 93/100\n",
      "120/120 [==============================] - 38s 318ms/step - loss: 0.3156 - acc: 0.8888 - val_loss: 0.8397 - val_acc: 0.8700\n",
      "Epoch 94/100\n",
      "120/120 [==============================] - 38s 318ms/step - loss: 0.3474 - acc: 0.8758 - val_loss: 0.7734 - val_acc: 0.8650\n",
      "Epoch 95/100\n",
      "120/120 [==============================] - 38s 318ms/step - loss: 0.3099 - acc: 0.8867 - val_loss: 0.2934 - val_acc: 0.8650\n",
      "Epoch 96/100\n",
      "120/120 [==============================] - 39s 325ms/step - loss: 0.3028 - acc: 0.8875 - val_loss: 0.5771 - val_acc: 0.8400\n",
      "Epoch 97/100\n",
      "120/120 [==============================] - 39s 322ms/step - loss: 0.3208 - acc: 0.8800 - val_loss: 0.2268 - val_acc: 0.8500\n",
      "Epoch 98/100\n",
      "120/120 [==============================] - 38s 320ms/step - loss: 0.3259 - acc: 0.8817 - val_loss: 0.4411 - val_acc: 0.8625\n",
      "Epoch 99/100\n",
      "120/120 [==============================] - 38s 320ms/step - loss: 0.2998 - acc: 0.8900 - val_loss: 0.3060 - val_acc: 0.8525\n",
      "Epoch 100/100\n",
      "120/120 [==============================] - 38s 318ms/step - loss: 0.3036 - acc: 0.8850 - val_loss: 0.2325 - val_acc: 0.8500\n"
     ]
    }
   ],
   "source": [
    "# model training\n",
    "\n",
    "train_datagen = ImageDataGenerator(rescale=1./255,\n",
    "                                   rotation_range=2,\n",
    "                                   width_shift_range=0.1,\n",
    "                                   height_shift_range=0.1,\n",
    "                                   shear_range=0.1,\n",
    "                                   zoom_range=0.2,\n",
    "                                   horizontal_flip=True,\n",
    "                                   fill_mode='nearest')\n",
    "\n",
    "test_datagen = ImageDataGenerator(rescale=1./255)\n",
    "\n",
    "train_generator = train_datagen.flow_from_directory(train_dir,\n",
    "                                                   target_size=(100, 100),\n",
    "                                                   batch_size=20,\n",
    "                                                   class_mode='categorical')\n",
    "\n",
    "history = model.fit_generator(train_generator,\n",
    "                             steps_per_epoch=120,\n",
    "                             epochs=100,\n",
    "                             validation_data=validation_generator,\n",
    "                             validation_steps=40)"
   ]
  },
  {
   "cell_type": "code",
   "execution_count": 64,
   "metadata": {},
   "outputs": [],
   "source": [
    "model.save('model_4.h5')"
   ]
  },
  {
   "cell_type": "code",
   "execution_count": 67,
   "metadata": {},
   "outputs": [
    {
     "name": "stdout",
     "output_type": "stream",
     "text": [
      "Found 800 images belonging to 4 classes.\n"
     ]
    }
   ],
   "source": [
    "import keras\n",
    "\n",
    "model_4 = keras.models.load_model('model_4.h5')\n",
    "\n",
    "test_generator = test_datagen.flow_from_directory(\n",
    "    test_dir,\n",
    "    target_size=(100, 100),\n",
    "    batch_size=20,\n",
    "    class_mode='categorical')"
   ]
  },
  {
   "cell_type": "code",
   "execution_count": 68,
   "metadata": {},
   "outputs": [
    {
     "name": "stdout",
     "output_type": "stream",
     "text": [
      "test acc: 0.8837500214576721\n"
     ]
    }
   ],
   "source": [
    "test_loss, test_acc = model_4.evaluate_generator(test_generator, steps=(800/20))\n",
    "print('test acc:', test_acc)"
   ]
  },
  {
   "cell_type": "code",
   "execution_count": 69,
   "metadata": {
    "scrolled": false
   },
   "outputs": [
    {
     "data": {
      "image/png": "[encoded data removed]",
      "text/plain": [
       "<Figure size 432x288 with 1 Axes>"
      ]
     },
     "metadata": {
      "needs_background": "light"
     },
     "output_type": "display_data"
    },
    {
     "data": {
      "image/png": "[encoded data removed]",
      "text/plain": [
       "<Figure size 432x288 with 1 Axes>"
      ]
     },
     "metadata": {
      "needs_background": "light"
     },
     "output_type": "display_data"
    }
   ],
   "source": [
    "# acc, loss graph\n",
    "\n",
    "acc = history.history['acc']\n",
    "val_acc = history.history['val_acc']\n",
    "loss = history.history['loss']\n",
    "val_loss = history.history['val_loss']\n",
    "\n",
    "epochs = range(1, len(acc) + 1)\n",
    "\n",
    "plt.plot(epochs, acc, 'bo', label='Training acc')\n",
    "plt.plot(epochs, val_acc, 'b', label='Validation acc')\n",
    "plt.title('Training and validation accuracy')\n",
    "plt.legend()\n",
    "\n",
    "plt.figure()\n",
    "\n",
    "plt.plot(epochs, loss, 'bo', label='Training loss')\n",
    "plt.plot(epochs, val_loss, 'b', label='Validation loss')\n",
    "plt.title('Training and validation loss')\n",
    "plt.legend()\n",
    "\n",
    "plt.show()"
   ]
  },
  {
   "cell_type": "markdown",
   "metadata": {},
   "source": [
    "- overfitting 문제가 많이 해결된 것으로 나타났다. 적정한 파라미터를 찾은 듯 하다.\n",
    "- train accuracy가 88% 정도까지 올라가고, test accuracy도 마찬가지로 88% 정도로 나타났다. epochs를 아직 더 올려야 할 것으로 판단된다."
   ]
  },
  {
   "cell_type": "markdown",
   "metadata": {},
   "source": [
    "# Model 5"
   ]
  },
  {
   "cell_type": "markdown",
   "metadata": {},
   "source": [
    "hidden layer 4개 / epochs 500"
   ]
  },
  {
   "cell_type": "code",
   "execution_count": 70,
   "metadata": {},
   "outputs": [],
   "source": [
    "# creating model\n",
    "\n",
    "model = models.Sequential()\n",
    "model.add(layers.Conv2D(32, (3, 3), activation='relu', input_shape=(100, 100, 3)))\n",
    "model.add(layers.MaxPooling2D((2, 2)))\n",
    "\n",
    "model.add(layers.Conv2D(64, (3, 3), activation='relu'))\n",
    "model.add(layers.MaxPooling2D((2, 2)))\n",
    "\n",
    "model.add(layers.Conv2D(128, (3, 3), activation='relu'))\n",
    "model.add(layers.MaxPooling2D((2, 2)))\n",
    "\n",
    "model.add(layers.Conv2D(128, (3, 3), activation='relu'))\n",
    "model.add(layers.MaxPooling2D((2, 2)))\n",
    "\n",
    "model.add(layers.Flatten())\n",
    "model.add(layers.Dropout(0.5))\n",
    "model.add(layers.Dense(512, activation='relu'))\n",
    "model.add(layers.Dense(4, activation='softmax'))\n",
    "\n",
    "from keras import optimizers\n",
    "\n",
    "model.compile(loss='categorical_crossentropy',\n",
    "             optimizer=optimizers.RMSprop(lr=1e-4),\n",
    "             metrics=['acc'])"
   ]
  },
  {
   "cell_type": "code",
   "execution_count": 71,
   "metadata": {
    "scrolled": true
   },
   "outputs": [
    {
     "name": "stdout",
     "output_type": "stream",
     "text": [
      "Found 2800 images belonging to 4 classes.\n",
      "Epoch 1/500\n",
      "120/120 [==============================] - 44s 366ms/step - loss: 1.3838 - acc: 0.2792 - val_loss: 1.3331 - val_acc: 0.4350\n",
      "Epoch 2/500\n",
      "120/120 [==============================] - 39s 322ms/step - loss: 1.3413 - acc: 0.3529 - val_loss: 1.2288 - val_acc: 0.4425\n",
      "Epoch 3/500\n",
      "120/120 [==============================] - 38s 319ms/step - loss: 1.2665 - acc: 0.4187 - val_loss: 1.1073 - val_acc: 0.5025\n",
      "Epoch 4/500\n",
      "120/120 [==============================] - 38s 320ms/step - loss: 1.2130 - acc: 0.4546 - val_loss: 1.2263 - val_acc: 0.5400\n",
      "Epoch 5/500\n",
      "120/120 [==============================] - 38s 320ms/step - loss: 1.1534 - acc: 0.4942 - val_loss: 0.8852 - val_acc: 0.5825\n",
      "Epoch 6/500\n",
      "120/120 [==============================] - 38s 319ms/step - loss: 1.1113 - acc: 0.5312 - val_loss: 0.9562 - val_acc: 0.5800\n",
      "Epoch 7/500\n",
      "120/120 [==============================] - 40s 329ms/step - loss: 1.0506 - acc: 0.5721 - val_loss: 0.9050 - val_acc: 0.6075\n",
      "Epoch 8/500\n",
      "120/120 [==============================] - 43s 356ms/step - loss: 1.0338 - acc: 0.5654 - val_loss: 1.0086 - val_acc: 0.6250\n",
      "Epoch 9/500\n",
      "120/120 [==============================] - 38s 319ms/step - loss: 0.9830 - acc: 0.5904 - val_loss: 0.7924 - val_acc: 0.5875\n",
      "Epoch 10/500\n",
      "120/120 [==============================] - 39s 322ms/step - loss: 0.9494 - acc: 0.6129 - val_loss: 0.8030 - val_acc: 0.6350\n",
      "Epoch 11/500\n",
      "120/120 [==============================] - 38s 320ms/step - loss: 0.9210 - acc: 0.6217 - val_loss: 0.8051 - val_acc: 0.6600\n",
      "Epoch 12/500\n",
      "120/120 [==============================] - 38s 320ms/step - loss: 0.9094 - acc: 0.6300 - val_loss: 1.0339 - val_acc: 0.6400\n",
      "Epoch 13/500\n",
      "120/120 [==============================] - 39s 321ms/step - loss: 0.8761 - acc: 0.6392 - val_loss: 0.6543 - val_acc: 0.6325\n",
      "Epoch 14/500\n",
      "120/120 [==============================] - 40s 333ms/step - loss: 0.8599 - acc: 0.6450 - val_loss: 0.8707 - val_acc: 0.6950\n",
      "Epoch 15/500\n",
      "120/120 [==============================] - 39s 326ms/step - loss: 0.8416 - acc: 0.6687 - val_loss: 0.6329 - val_acc: 0.6975\n",
      "Epoch 16/500\n",
      "120/120 [==============================] - 38s 319ms/step - loss: 0.8158 - acc: 0.6767 - val_loss: 0.5748 - val_acc: 0.6925\n",
      "Epoch 17/500\n",
      "120/120 [==============================] - 38s 319ms/step - loss: 0.7967 - acc: 0.6875 - val_loss: 0.6265 - val_acc: 0.7125\n",
      "Epoch 18/500\n",
      "120/120 [==============================] - 39s 325ms/step - loss: 0.7851 - acc: 0.6829 - val_loss: 0.9558 - val_acc: 0.7125\n",
      "Epoch 19/500\n",
      "120/120 [==============================] - 39s 321ms/step - loss: 0.7659 - acc: 0.6946 - val_loss: 0.7851 - val_acc: 0.6925\n",
      "Epoch 20/500\n",
      "120/120 [==============================] - 39s 322ms/step - loss: 0.7600 - acc: 0.7025 - val_loss: 0.7931 - val_acc: 0.7075\n",
      "Epoch 21/500\n",
      "120/120 [==============================] - 39s 321ms/step - loss: 0.7617 - acc: 0.6983 - val_loss: 0.5553 - val_acc: 0.7325\n",
      "Epoch 22/500\n",
      "120/120 [==============================] - 39s 322ms/step - loss: 0.7074 - acc: 0.7221 - val_loss: 0.5262 - val_acc: 0.7450\n",
      "Epoch 23/500\n",
      "120/120 [==============================] - 39s 322ms/step - loss: 0.7272 - acc: 0.7100 - val_loss: 0.4532 - val_acc: 0.7275\n",
      "Epoch 24/500\n",
      "120/120 [==============================] - 38s 320ms/step - loss: 0.7033 - acc: 0.7250 - val_loss: 0.5783 - val_acc: 0.7175\n",
      "Epoch 25/500\n",
      "120/120 [==============================] - 39s 322ms/step - loss: 0.6872 - acc: 0.7425 - val_loss: 0.8230 - val_acc: 0.7425\n",
      "Epoch 26/500\n",
      "120/120 [==============================] - 39s 322ms/step - loss: 0.6795 - acc: 0.7271 - val_loss: 0.5264 - val_acc: 0.7500\n",
      "Epoch 27/500\n",
      "120/120 [==============================] - 39s 324ms/step - loss: 0.6606 - acc: 0.7467 - val_loss: 0.5583 - val_acc: 0.7650\n",
      "Epoch 28/500\n",
      "120/120 [==============================] - 39s 324ms/step - loss: 0.6644 - acc: 0.7458 - val_loss: 0.5003 - val_acc: 0.7500\n",
      "Epoch 29/500\n",
      "120/120 [==============================] - 39s 322ms/step - loss: 0.6477 - acc: 0.7333 - val_loss: 0.5476 - val_acc: 0.7825\n",
      "Epoch 30/500\n",
      "120/120 [==============================] - 38s 321ms/step - loss: 0.6480 - acc: 0.7433 - val_loss: 0.5363 - val_acc: 0.7800\n",
      "Epoch 31/500\n",
      "120/120 [==============================] - 39s 321ms/step - loss: 0.6399 - acc: 0.7554 - val_loss: 0.6646 - val_acc: 0.8000\n",
      "Epoch 32/500\n",
      "120/120 [==============================] - 39s 322ms/step - loss: 0.5975 - acc: 0.7692 - val_loss: 0.7965 - val_acc: 0.7200\n",
      "Epoch 33/500\n",
      "120/120 [==============================] - 39s 321ms/step - loss: 0.6284 - acc: 0.7529 - val_loss: 0.4532 - val_acc: 0.7700\n",
      "Epoch 34/500\n",
      "120/120 [==============================] - 39s 323ms/step - loss: 0.5773 - acc: 0.7775 - val_loss: 0.6514 - val_acc: 0.7675\n",
      "Epoch 35/500\n",
      "120/120 [==============================] - 39s 322ms/step - loss: 0.5912 - acc: 0.7704 - val_loss: 0.4891 - val_acc: 0.7150\n",
      "Epoch 36/500\n",
      "120/120 [==============================] - 39s 321ms/step - loss: 0.5854 - acc: 0.7721 - val_loss: 0.5313 - val_acc: 0.7925\n",
      "Epoch 37/500\n",
      "120/120 [==============================] - 39s 323ms/step - loss: 0.5772 - acc: 0.7717 - val_loss: 1.0403 - val_acc: 0.8000\n",
      "Epoch 38/500\n",
      "120/120 [==============================] - 39s 322ms/step - loss: 0.5731 - acc: 0.7800 - val_loss: 0.4145 - val_acc: 0.8175\n",
      "Epoch 39/500\n",
      "120/120 [==============================] - 39s 321ms/step - loss: 0.5723 - acc: 0.7808 - val_loss: 0.2968 - val_acc: 0.7925\n",
      "Epoch 40/500\n",
      "120/120 [==============================] - 39s 321ms/step - loss: 0.5649 - acc: 0.7833 - val_loss: 0.6995 - val_acc: 0.7825\n",
      "Epoch 41/500\n",
      "120/120 [==============================] - 39s 322ms/step - loss: 0.5592 - acc: 0.7875 - val_loss: 0.4383 - val_acc: 0.8000\n",
      "Epoch 42/500\n",
      "120/120 [==============================] - 38s 321ms/step - loss: 0.5471 - acc: 0.7929 - val_loss: 0.4949 - val_acc: 0.8075\n",
      "Epoch 43/500\n",
      "120/120 [==============================] - 39s 322ms/step - loss: 0.5312 - acc: 0.8025 - val_loss: 0.7129 - val_acc: 0.8050\n",
      "Epoch 44/500\n",
      "120/120 [==============================] - 39s 322ms/step - loss: 0.5078 - acc: 0.8037 - val_loss: 0.5086 - val_acc: 0.8125\n",
      "Epoch 45/500\n",
      "120/120 [==============================] - 39s 322ms/step - loss: 0.5207 - acc: 0.8054 - val_loss: 0.6589 - val_acc: 0.7275\n",
      "Epoch 46/500\n",
      "120/120 [==============================] - 39s 321ms/step - loss: 0.5121 - acc: 0.7975 - val_loss: 0.1971 - val_acc: 0.7850\n",
      "Epoch 47/500\n",
      "120/120 [==============================] - 39s 321ms/step - loss: 0.4985 - acc: 0.8087 - val_loss: 0.2004 - val_acc: 0.8100\n",
      "Epoch 48/500\n",
      "120/120 [==============================] - 38s 321ms/step - loss: 0.5095 - acc: 0.8096 - val_loss: 0.8161 - val_acc: 0.7850\n",
      "Epoch 49/500\n",
      "120/120 [==============================] - 38s 320ms/step - loss: 0.5025 - acc: 0.8188 - val_loss: 0.3560 - val_acc: 0.8375\n",
      "Epoch 50/500\n",
      "120/120 [==============================] - 39s 321ms/step - loss: 0.4936 - acc: 0.8133 - val_loss: 0.6451 - val_acc: 0.8200\n",
      "Epoch 51/500\n",
      "120/120 [==============================] - 39s 322ms/step - loss: 0.4930 - acc: 0.8058 - val_loss: 0.3775 - val_acc: 0.8425\n",
      "Epoch 52/500\n",
      "120/120 [==============================] - 39s 321ms/step - loss: 0.4811 - acc: 0.8200 - val_loss: 0.5938 - val_acc: 0.8450\n",
      "Epoch 53/500\n",
      "120/120 [==============================] - 39s 321ms/step - loss: 0.4682 - acc: 0.8279 - val_loss: 0.5318 - val_acc: 0.8025\n",
      "Epoch 54/500\n",
      "120/120 [==============================] - 38s 321ms/step - loss: 0.4549 - acc: 0.8246 - val_loss: 0.7610 - val_acc: 0.8250\n",
      "Epoch 55/500\n",
      "120/120 [==============================] - 38s 320ms/step - loss: 0.4606 - acc: 0.8288 - val_loss: 0.7608 - val_acc: 0.8300\n",
      "Epoch 56/500\n",
      "120/120 [==============================] - 39s 322ms/step - loss: 0.4789 - acc: 0.8179 - val_loss: 0.6678 - val_acc: 0.8250\n",
      "Epoch 57/500\n",
      "120/120 [==============================] - 38s 320ms/step - loss: 0.4461 - acc: 0.8304 - val_loss: 0.5579 - val_acc: 0.8400\n",
      "Epoch 58/500\n",
      "120/120 [==============================] - 38s 321ms/step - loss: 0.4645 - acc: 0.8233 - val_loss: 0.6060 - val_acc: 0.8225\n",
      "Epoch 59/500\n",
      "120/120 [==============================] - 39s 321ms/step - loss: 0.4376 - acc: 0.8313 - val_loss: 0.5644 - val_acc: 0.8200\n",
      "Epoch 60/500\n"
     ]
    },
    {
     "name": "stdout",
     "output_type": "stream",
     "text": [
      "120/120 [==============================] - 38s 318ms/step - loss: 0.4464 - acc: 0.8346 - val_loss: 0.4993 - val_acc: 0.8225\n",
      "Epoch 61/500\n",
      "120/120 [==============================] - 38s 318ms/step - loss: 0.4228 - acc: 0.8438 - val_loss: 0.4102 - val_acc: 0.8425\n",
      "Epoch 62/500\n",
      "120/120 [==============================] - 39s 325ms/step - loss: 0.4428 - acc: 0.8300 - val_loss: 0.6658 - val_acc: 0.7725\n",
      "Epoch 63/500\n",
      "120/120 [==============================] - 39s 326ms/step - loss: 0.4216 - acc: 0.8471 - val_loss: 0.2120 - val_acc: 0.7825\n",
      "Epoch 64/500\n",
      "120/120 [==============================] - 38s 320ms/step - loss: 0.4423 - acc: 0.8329 - val_loss: 0.4335 - val_acc: 0.8350\n",
      "Epoch 65/500\n",
      "120/120 [==============================] - 38s 320ms/step - loss: 0.4213 - acc: 0.8417 - val_loss: 0.6089 - val_acc: 0.7600\n",
      "Epoch 66/500\n",
      "120/120 [==============================] - 40s 335ms/step - loss: 0.4320 - acc: 0.8383 - val_loss: 0.5623 - val_acc: 0.8600\n",
      "Epoch 67/500\n",
      "120/120 [==============================] - 40s 332ms/step - loss: 0.4005 - acc: 0.8438 - val_loss: 0.3802 - val_acc: 0.8450\n",
      "Epoch 68/500\n",
      "120/120 [==============================] - 39s 323ms/step - loss: 0.3977 - acc: 0.8562 - val_loss: 0.4256 - val_acc: 0.8200\n",
      "Epoch 69/500\n",
      "120/120 [==============================] - 38s 321ms/step - loss: 0.4031 - acc: 0.8504 - val_loss: 0.3038 - val_acc: 0.8400\n",
      "Epoch 70/500\n",
      "120/120 [==============================] - 38s 320ms/step - loss: 0.3991 - acc: 0.8517 - val_loss: 0.6031 - val_acc: 0.8475\n",
      "Epoch 71/500\n",
      "120/120 [==============================] - 39s 322ms/step - loss: 0.4079 - acc: 0.8496 - val_loss: 0.3648 - val_acc: 0.8350\n",
      "Epoch 72/500\n",
      "120/120 [==============================] - 38s 320ms/step - loss: 0.3898 - acc: 0.8525 - val_loss: 0.2400 - val_acc: 0.8550\n",
      "Epoch 73/500\n",
      "120/120 [==============================] - 39s 321ms/step - loss: 0.3990 - acc: 0.8492 - val_loss: 0.3422 - val_acc: 0.8400\n",
      "Epoch 74/500\n",
      "120/120 [==============================] - 39s 321ms/step - loss: 0.3966 - acc: 0.8571 - val_loss: 0.2511 - val_acc: 0.8475\n",
      "Epoch 75/500\n",
      "120/120 [==============================] - 38s 321ms/step - loss: 0.3772 - acc: 0.8567 - val_loss: 0.7869 - val_acc: 0.7850\n",
      "Epoch 76/500\n",
      "120/120 [==============================] - 39s 322ms/step - loss: 0.3797 - acc: 0.8583 - val_loss: 0.3854 - val_acc: 0.8075\n",
      "Epoch 77/500\n",
      "120/120 [==============================] - 39s 322ms/step - loss: 0.3847 - acc: 0.8604 - val_loss: 0.3494 - val_acc: 0.8500\n",
      "Epoch 78/500\n",
      "120/120 [==============================] - 39s 324ms/step - loss: 0.3505 - acc: 0.8696 - val_loss: 0.4354 - val_acc: 0.8225\n",
      "Epoch 79/500\n",
      "120/120 [==============================] - 38s 320ms/step - loss: 0.3662 - acc: 0.8737 - val_loss: 0.6806 - val_acc: 0.8375\n",
      "Epoch 80/500\n",
      "120/120 [==============================] - 38s 320ms/step - loss: 0.3714 - acc: 0.8567 - val_loss: 0.5441 - val_acc: 0.8450\n",
      "Epoch 81/500\n",
      "120/120 [==============================] - 39s 321ms/step - loss: 0.3696 - acc: 0.8587 - val_loss: 0.1340 - val_acc: 0.8425\n",
      "Epoch 82/500\n",
      "120/120 [==============================] - 38s 321ms/step - loss: 0.3724 - acc: 0.8575 - val_loss: 0.2104 - val_acc: 0.8675\n",
      "Epoch 83/500\n",
      "120/120 [==============================] - 38s 320ms/step - loss: 0.3628 - acc: 0.8671 - val_loss: 0.3282 - val_acc: 0.8675\n",
      "Epoch 84/500\n",
      "120/120 [==============================] - 39s 328ms/step - loss: 0.3517 - acc: 0.8683 - val_loss: 0.1754 - val_acc: 0.8375\n",
      "Epoch 85/500\n",
      "120/120 [==============================] - 39s 321ms/step - loss: 0.3702 - acc: 0.8625 - val_loss: 0.3458 - val_acc: 0.8525\n",
      "Epoch 86/500\n",
      "120/120 [==============================] - 38s 321ms/step - loss: 0.3324 - acc: 0.8763 - val_loss: 0.3860 - val_acc: 0.8525\n",
      "Epoch 87/500\n",
      "120/120 [==============================] - 39s 322ms/step - loss: 0.3694 - acc: 0.8617 - val_loss: 0.9292 - val_acc: 0.8350\n",
      "Epoch 88/500\n",
      "120/120 [==============================] - 38s 320ms/step - loss: 0.3262 - acc: 0.8813 - val_loss: 0.5912 - val_acc: 0.8450\n",
      "Epoch 89/500\n",
      "120/120 [==============================] - 39s 321ms/step - loss: 0.3390 - acc: 0.8783 - val_loss: 0.5276 - val_acc: 0.8200\n",
      "Epoch 90/500\n",
      "120/120 [==============================] - 38s 320ms/step - loss: 0.3276 - acc: 0.8883 - val_loss: 0.3674 - val_acc: 0.8425\n",
      "Epoch 91/500\n",
      "120/120 [==============================] - 38s 321ms/step - loss: 0.3364 - acc: 0.8808 - val_loss: 0.5087 - val_acc: 0.8175\n",
      "Epoch 92/500\n",
      "120/120 [==============================] - 39s 321ms/step - loss: 0.3311 - acc: 0.8754 - val_loss: 0.2020 - val_acc: 0.8100\n",
      "Epoch 93/500\n",
      "120/120 [==============================] - 39s 321ms/step - loss: 0.3241 - acc: 0.8783 - val_loss: 0.2536 - val_acc: 0.8575\n",
      "Epoch 94/500\n",
      "120/120 [==============================] - 38s 320ms/step - loss: 0.3141 - acc: 0.8892 - val_loss: 0.3522 - val_acc: 0.8800\n",
      "Epoch 95/500\n",
      "120/120 [==============================] - 38s 320ms/step - loss: 0.3207 - acc: 0.8767 - val_loss: 0.5304 - val_acc: 0.8700\n",
      "Epoch 96/500\n",
      "120/120 [==============================] - 38s 320ms/step - loss: 0.3361 - acc: 0.8758 - val_loss: 0.3223 - val_acc: 0.8675\n",
      "Epoch 97/500\n",
      "120/120 [==============================] - 39s 321ms/step - loss: 0.3553 - acc: 0.8683 - val_loss: 0.3817 - val_acc: 0.8400\n",
      "Epoch 98/500\n",
      "120/120 [==============================] - 39s 321ms/step - loss: 0.3412 - acc: 0.8733 - val_loss: 0.2841 - val_acc: 0.8575\n",
      "Epoch 99/500\n",
      "120/120 [==============================] - 39s 322ms/step - loss: 0.3139 - acc: 0.8908 - val_loss: 0.1943 - val_acc: 0.8650\n",
      "Epoch 100/500\n",
      "120/120 [==============================] - 39s 322ms/step - loss: 0.3041 - acc: 0.8817 - val_loss: 0.5213 - val_acc: 0.8175\n",
      "Epoch 101/500\n",
      "120/120 [==============================] - 38s 320ms/step - loss: 0.3408 - acc: 0.8800 - val_loss: 0.6168 - val_acc: 0.8525\n",
      "Epoch 102/500\n",
      "120/120 [==============================] - 38s 321ms/step - loss: 0.3221 - acc: 0.8842 - val_loss: 0.3258 - val_acc: 0.8650\n",
      "Epoch 103/500\n",
      "120/120 [==============================] - 39s 322ms/step - loss: 0.3125 - acc: 0.8792 - val_loss: 0.2896 - val_acc: 0.8725\n",
      "Epoch 104/500\n",
      "120/120 [==============================] - 38s 321ms/step - loss: 0.3019 - acc: 0.8971 - val_loss: 0.5875 - val_acc: 0.8525\n",
      "Epoch 105/500\n",
      "120/120 [==============================] - 39s 322ms/step - loss: 0.3267 - acc: 0.8829 - val_loss: 0.3806 - val_acc: 0.8200\n",
      "Epoch 106/500\n",
      "120/120 [==============================] - 39s 322ms/step - loss: 0.2917 - acc: 0.8996 - val_loss: 0.6760 - val_acc: 0.8300\n",
      "Epoch 107/500\n",
      "120/120 [==============================] - 39s 321ms/step - loss: 0.2943 - acc: 0.8925 - val_loss: 0.2722 - val_acc: 0.8625\n",
      "Epoch 108/500\n",
      "120/120 [==============================] - 38s 320ms/step - loss: 0.2975 - acc: 0.8929 - val_loss: 0.2031 - val_acc: 0.8750\n",
      "Epoch 109/500\n",
      "120/120 [==============================] - 39s 322ms/step - loss: 0.2748 - acc: 0.8996 - val_loss: 0.3030 - val_acc: 0.8800\n",
      "Epoch 110/500\n",
      "120/120 [==============================] - 38s 320ms/step - loss: 0.3044 - acc: 0.8896 - val_loss: 0.4259 - val_acc: 0.8825\n",
      "Epoch 111/500\n",
      "120/120 [==============================] - 38s 320ms/step - loss: 0.2878 - acc: 0.8983 - val_loss: 0.2293 - val_acc: 0.8600\n",
      "Epoch 112/500\n",
      "120/120 [==============================] - 39s 321ms/step - loss: 0.2947 - acc: 0.8975 - val_loss: 0.3591 - val_acc: 0.8000\n",
      "Epoch 113/500\n",
      "120/120 [==============================] - 38s 321ms/step - loss: 0.2934 - acc: 0.8913 - val_loss: 1.1155 - val_acc: 0.8400\n",
      "Epoch 114/500\n",
      "120/120 [==============================] - 38s 321ms/step - loss: 0.3036 - acc: 0.8850 - val_loss: 0.3890 - val_acc: 0.8800\n",
      "Epoch 115/500\n",
      "120/120 [==============================] - 39s 329ms/step - loss: 0.2857 - acc: 0.8921 - val_loss: 0.1562 - val_acc: 0.8775\n",
      "Epoch 116/500\n",
      "120/120 [==============================] - 39s 324ms/step - loss: 0.2948 - acc: 0.8929 - val_loss: 0.6039 - val_acc: 0.8825\n",
      "Epoch 117/500\n",
      "120/120 [==============================] - 38s 321ms/step - loss: 0.2652 - acc: 0.9100 - val_loss: 0.3906 - val_acc: 0.8675\n",
      "Epoch 118/500\n",
      "120/120 [==============================] - 39s 321ms/step - loss: 0.2900 - acc: 0.8921 - val_loss: 0.6536 - val_acc: 0.8525\n",
      "Epoch 119/500\n",
      "120/120 [==============================] - 39s 322ms/step - loss: 0.3012 - acc: 0.8946 - val_loss: 0.5675 - val_acc: 0.8625\n"
     ]
    },
    {
     "name": "stdout",
     "output_type": "stream",
     "text": [
      "Epoch 120/500\n",
      "120/120 [==============================] - 38s 318ms/step - loss: 0.2692 - acc: 0.9017 - val_loss: 0.1369 - val_acc: 0.8275\n",
      "Epoch 121/500\n",
      "120/120 [==============================] - 38s 319ms/step - loss: 0.2789 - acc: 0.8967 - val_loss: 0.5891 - val_acc: 0.8500\n",
      "Epoch 122/500\n",
      "120/120 [==============================] - 38s 321ms/step - loss: 0.2759 - acc: 0.9017 - val_loss: 0.6414 - val_acc: 0.8875\n",
      "Epoch 123/500\n",
      "120/120 [==============================] - 38s 318ms/step - loss: 0.2739 - acc: 0.9042 - val_loss: 0.0808 - val_acc: 0.8550\n",
      "Epoch 124/500\n",
      "120/120 [==============================] - 39s 321ms/step - loss: 0.2665 - acc: 0.9042 - val_loss: 0.2521 - val_acc: 0.8625\n",
      "Epoch 125/500\n",
      "120/120 [==============================] - 38s 319ms/step - loss: 0.2782 - acc: 0.8954 - val_loss: 0.1814 - val_acc: 0.8425\n",
      "Epoch 126/500\n",
      "120/120 [==============================] - 38s 318ms/step - loss: 0.2618 - acc: 0.9062 - val_loss: 0.5495 - val_acc: 0.8875\n",
      "Epoch 127/500\n",
      "120/120 [==============================] - 38s 318ms/step - loss: 0.2664 - acc: 0.9021 - val_loss: 0.1748 - val_acc: 0.8250\n",
      "Epoch 128/500\n",
      "120/120 [==============================] - 38s 320ms/step - loss: 0.2417 - acc: 0.9050 - val_loss: 0.5468 - val_acc: 0.8550\n",
      "Epoch 129/500\n",
      "120/120 [==============================] - 39s 324ms/step - loss: 0.2765 - acc: 0.9054 - val_loss: 0.1171 - val_acc: 0.8750\n",
      "Epoch 130/500\n",
      "120/120 [==============================] - 39s 323ms/step - loss: 0.2670 - acc: 0.9033 - val_loss: 0.5621 - val_acc: 0.8375\n",
      "Epoch 131/500\n",
      "120/120 [==============================] - 38s 320ms/step - loss: 0.2417 - acc: 0.9183 - val_loss: 0.4392 - val_acc: 0.8650\n",
      "Epoch 132/500\n",
      "120/120 [==============================] - 38s 319ms/step - loss: 0.2527 - acc: 0.9017 - val_loss: 0.6977 - val_acc: 0.8675\n",
      "Epoch 133/500\n",
      "120/120 [==============================] - 38s 318ms/step - loss: 0.2656 - acc: 0.9013 - val_loss: 0.8290 - val_acc: 0.8575\n",
      "Epoch 134/500\n",
      "120/120 [==============================] - 38s 320ms/step - loss: 0.2637 - acc: 0.9013 - val_loss: 0.3579 - val_acc: 0.8650\n",
      "Epoch 135/500\n",
      "120/120 [==============================] - 38s 319ms/step - loss: 0.2457 - acc: 0.9079 - val_loss: 0.3184 - val_acc: 0.8625\n",
      "Epoch 136/500\n",
      "120/120 [==============================] - 38s 320ms/step - loss: 0.2451 - acc: 0.9096 - val_loss: 0.3331 - val_acc: 0.8850\n",
      "Epoch 137/500\n",
      "120/120 [==============================] - 39s 321ms/step - loss: 0.2325 - acc: 0.9108 - val_loss: 0.2089 - val_acc: 0.8875\n",
      "Epoch 138/500\n",
      "120/120 [==============================] - 39s 321ms/step - loss: 0.2320 - acc: 0.9192 - val_loss: 0.1179 - val_acc: 0.8750\n",
      "Epoch 139/500\n",
      "120/120 [==============================] - 38s 319ms/step - loss: 0.2550 - acc: 0.9117 - val_loss: 0.4696 - val_acc: 0.8725\n",
      "Epoch 140/500\n",
      "120/120 [==============================] - 38s 320ms/step - loss: 0.2464 - acc: 0.9150 - val_loss: 0.7341 - val_acc: 0.8625\n",
      "Epoch 141/500\n",
      "120/120 [==============================] - 38s 318ms/step - loss: 0.2293 - acc: 0.9154 - val_loss: 0.6928 - val_acc: 0.8375\n",
      "Epoch 142/500\n",
      "120/120 [==============================] - 38s 319ms/step - loss: 0.2345 - acc: 0.9192 - val_loss: 0.9591 - val_acc: 0.8525\n",
      "Epoch 143/500\n",
      "120/120 [==============================] - 38s 318ms/step - loss: 0.2360 - acc: 0.9100 - val_loss: 0.0965 - val_acc: 0.8850\n",
      "Epoch 144/500\n",
      "120/120 [==============================] - 38s 320ms/step - loss: 0.2186 - acc: 0.9242 - val_loss: 0.0855 - val_acc: 0.8775\n",
      "Epoch 145/500\n",
      "120/120 [==============================] - 38s 319ms/step - loss: 0.2547 - acc: 0.9062 - val_loss: 0.3661 - val_acc: 0.8850\n",
      "Epoch 146/500\n",
      "120/120 [==============================] - 38s 318ms/step - loss: 0.2347 - acc: 0.9100 - val_loss: 0.2014 - val_acc: 0.8700\n",
      "Epoch 147/500\n",
      "120/120 [==============================] - 38s 319ms/step - loss: 0.2434 - acc: 0.9183 - val_loss: 0.0664 - val_acc: 0.8750\n",
      "Epoch 148/500\n",
      "120/120 [==============================] - 38s 319ms/step - loss: 0.2416 - acc: 0.9146 - val_loss: 0.0948 - val_acc: 0.8550\n",
      "Epoch 149/500\n",
      "120/120 [==============================] - 38s 318ms/step - loss: 0.2319 - acc: 0.9117 - val_loss: 0.1340 - val_acc: 0.8900\n",
      "Epoch 150/500\n",
      "120/120 [==============================] - 38s 319ms/step - loss: 0.2339 - acc: 0.9192 - val_loss: 0.2643 - val_acc: 0.8425\n",
      "Epoch 151/500\n",
      "120/120 [==============================] - 38s 320ms/step - loss: 0.2476 - acc: 0.9054 - val_loss: 0.1826 - val_acc: 0.8600\n",
      "Epoch 152/500\n",
      "120/120 [==============================] - 38s 320ms/step - loss: 0.2297 - acc: 0.9217 - val_loss: 0.7162 - val_acc: 0.8975\n",
      "Epoch 153/500\n",
      "120/120 [==============================] - 39s 321ms/step - loss: 0.2184 - acc: 0.9196 - val_loss: 0.1518 - val_acc: 0.9000\n",
      "Epoch 154/500\n",
      "120/120 [==============================] - 38s 319ms/step - loss: 0.2384 - acc: 0.9129 - val_loss: 0.4912 - val_acc: 0.8675\n",
      "Epoch 155/500\n",
      "120/120 [==============================] - 38s 319ms/step - loss: 0.2073 - acc: 0.9175 - val_loss: 0.3008 - val_acc: 0.8550\n",
      "Epoch 156/500\n",
      "120/120 [==============================] - 39s 327ms/step - loss: 0.2285 - acc: 0.9100 - val_loss: 0.1067 - val_acc: 0.8325\n",
      "Epoch 157/500\n",
      "120/120 [==============================] - 38s 319ms/step - loss: 0.2174 - acc: 0.9208 - val_loss: 0.3156 - val_acc: 0.8525\n",
      "Epoch 158/500\n",
      "120/120 [==============================] - 38s 319ms/step - loss: 0.2160 - acc: 0.9233 - val_loss: 0.5308 - val_acc: 0.8550\n",
      "Epoch 159/500\n",
      "120/120 [==============================] - 38s 319ms/step - loss: 0.2139 - acc: 0.9225 - val_loss: 0.9406 - val_acc: 0.8500\n",
      "Epoch 160/500\n",
      "120/120 [==============================] - 38s 319ms/step - loss: 0.2100 - acc: 0.9271 - val_loss: 0.0360 - val_acc: 0.8475\n",
      "Epoch 161/500\n",
      "120/120 [==============================] - 38s 320ms/step - loss: 0.2080 - acc: 0.9358 - val_loss: 0.7509 - val_acc: 0.8775\n",
      "Epoch 162/500\n",
      "120/120 [==============================] - 38s 319ms/step - loss: 0.2142 - acc: 0.9262 - val_loss: 0.1664 - val_acc: 0.8875\n",
      "Epoch 163/500\n",
      "120/120 [==============================] - 38s 318ms/step - loss: 0.2191 - acc: 0.9296 - val_loss: 0.2544 - val_acc: 0.8400\n",
      "Epoch 164/500\n",
      "120/120 [==============================] - 38s 319ms/step - loss: 0.2114 - acc: 0.9271 - val_loss: 0.1842 - val_acc: 0.8400\n",
      "Epoch 165/500\n",
      "120/120 [==============================] - 38s 319ms/step - loss: 0.2033 - acc: 0.9229 - val_loss: 0.7075 - val_acc: 0.8875\n",
      "Epoch 166/500\n",
      "120/120 [==============================] - 38s 319ms/step - loss: 0.2149 - acc: 0.9200 - val_loss: 0.2544 - val_acc: 0.8625\n",
      "Epoch 167/500\n",
      "120/120 [==============================] - 38s 319ms/step - loss: 0.2010 - acc: 0.9258 - val_loss: 0.2350 - val_acc: 0.8800\n",
      "Epoch 168/500\n",
      "120/120 [==============================] - 39s 324ms/step - loss: 0.2034 - acc: 0.9237 - val_loss: 0.3143 - val_acc: 0.8950\n",
      "Epoch 169/500\n",
      "120/120 [==============================] - 39s 324ms/step - loss: 0.1958 - acc: 0.9317 - val_loss: 0.3576 - val_acc: 0.8675\n",
      "Epoch 170/500\n",
      "120/120 [==============================] - 39s 323ms/step - loss: 0.2106 - acc: 0.9275 - val_loss: 0.6373 - val_acc: 0.8950\n",
      "Epoch 171/500\n",
      "120/120 [==============================] - 38s 319ms/step - loss: 0.2127 - acc: 0.9192 - val_loss: 0.3214 - val_acc: 0.8675\n",
      "Epoch 172/500\n",
      "120/120 [==============================] - 38s 319ms/step - loss: 0.2142 - acc: 0.9187 - val_loss: 0.1755 - val_acc: 0.8650\n",
      "Epoch 173/500\n",
      "120/120 [==============================] - 38s 319ms/step - loss: 0.1968 - acc: 0.9287 - val_loss: 0.2560 - val_acc: 0.8450\n",
      "Epoch 174/500\n",
      "120/120 [==============================] - 38s 318ms/step - loss: 0.2160 - acc: 0.9242 - val_loss: 0.2313 - val_acc: 0.8975\n",
      "Epoch 175/500\n",
      "120/120 [==============================] - 38s 320ms/step - loss: 0.1883 - acc: 0.9321 - val_loss: 0.3822 - val_acc: 0.9100\n",
      "Epoch 176/500\n",
      "120/120 [==============================] - 38s 319ms/step - loss: 0.2054 - acc: 0.9275 - val_loss: 0.3021 - val_acc: 0.9050\n",
      "Epoch 177/500\n",
      "120/120 [==============================] - 38s 319ms/step - loss: 0.1919 - acc: 0.9325 - val_loss: 0.7245 - val_acc: 0.8825\n",
      "Epoch 178/500\n",
      "120/120 [==============================] - 38s 320ms/step - loss: 0.2017 - acc: 0.9333 - val_loss: 0.0543 - val_acc: 0.8800\n",
      "Epoch 179/500\n"
     ]
    },
    {
     "name": "stdout",
     "output_type": "stream",
     "text": [
      "120/120 [==============================] - 38s 318ms/step - loss: 0.1825 - acc: 0.9383 - val_loss: 0.0406 - val_acc: 0.8975\n",
      "Epoch 180/500\n",
      "120/120 [==============================] - 39s 328ms/step - loss: 0.1979 - acc: 0.9300 - val_loss: 0.2937 - val_acc: 0.8575\n",
      "Epoch 181/500\n",
      "120/120 [==============================] - 39s 321ms/step - loss: 0.1988 - acc: 0.9296 - val_loss: 0.2427 - val_acc: 0.8975\n",
      "Epoch 182/500\n",
      "120/120 [==============================] - 38s 318ms/step - loss: 0.1932 - acc: 0.9308 - val_loss: 0.5028 - val_acc: 0.8675\n",
      "Epoch 183/500\n",
      "120/120 [==============================] - 38s 318ms/step - loss: 0.1767 - acc: 0.9312 - val_loss: 0.8183 - val_acc: 0.8475\n",
      "Epoch 184/500\n",
      "120/120 [==============================] - 38s 319ms/step - loss: 0.1859 - acc: 0.9367 - val_loss: 0.2410 - val_acc: 0.9025\n",
      "Epoch 185/500\n",
      "120/120 [==============================] - 40s 337ms/step - loss: 0.1935 - acc: 0.9304 - val_loss: 0.2631 - val_acc: 0.8850\n",
      "Epoch 186/500\n",
      "120/120 [==============================] - 39s 322ms/step - loss: 0.1915 - acc: 0.9321 - val_loss: 0.2113 - val_acc: 0.8850\n",
      "Epoch 187/500\n",
      "120/120 [==============================] - 38s 320ms/step - loss: 0.1828 - acc: 0.9321 - val_loss: 0.2478 - val_acc: 0.8550\n",
      "Epoch 188/500\n",
      "120/120 [==============================] - 38s 318ms/step - loss: 0.1929 - acc: 0.9358 - val_loss: 0.5357 - val_acc: 0.8800\n",
      "Epoch 189/500\n",
      "120/120 [==============================] - 38s 319ms/step - loss: 0.2004 - acc: 0.9383 - val_loss: 0.7650 - val_acc: 0.8675\n",
      "Epoch 190/500\n",
      "120/120 [==============================] - 38s 319ms/step - loss: 0.1682 - acc: 0.9358 - val_loss: 0.4305 - val_acc: 0.8900\n",
      "Epoch 191/500\n",
      "120/120 [==============================] - 38s 319ms/step - loss: 0.1966 - acc: 0.9258 - val_loss: 0.4174 - val_acc: 0.8775\n",
      "Epoch 192/500\n",
      "120/120 [==============================] - 38s 321ms/step - loss: 0.1773 - acc: 0.9383 - val_loss: 0.1255 - val_acc: 0.8975\n",
      "Epoch 193/500\n",
      "120/120 [==============================] - 38s 320ms/step - loss: 0.1933 - acc: 0.9308 - val_loss: 0.6107 - val_acc: 0.8775\n",
      "Epoch 194/500\n",
      "120/120 [==============================] - 39s 321ms/step - loss: 0.1604 - acc: 0.9400 - val_loss: 0.0816 - val_acc: 0.8850\n",
      "Epoch 195/500\n",
      "120/120 [==============================] - 38s 318ms/step - loss: 0.1983 - acc: 0.9308 - val_loss: 0.6194 - val_acc: 0.9100\n",
      "Epoch 196/500\n",
      "120/120 [==============================] - 38s 320ms/step - loss: 0.1786 - acc: 0.9337 - val_loss: 0.1060 - val_acc: 0.9000\n",
      "Epoch 197/500\n",
      "120/120 [==============================] - 38s 320ms/step - loss: 0.1881 - acc: 0.9379 - val_loss: 0.4946 - val_acc: 0.8850\n",
      "Epoch 198/500\n",
      "120/120 [==============================] - 38s 318ms/step - loss: 0.1690 - acc: 0.9458 - val_loss: 0.1068 - val_acc: 0.8775\n",
      "Epoch 199/500\n",
      "120/120 [==============================] - 38s 320ms/step - loss: 0.1703 - acc: 0.9383 - val_loss: 0.1651 - val_acc: 0.8825\n",
      "Epoch 200/500\n",
      "120/120 [==============================] - 39s 321ms/step - loss: 0.1856 - acc: 0.9388 - val_loss: 0.3309 - val_acc: 0.8925\n",
      "Epoch 201/500\n",
      "120/120 [==============================] - 38s 319ms/step - loss: 0.1907 - acc: 0.9358 - val_loss: 0.0462 - val_acc: 0.9025\n",
      "Epoch 202/500\n",
      "120/120 [==============================] - 38s 320ms/step - loss: 0.1619 - acc: 0.9450 - val_loss: 0.0355 - val_acc: 0.8950\n",
      "Epoch 203/500\n",
      "120/120 [==============================] - 38s 319ms/step - loss: 0.1794 - acc: 0.9375 - val_loss: 0.1017 - val_acc: 0.8625\n",
      "Epoch 204/500\n",
      "120/120 [==============================] - 38s 318ms/step - loss: 0.1915 - acc: 0.9388 - val_loss: 0.0992 - val_acc: 0.8900\n",
      "Epoch 205/500\n",
      "120/120 [==============================] - 38s 319ms/step - loss: 0.1584 - acc: 0.9475 - val_loss: 0.8875 - val_acc: 0.8650\n",
      "Epoch 206/500\n",
      "120/120 [==============================] - 38s 320ms/step - loss: 0.1583 - acc: 0.9433 - val_loss: 0.3720 - val_acc: 0.8900\n",
      "Epoch 207/500\n",
      "120/120 [==============================] - 38s 319ms/step - loss: 0.1626 - acc: 0.9375 - val_loss: 0.4499 - val_acc: 0.8525\n",
      "Epoch 208/500\n",
      "120/120 [==============================] - 38s 319ms/step - loss: 0.1606 - acc: 0.9413 - val_loss: 0.6477 - val_acc: 0.8850\n",
      "Epoch 209/500\n",
      "120/120 [==============================] - 38s 319ms/step - loss: 0.1708 - acc: 0.9413 - val_loss: 0.1625 - val_acc: 0.8825\n",
      "Epoch 210/500\n",
      "120/120 [==============================] - 38s 319ms/step - loss: 0.1783 - acc: 0.9354 - val_loss: 0.5572 - val_acc: 0.9050\n",
      "Epoch 211/500\n",
      "120/120 [==============================] - 38s 319ms/step - loss: 0.1707 - acc: 0.9450 - val_loss: 0.3443 - val_acc: 0.8950\n",
      "Epoch 212/500\n",
      "120/120 [==============================] - 38s 320ms/step - loss: 0.1564 - acc: 0.9442 - val_loss: 0.3621 - val_acc: 0.8600\n",
      "Epoch 213/500\n",
      "120/120 [==============================] - 38s 319ms/step - loss: 0.1826 - acc: 0.9362 - val_loss: 0.1231 - val_acc: 0.9000\n",
      "Epoch 214/500\n",
      "120/120 [==============================] - 38s 319ms/step - loss: 0.1660 - acc: 0.9392 - val_loss: 0.4834 - val_acc: 0.8725\n",
      "Epoch 215/500\n",
      "120/120 [==============================] - 38s 320ms/step - loss: 0.1672 - acc: 0.9400 - val_loss: 0.2158 - val_acc: 0.8800\n",
      "Epoch 216/500\n",
      "120/120 [==============================] - 38s 319ms/step - loss: 0.1639 - acc: 0.9463 - val_loss: 0.3453 - val_acc: 0.8925\n",
      "Epoch 217/500\n",
      "120/120 [==============================] - 38s 318ms/step - loss: 0.1820 - acc: 0.9350 - val_loss: 0.8811 - val_acc: 0.8700\n",
      "Epoch 218/500\n",
      "120/120 [==============================] - 38s 319ms/step - loss: 0.1641 - acc: 0.9404 - val_loss: 1.0259 - val_acc: 0.8825\n",
      "Epoch 219/500\n",
      "120/120 [==============================] - 38s 320ms/step - loss: 0.1748 - acc: 0.9383 - val_loss: 0.2841 - val_acc: 0.8875\n",
      "Epoch 220/500\n",
      "120/120 [==============================] - 38s 319ms/step - loss: 0.1466 - acc: 0.9454 - val_loss: 0.7270 - val_acc: 0.8950\n",
      "Epoch 221/500\n",
      "120/120 [==============================] - 38s 319ms/step - loss: 0.1599 - acc: 0.9525 - val_loss: 0.3201 - val_acc: 0.8825\n",
      "Epoch 222/500\n",
      "120/120 [==============================] - 38s 321ms/step - loss: 0.1585 - acc: 0.9425 - val_loss: 0.3932 - val_acc: 0.8675\n",
      "Epoch 223/500\n",
      "120/120 [==============================] - 38s 319ms/step - loss: 0.1542 - acc: 0.9475 - val_loss: 0.4128 - val_acc: 0.8825\n",
      "Epoch 224/500\n",
      "120/120 [==============================] - 38s 319ms/step - loss: 0.1593 - acc: 0.9425 - val_loss: 0.0917 - val_acc: 0.8900\n",
      "Epoch 225/500\n",
      "120/120 [==============================] - 38s 320ms/step - loss: 0.1629 - acc: 0.9375 - val_loss: 0.2730 - val_acc: 0.8750\n",
      "Epoch 226/500\n",
      "120/120 [==============================] - 38s 320ms/step - loss: 0.1343 - acc: 0.9513 - val_loss: 0.3325 - val_acc: 0.8550\n",
      "Epoch 227/500\n",
      "120/120 [==============================] - 38s 319ms/step - loss: 0.1629 - acc: 0.9442 - val_loss: 0.7166 - val_acc: 0.9075\n",
      "Epoch 228/500\n",
      "120/120 [==============================] - 38s 320ms/step - loss: 0.1746 - acc: 0.9463 - val_loss: 0.1132 - val_acc: 0.8800\n",
      "Epoch 229/500\n",
      "120/120 [==============================] - 38s 319ms/step - loss: 0.1651 - acc: 0.9413 - val_loss: 0.1296 - val_acc: 0.8925\n",
      "Epoch 230/500\n",
      "120/120 [==============================] - 38s 319ms/step - loss: 0.1408 - acc: 0.9521 - val_loss: 0.6891 - val_acc: 0.8525\n",
      "Epoch 231/500\n",
      "120/120 [==============================] - 38s 320ms/step - loss: 0.1559 - acc: 0.9454 - val_loss: 0.0848 - val_acc: 0.9125\n",
      "Epoch 232/500\n",
      "120/120 [==============================] - 38s 319ms/step - loss: 0.1599 - acc: 0.9429 - val_loss: 0.3599 - val_acc: 0.8675\n",
      "Epoch 233/500\n",
      "120/120 [==============================] - 38s 318ms/step - loss: 0.1615 - acc: 0.9454 - val_loss: 0.1547 - val_acc: 0.8925\n",
      "Epoch 234/500\n",
      "120/120 [==============================] - 38s 320ms/step - loss: 0.1570 - acc: 0.9450 - val_loss: 0.5002 - val_acc: 0.8950\n",
      "Epoch 235/500\n",
      "120/120 [==============================] - 38s 320ms/step - loss: 0.1493 - acc: 0.9463 - val_loss: 0.1516 - val_acc: 0.8600\n",
      "Epoch 236/500\n",
      "120/120 [==============================] - 38s 319ms/step - loss: 0.1456 - acc: 0.9458 - val_loss: 0.2656 - val_acc: 0.8775\n",
      "Epoch 237/500\n",
      "120/120 [==============================] - 38s 320ms/step - loss: 0.1556 - acc: 0.9450 - val_loss: 0.3719 - val_acc: 0.8950\n",
      "Epoch 238/500\n"
     ]
    },
    {
     "name": "stdout",
     "output_type": "stream",
     "text": [
      "120/120 [==============================] - 40s 335ms/step - loss: 0.1480 - acc: 0.9429 - val_loss: 0.2274 - val_acc: 0.8850\n",
      "Epoch 239/500\n",
      "120/120 [==============================] - 38s 321ms/step - loss: 0.1679 - acc: 0.9442 - val_loss: 0.5064 - val_acc: 0.9050\n",
      "Epoch 240/500\n",
      "120/120 [==============================] - 38s 319ms/step - loss: 0.1516 - acc: 0.9479 - val_loss: 0.3648 - val_acc: 0.8900\n",
      "Epoch 241/500\n",
      "120/120 [==============================] - 38s 318ms/step - loss: 0.1392 - acc: 0.9529 - val_loss: 0.1090 - val_acc: 0.8975\n",
      "Epoch 242/500\n",
      "120/120 [==============================] - 39s 326ms/step - loss: 0.1673 - acc: 0.9425 - val_loss: 0.5012 - val_acc: 0.8850\n",
      "Epoch 243/500\n",
      "120/120 [==============================] - 38s 317ms/step - loss: 0.1550 - acc: 0.9458 - val_loss: 0.7553 - val_acc: 0.8950\n",
      "Epoch 244/500\n",
      "120/120 [==============================] - 38s 319ms/step - loss: 0.1507 - acc: 0.9479 - val_loss: 0.0857 - val_acc: 0.8975\n",
      "Epoch 245/500\n",
      "120/120 [==============================] - 38s 318ms/step - loss: 0.1647 - acc: 0.9438 - val_loss: 0.5819 - val_acc: 0.8750\n",
      "Epoch 246/500\n",
      "120/120 [==============================] - 39s 321ms/step - loss: 0.1455 - acc: 0.9508 - val_loss: 0.7289 - val_acc: 0.8700\n",
      "Epoch 247/500\n",
      "120/120 [==============================] - 38s 320ms/step - loss: 0.1617 - acc: 0.9475 - val_loss: 0.2474 - val_acc: 0.8875\n",
      "Epoch 248/500\n",
      "120/120 [==============================] - 38s 318ms/step - loss: 0.1388 - acc: 0.9554 - val_loss: 0.2707 - val_acc: 0.8875\n",
      "Epoch 249/500\n",
      "120/120 [==============================] - 39s 323ms/step - loss: 0.1473 - acc: 0.9463 - val_loss: 0.5432 - val_acc: 0.8550\n",
      "Epoch 250/500\n",
      "120/120 [==============================] - 38s 321ms/step - loss: 0.1525 - acc: 0.9471 - val_loss: 0.0985 - val_acc: 0.8875\n",
      "Epoch 251/500\n",
      "120/120 [==============================] - 38s 318ms/step - loss: 0.1495 - acc: 0.9463 - val_loss: 0.2531 - val_acc: 0.8825\n",
      "Epoch 252/500\n",
      "120/120 [==============================] - 38s 318ms/step - loss: 0.1398 - acc: 0.9538 - val_loss: 0.6040 - val_acc: 0.8925\n",
      "Epoch 253/500\n",
      "120/120 [==============================] - 38s 319ms/step - loss: 0.1642 - acc: 0.9500 - val_loss: 1.0004 - val_acc: 0.8900\n",
      "Epoch 254/500\n",
      "120/120 [==============================] - 38s 318ms/step - loss: 0.1344 - acc: 0.9479 - val_loss: 0.5658 - val_acc: 0.8950\n",
      "Epoch 255/500\n",
      "120/120 [==============================] - 38s 318ms/step - loss: 0.1494 - acc: 0.9471 - val_loss: 0.2816 - val_acc: 0.8550\n",
      "Epoch 256/500\n",
      "120/120 [==============================] - 40s 331ms/step - loss: 0.1367 - acc: 0.9500 - val_loss: 0.6957 - val_acc: 0.8750\n",
      "Epoch 257/500\n",
      "120/120 [==============================] - 38s 320ms/step - loss: 0.1279 - acc: 0.9529 - val_loss: 1.0835 - val_acc: 0.8950\n",
      "Epoch 258/500\n",
      "120/120 [==============================] - 38s 318ms/step - loss: 0.1400 - acc: 0.9521 - val_loss: 0.1323 - val_acc: 0.8825\n",
      "Epoch 259/500\n",
      "120/120 [==============================] - 39s 324ms/step - loss: 0.1333 - acc: 0.9546 - val_loss: 0.2733 - val_acc: 0.8775\n",
      "Epoch 260/500\n",
      "120/120 [==============================] - 38s 318ms/step - loss: 0.1408 - acc: 0.9521 - val_loss: 0.0802 - val_acc: 0.8900\n",
      "Epoch 261/500\n",
      "120/120 [==============================] - 38s 317ms/step - loss: 0.1373 - acc: 0.9508 - val_loss: 0.8428 - val_acc: 0.8625\n",
      "Epoch 262/500\n",
      "120/120 [==============================] - 38s 320ms/step - loss: 0.1654 - acc: 0.9404 - val_loss: 0.8032 - val_acc: 0.8725\n",
      "Epoch 263/500\n",
      "120/120 [==============================] - 38s 319ms/step - loss: 0.1494 - acc: 0.9463 - val_loss: 1.1520 - val_acc: 0.8900\n",
      "Epoch 264/500\n",
      "120/120 [==============================] - 38s 319ms/step - loss: 0.1561 - acc: 0.9450 - val_loss: 0.5180 - val_acc: 0.8850\n",
      "Epoch 265/500\n",
      "120/120 [==============================] - 39s 321ms/step - loss: 0.1336 - acc: 0.9542 - val_loss: 0.1143 - val_acc: 0.8725\n",
      "Epoch 266/500\n",
      "120/120 [==============================] - 38s 318ms/step - loss: 0.1557 - acc: 0.9479 - val_loss: 0.5226 - val_acc: 0.8775\n",
      "Epoch 267/500\n",
      "120/120 [==============================] - 38s 318ms/step - loss: 0.1302 - acc: 0.9521 - val_loss: 0.9075 - val_acc: 0.8375\n",
      "Epoch 268/500\n",
      "120/120 [==============================] - 38s 318ms/step - loss: 0.1465 - acc: 0.9504 - val_loss: 0.5432 - val_acc: 0.8925\n",
      "Epoch 269/500\n",
      "120/120 [==============================] - 38s 319ms/step - loss: 0.1509 - acc: 0.9475 - val_loss: 0.0767 - val_acc: 0.8775\n",
      "Epoch 270/500\n",
      "120/120 [==============================] - 38s 318ms/step - loss: 0.1271 - acc: 0.9563 - val_loss: 0.4570 - val_acc: 0.8925\n",
      "Epoch 271/500\n",
      "120/120 [==============================] - 38s 318ms/step - loss: 0.1299 - acc: 0.9554 - val_loss: 0.0251 - val_acc: 0.8900\n",
      "Epoch 272/500\n",
      "120/120 [==============================] - 38s 319ms/step - loss: 0.1489 - acc: 0.9500 - val_loss: 0.7875 - val_acc: 0.8775\n",
      "Epoch 273/500\n",
      "120/120 [==============================] - 38s 319ms/step - loss: 0.1381 - acc: 0.9546 - val_loss: 0.1683 - val_acc: 0.8775\n",
      "Epoch 274/500\n",
      "120/120 [==============================] - 38s 319ms/step - loss: 0.1396 - acc: 0.9504 - val_loss: 0.0940 - val_acc: 0.8900\n",
      "Epoch 275/500\n",
      "120/120 [==============================] - 38s 318ms/step - loss: 0.1493 - acc: 0.9529 - val_loss: 0.3372 - val_acc: 0.8900\n",
      "Epoch 276/500\n",
      "120/120 [==============================] - 38s 318ms/step - loss: 0.1276 - acc: 0.9546 - val_loss: 0.1720 - val_acc: 0.8875\n",
      "Epoch 277/500\n",
      "120/120 [==============================] - 38s 318ms/step - loss: 0.1450 - acc: 0.9525 - val_loss: 0.1999 - val_acc: 0.8975\n",
      "Epoch 278/500\n",
      "120/120 [==============================] - 38s 319ms/step - loss: 0.1301 - acc: 0.9529 - val_loss: 0.6487 - val_acc: 0.8800\n",
      "Epoch 279/500\n",
      "120/120 [==============================] - 38s 319ms/step - loss: 0.1422 - acc: 0.9550 - val_loss: 0.4486 - val_acc: 0.8775\n",
      "Epoch 280/500\n",
      "120/120 [==============================] - 38s 319ms/step - loss: 0.1287 - acc: 0.9558 - val_loss: 0.9261 - val_acc: 0.9050\n",
      "Epoch 281/500\n",
      "120/120 [==============================] - 39s 321ms/step - loss: 0.1438 - acc: 0.9571 - val_loss: 0.5118 - val_acc: 0.8875\n",
      "Epoch 282/500\n",
      "120/120 [==============================] - 38s 319ms/step - loss: 0.1327 - acc: 0.9588 - val_loss: 0.1886 - val_acc: 0.8800\n",
      "Epoch 283/500\n",
      "120/120 [==============================] - 38s 318ms/step - loss: 0.1166 - acc: 0.9579 - val_loss: 0.3861 - val_acc: 0.8850\n",
      "Epoch 284/500\n",
      "120/120 [==============================] - 38s 319ms/step - loss: 0.1472 - acc: 0.9533 - val_loss: 0.1314 - val_acc: 0.8875\n",
      "Epoch 285/500\n",
      "120/120 [==============================] - 38s 318ms/step - loss: 0.1238 - acc: 0.9608 - val_loss: 0.1687 - val_acc: 0.8775\n",
      "Epoch 286/500\n",
      "120/120 [==============================] - 38s 318ms/step - loss: 0.1226 - acc: 0.9550 - val_loss: 0.2947 - val_acc: 0.8825\n",
      "Epoch 287/500\n",
      "120/120 [==============================] - 38s 319ms/step - loss: 0.1506 - acc: 0.9496 - val_loss: 0.6504 - val_acc: 0.8800\n",
      "Epoch 288/500\n",
      "120/120 [==============================] - 38s 319ms/step - loss: 0.1225 - acc: 0.9546 - val_loss: 0.5938 - val_acc: 0.8700\n",
      "Epoch 289/500\n",
      "120/120 [==============================] - 38s 318ms/step - loss: 0.1427 - acc: 0.9542 - val_loss: 0.1432 - val_acc: 0.8775\n",
      "Epoch 290/500\n",
      "120/120 [==============================] - 38s 319ms/step - loss: 0.1540 - acc: 0.9475 - val_loss: 0.5930 - val_acc: 0.8875\n",
      "Epoch 291/500\n",
      "120/120 [==============================] - 38s 319ms/step - loss: 0.1286 - acc: 0.9550 - val_loss: 0.6187 - val_acc: 0.9000\n",
      "Epoch 292/500\n",
      "120/120 [==============================] - 38s 318ms/step - loss: 0.1170 - acc: 0.9604 - val_loss: 0.3762 - val_acc: 0.8750\n",
      "Epoch 293/500\n",
      "120/120 [==============================] - 38s 318ms/step - loss: 0.1322 - acc: 0.9525 - val_loss: 0.3557 - val_acc: 0.8875\n",
      "Epoch 294/500\n",
      "120/120 [==============================] - 38s 319ms/step - loss: 0.1428 - acc: 0.9546 - val_loss: 0.2583 - val_acc: 0.8975\n",
      "Epoch 295/500\n",
      "120/120 [==============================] - 38s 319ms/step - loss: 0.1067 - acc: 0.9596 - val_loss: 0.0678 - val_acc: 0.8925\n",
      "Epoch 296/500\n",
      "120/120 [==============================] - 38s 319ms/step - loss: 0.1395 - acc: 0.9525 - val_loss: 0.5494 - val_acc: 0.8925\n",
      "Epoch 297/500\n"
     ]
    },
    {
     "name": "stdout",
     "output_type": "stream",
     "text": [
      "120/120 [==============================] - 38s 319ms/step - loss: 0.1410 - acc: 0.9513 - val_loss: 0.6362 - val_acc: 0.8725\n",
      "Epoch 298/500\n",
      "120/120 [==============================] - 38s 317ms/step - loss: 0.1250 - acc: 0.9550 - val_loss: 0.2055 - val_acc: 0.8950\n",
      "Epoch 299/500\n",
      "120/120 [==============================] - 38s 317ms/step - loss: 0.1292 - acc: 0.9521 - val_loss: 0.2316 - val_acc: 0.9000\n",
      "Epoch 300/500\n",
      "120/120 [==============================] - 38s 318ms/step - loss: 0.1385 - acc: 0.9521 - val_loss: 0.8269 - val_acc: 0.8500\n",
      "Epoch 301/500\n",
      "120/120 [==============================] - 38s 317ms/step - loss: 0.1279 - acc: 0.9579 - val_loss: 0.6822 - val_acc: 0.8725\n",
      "Epoch 302/500\n",
      "120/120 [==============================] - 38s 317ms/step - loss: 0.1276 - acc: 0.9600 - val_loss: 1.2529 - val_acc: 0.8850\n",
      "Epoch 303/500\n",
      "120/120 [==============================] - 38s 318ms/step - loss: 0.1310 - acc: 0.9521 - val_loss: 0.0545 - val_acc: 0.8975\n",
      "Epoch 304/500\n",
      "120/120 [==============================] - 38s 317ms/step - loss: 0.1279 - acc: 0.9546 - val_loss: 0.6872 - val_acc: 0.8900\n",
      "Epoch 305/500\n",
      "120/120 [==============================] - 38s 317ms/step - loss: 0.1379 - acc: 0.9517 - val_loss: 0.0784 - val_acc: 0.8875\n",
      "Epoch 306/500\n",
      "120/120 [==============================] - 38s 318ms/step - loss: 0.1175 - acc: 0.9583 - val_loss: 0.1623 - val_acc: 0.8875\n",
      "Epoch 307/500\n",
      "120/120 [==============================] - 38s 317ms/step - loss: 0.1154 - acc: 0.9571 - val_loss: 0.5715 - val_acc: 0.8875\n",
      "Epoch 308/500\n",
      "120/120 [==============================] - 38s 317ms/step - loss: 0.1207 - acc: 0.9554 - val_loss: 0.4491 - val_acc: 0.8800\n",
      "Epoch 309/500\n",
      "120/120 [==============================] - 38s 319ms/step - loss: 0.1091 - acc: 0.9617 - val_loss: 1.0162 - val_acc: 0.8875\n",
      "Epoch 310/500\n",
      "120/120 [==============================] - 38s 317ms/step - loss: 0.1178 - acc: 0.9558 - val_loss: 0.6840 - val_acc: 0.8900\n",
      "Epoch 311/500\n",
      "120/120 [==============================] - 38s 318ms/step - loss: 0.1416 - acc: 0.9571 - val_loss: 1.1798 - val_acc: 0.9075\n",
      "Epoch 312/500\n",
      "120/120 [==============================] - 38s 318ms/step - loss: 0.1355 - acc: 0.9583 - val_loss: 0.9271 - val_acc: 0.8775\n",
      "Epoch 313/500\n",
      "120/120 [==============================] - 38s 318ms/step - loss: 0.1278 - acc: 0.9575 - val_loss: 0.1661 - val_acc: 0.8850\n",
      "Epoch 314/500\n",
      "120/120 [==============================] - 38s 317ms/step - loss: 0.1504 - acc: 0.9529 - val_loss: 0.0989 - val_acc: 0.8475\n",
      "Epoch 315/500\n",
      "120/120 [==============================] - 38s 317ms/step - loss: 0.1180 - acc: 0.9604 - val_loss: 0.5418 - val_acc: 0.8600\n",
      "Epoch 316/500\n",
      "120/120 [==============================] - 38s 319ms/step - loss: 0.1316 - acc: 0.9592 - val_loss: 0.1453 - val_acc: 0.8650\n",
      "Epoch 317/500\n",
      "120/120 [==============================] - 38s 318ms/step - loss: 0.1235 - acc: 0.9546 - val_loss: 0.2847 - val_acc: 0.8550\n",
      "Epoch 318/500\n",
      "120/120 [==============================] - 38s 318ms/step - loss: 0.1183 - acc: 0.9596 - val_loss: 0.2203 - val_acc: 0.8775\n",
      "Epoch 319/500\n",
      "120/120 [==============================] - 39s 329ms/step - loss: 0.1460 - acc: 0.9533 - val_loss: 0.6877 - val_acc: 0.8625\n",
      "Epoch 320/500\n",
      "120/120 [==============================] - 38s 320ms/step - loss: 0.1040 - acc: 0.9646 - val_loss: 0.2190 - val_acc: 0.8775\n",
      "Epoch 321/500\n",
      "120/120 [==============================] - 38s 320ms/step - loss: 0.1151 - acc: 0.9604 - val_loss: 1.1518 - val_acc: 0.8850\n",
      "Epoch 322/500\n",
      "120/120 [==============================] - 38s 321ms/step - loss: 0.1324 - acc: 0.9525 - val_loss: 0.1440 - val_acc: 0.8775\n",
      "Epoch 323/500\n",
      "120/120 [==============================] - 38s 320ms/step - loss: 0.1149 - acc: 0.9625 - val_loss: 0.7537 - val_acc: 0.8400\n",
      "Epoch 324/500\n",
      "120/120 [==============================] - 38s 321ms/step - loss: 0.1291 - acc: 0.9521 - val_loss: 0.4285 - val_acc: 0.8850\n",
      "Epoch 325/500\n",
      "120/120 [==============================] - 39s 321ms/step - loss: 0.1234 - acc: 0.9521 - val_loss: 0.3264 - val_acc: 0.8625\n",
      "Epoch 326/500\n",
      "120/120 [==============================] - 38s 319ms/step - loss: 0.1289 - acc: 0.9613 - val_loss: 0.5849 - val_acc: 0.8575\n",
      "Epoch 327/500\n",
      "120/120 [==============================] - 38s 320ms/step - loss: 0.1155 - acc: 0.9600 - val_loss: 0.0940 - val_acc: 0.8550\n",
      "Epoch 328/500\n",
      "120/120 [==============================] - 38s 321ms/step - loss: 0.1250 - acc: 0.9588 - val_loss: 0.4413 - val_acc: 0.8725\n",
      "Epoch 329/500\n",
      "120/120 [==============================] - 38s 319ms/step - loss: 0.1212 - acc: 0.9583 - val_loss: 0.0971 - val_acc: 0.8750\n",
      "Epoch 330/500\n",
      "120/120 [==============================] - 38s 320ms/step - loss: 0.1194 - acc: 0.9579 - val_loss: 0.2658 - val_acc: 0.8950\n",
      "Epoch 331/500\n",
      "120/120 [==============================] - 38s 320ms/step - loss: 0.1356 - acc: 0.9588 - val_loss: 0.4238 - val_acc: 0.8900\n",
      "Epoch 332/500\n",
      "120/120 [==============================] - 38s 319ms/step - loss: 0.1065 - acc: 0.9621 - val_loss: 0.5262 - val_acc: 0.8650\n",
      "Epoch 333/500\n",
      "120/120 [==============================] - 38s 320ms/step - loss: 0.1286 - acc: 0.9633 - val_loss: 0.4109 - val_acc: 0.8925\n",
      "Epoch 334/500\n",
      "120/120 [==============================] - 38s 320ms/step - loss: 0.1302 - acc: 0.9629 - val_loss: 0.3324 - val_acc: 0.8675\n",
      "Epoch 335/500\n",
      "120/120 [==============================] - 38s 319ms/step - loss: 0.1215 - acc: 0.9596 - val_loss: 0.4352 - val_acc: 0.8600\n",
      "Epoch 336/500\n",
      "120/120 [==============================] - 38s 319ms/step - loss: 0.1269 - acc: 0.9546 - val_loss: 0.5353 - val_acc: 0.8725\n",
      "Epoch 337/500\n",
      "120/120 [==============================] - 38s 321ms/step - loss: 0.1248 - acc: 0.9579 - val_loss: 0.7014 - val_acc: 0.8725\n",
      "Epoch 338/500\n",
      "120/120 [==============================] - 38s 321ms/step - loss: 0.1256 - acc: 0.9575 - val_loss: 0.2759 - val_acc: 0.8775\n",
      "Epoch 339/500\n",
      "120/120 [==============================] - 38s 320ms/step - loss: 0.1240 - acc: 0.9567 - val_loss: 0.2975 - val_acc: 0.8575\n",
      "Epoch 340/500\n",
      "120/120 [==============================] - 38s 319ms/step - loss: 0.1264 - acc: 0.9596 - val_loss: 0.0999 - val_acc: 0.8900\n",
      "Epoch 341/500\n",
      "120/120 [==============================] - 38s 320ms/step - loss: 0.1273 - acc: 0.9596 - val_loss: 1.9610 - val_acc: 0.8650\n",
      "Epoch 342/500\n",
      "120/120 [==============================] - 38s 319ms/step - loss: 0.1253 - acc: 0.9579 - val_loss: 0.5955 - val_acc: 0.8850\n",
      "Epoch 343/500\n",
      "120/120 [==============================] - 38s 320ms/step - loss: 0.1137 - acc: 0.9633 - val_loss: 0.0639 - val_acc: 0.9050\n",
      "Epoch 344/500\n",
      "120/120 [==============================] - 39s 325ms/step - loss: 0.1236 - acc: 0.9575 - val_loss: 0.1176 - val_acc: 0.8875\n",
      "Epoch 345/500\n",
      "120/120 [==============================] - 38s 320ms/step - loss: 0.1240 - acc: 0.9596 - val_loss: 0.3988 - val_acc: 0.8900\n",
      "Epoch 346/500\n",
      "120/120 [==============================] - 38s 319ms/step - loss: 0.1022 - acc: 0.9633 - val_loss: 0.6825 - val_acc: 0.8850\n",
      "Epoch 347/500\n",
      "120/120 [==============================] - 38s 321ms/step - loss: 0.1259 - acc: 0.9579 - val_loss: 0.7273 - val_acc: 0.8775\n",
      "Epoch 348/500\n",
      "120/120 [==============================] - 38s 320ms/step - loss: 0.1362 - acc: 0.9533 - val_loss: 0.2444 - val_acc: 0.8925\n",
      "Epoch 349/500\n",
      "120/120 [==============================] - 38s 321ms/step - loss: 0.1183 - acc: 0.9608 - val_loss: 0.7947 - val_acc: 0.8900\n",
      "Epoch 350/500\n",
      "120/120 [==============================] - 38s 320ms/step - loss: 0.1046 - acc: 0.9646 - val_loss: 0.4897 - val_acc: 0.8800\n",
      "Epoch 351/500\n",
      "120/120 [==============================] - 38s 320ms/step - loss: 0.1394 - acc: 0.9542 - val_loss: 0.0391 - val_acc: 0.8950\n",
      "Epoch 352/500\n",
      "120/120 [==============================] - 38s 320ms/step - loss: 0.1166 - acc: 0.9592 - val_loss: 0.5156 - val_acc: 0.8925\n",
      "Epoch 353/500\n",
      "120/120 [==============================] - 39s 321ms/step - loss: 0.1122 - acc: 0.9621 - val_loss: 0.8756 - val_acc: 0.8800\n",
      "Epoch 354/500\n",
      "120/120 [==============================] - 38s 320ms/step - loss: 0.1112 - acc: 0.9579 - val_loss: 0.2740 - val_acc: 0.8650\n",
      "Epoch 355/500\n",
      "120/120 [==============================] - 38s 319ms/step - loss: 0.1195 - acc: 0.9642 - val_loss: 0.4301 - val_acc: 0.8750\n",
      "Epoch 356/500\n"
     ]
    },
    {
     "name": "stdout",
     "output_type": "stream",
     "text": [
      "120/120 [==============================] - 38s 318ms/step - loss: 0.1268 - acc: 0.9608 - val_loss: 0.1201 - val_acc: 0.8850\n",
      "Epoch 357/500\n",
      "120/120 [==============================] - 38s 317ms/step - loss: 0.1273 - acc: 0.9567 - val_loss: 0.4576 - val_acc: 0.8600\n",
      "Epoch 358/500\n",
      "120/120 [==============================] - 38s 318ms/step - loss: 0.1091 - acc: 0.9579 - val_loss: 0.7969 - val_acc: 0.9075\n",
      "Epoch 359/500\n",
      "120/120 [==============================] - 38s 319ms/step - loss: 0.1110 - acc: 0.9646 - val_loss: 0.1383 - val_acc: 0.9000\n",
      "Epoch 360/500\n",
      "120/120 [==============================] - 38s 317ms/step - loss: 0.1206 - acc: 0.9563 - val_loss: 0.5479 - val_acc: 0.8750\n",
      "Epoch 361/500\n",
      "120/120 [==============================] - 38s 317ms/step - loss: 0.1057 - acc: 0.9646 - val_loss: 0.7824 - val_acc: 0.8825\n",
      "Epoch 362/500\n",
      "120/120 [==============================] - 38s 317ms/step - loss: 0.1232 - acc: 0.9588 - val_loss: 0.0996 - val_acc: 0.8600\n",
      "Epoch 363/500\n",
      "120/120 [==============================] - 38s 319ms/step - loss: 0.1309 - acc: 0.9558 - val_loss: 0.9119 - val_acc: 0.8725\n",
      "Epoch 364/500\n",
      "120/120 [==============================] - 38s 317ms/step - loss: 0.1250 - acc: 0.9596 - val_loss: 0.0546 - val_acc: 0.8875\n",
      "Epoch 365/500\n",
      "120/120 [==============================] - 38s 319ms/step - loss: 0.1065 - acc: 0.9629 - val_loss: 0.1268 - val_acc: 0.8925\n",
      "Epoch 366/500\n",
      "120/120 [==============================] - 38s 319ms/step - loss: 0.1093 - acc: 0.9604 - val_loss: 0.1609 - val_acc: 0.8850\n",
      "Epoch 367/500\n",
      "120/120 [==============================] - 38s 318ms/step - loss: 0.1209 - acc: 0.9583 - val_loss: 0.2073 - val_acc: 0.9000\n",
      "Epoch 368/500\n",
      "120/120 [==============================] - 38s 317ms/step - loss: 0.1131 - acc: 0.9633 - val_loss: 0.9036 - val_acc: 0.8675\n",
      "Epoch 369/500\n",
      "120/120 [==============================] - 38s 319ms/step - loss: 0.1092 - acc: 0.9613 - val_loss: 0.6482 - val_acc: 0.8850\n",
      "Epoch 370/500\n",
      "120/120 [==============================] - 38s 318ms/step - loss: 0.1268 - acc: 0.9575 - val_loss: 0.0720 - val_acc: 0.8975\n",
      "Epoch 371/500\n",
      "120/120 [==============================] - 38s 317ms/step - loss: 0.1021 - acc: 0.9646 - val_loss: 0.7625 - val_acc: 0.8850\n",
      "Epoch 372/500\n",
      "120/120 [==============================] - 38s 319ms/step - loss: 0.1117 - acc: 0.9667 - val_loss: 0.7386 - val_acc: 0.8900\n",
      "Epoch 373/500\n",
      "120/120 [==============================] - 38s 319ms/step - loss: 0.1052 - acc: 0.9621 - val_loss: 0.3294 - val_acc: 0.8700\n",
      "Epoch 374/500\n",
      "120/120 [==============================] - 38s 318ms/step - loss: 0.1337 - acc: 0.9546 - val_loss: 0.3860 - val_acc: 0.8850\n",
      "Epoch 375/500\n",
      "120/120 [==============================] - 38s 318ms/step - loss: 0.1104 - acc: 0.9642 - val_loss: 0.6106 - val_acc: 0.8800\n",
      "Epoch 376/500\n",
      "120/120 [==============================] - 38s 318ms/step - loss: 0.1258 - acc: 0.9592 - val_loss: 0.4755 - val_acc: 0.8525\n",
      "Epoch 377/500\n",
      "120/120 [==============================] - 38s 318ms/step - loss: 0.0976 - acc: 0.9658 - val_loss: 0.5313 - val_acc: 0.8600\n",
      "Epoch 378/500\n",
      "120/120 [==============================] - 38s 318ms/step - loss: 0.1165 - acc: 0.9642 - val_loss: 0.7275 - val_acc: 0.9025\n",
      "Epoch 379/500\n",
      "120/120 [==============================] - 38s 319ms/step - loss: 0.1078 - acc: 0.9613 - val_loss: 0.2304 - val_acc: 0.8700\n",
      "Epoch 380/500\n",
      "120/120 [==============================] - 38s 318ms/step - loss: 0.1116 - acc: 0.9638 - val_loss: 1.3123 - val_acc: 0.8500\n",
      "Epoch 381/500\n",
      "120/120 [==============================] - 38s 319ms/step - loss: 0.1089 - acc: 0.9567 - val_loss: 0.1110 - val_acc: 0.9000\n",
      "Epoch 382/500\n",
      "120/120 [==============================] - 38s 318ms/step - loss: 0.1266 - acc: 0.9600 - val_loss: 0.1129 - val_acc: 0.8800\n",
      "Epoch 383/500\n",
      "120/120 [==============================] - 38s 317ms/step - loss: 0.1043 - acc: 0.9642 - val_loss: 0.4700 - val_acc: 0.8975\n",
      "Epoch 384/500\n",
      "120/120 [==============================] - 39s 321ms/step - loss: 0.1240 - acc: 0.9592 - val_loss: 0.6467 - val_acc: 0.8875\n",
      "Epoch 385/500\n",
      "120/120 [==============================] - 38s 319ms/step - loss: 0.1111 - acc: 0.9629 - val_loss: 0.7516 - val_acc: 0.8850\n",
      "Epoch 386/500\n",
      "120/120 [==============================] - 38s 319ms/step - loss: 0.1145 - acc: 0.9638 - val_loss: 0.2656 - val_acc: 0.8700\n",
      "Epoch 387/500\n",
      "120/120 [==============================] - 38s 318ms/step - loss: 0.1251 - acc: 0.9596 - val_loss: 0.0871 - val_acc: 0.9050\n",
      "Epoch 388/500\n",
      "120/120 [==============================] - 38s 319ms/step - loss: 0.1139 - acc: 0.9592 - val_loss: 0.8183 - val_acc: 0.9025\n",
      "Epoch 389/500\n",
      "120/120 [==============================] - 38s 318ms/step - loss: 0.1288 - acc: 0.9588 - val_loss: 0.1838 - val_acc: 0.8900\n",
      "Epoch 390/500\n",
      "120/120 [==============================] - 38s 318ms/step - loss: 0.1271 - acc: 0.9583 - val_loss: 0.1631 - val_acc: 0.8925\n",
      "Epoch 391/500\n",
      "120/120 [==============================] - 38s 318ms/step - loss: 0.0950 - acc: 0.9588 - val_loss: 0.3174 - val_acc: 0.8775\n",
      "Epoch 392/500\n",
      "120/120 [==============================] - 38s 318ms/step - loss: 0.1140 - acc: 0.9663 - val_loss: 0.3887 - val_acc: 0.8900\n",
      "Epoch 393/500\n",
      "120/120 [==============================] - 38s 318ms/step - loss: 0.1192 - acc: 0.9617 - val_loss: 0.5655 - val_acc: 0.8925\n",
      "Epoch 394/500\n",
      "120/120 [==============================] - 38s 319ms/step - loss: 0.1235 - acc: 0.9575 - val_loss: 0.7332 - val_acc: 0.8725\n",
      "Epoch 395/500\n",
      "120/120 [==============================] - 38s 318ms/step - loss: 0.0975 - acc: 0.9650 - val_loss: 0.9387 - val_acc: 0.9025\n",
      "Epoch 396/500\n",
      "120/120 [==============================] - 38s 319ms/step - loss: 0.1144 - acc: 0.9629 - val_loss: 0.2812 - val_acc: 0.8850\n",
      "Epoch 397/500\n",
      "120/120 [==============================] - 38s 319ms/step - loss: 0.1133 - acc: 0.9663 - val_loss: 0.0242 - val_acc: 0.8875\n",
      "Epoch 398/500\n",
      "120/120 [==============================] - 39s 326ms/step - loss: 0.0975 - acc: 0.9704 - val_loss: 0.3653 - val_acc: 0.8775\n",
      "Epoch 399/500\n",
      "120/120 [==============================] - 38s 321ms/step - loss: 0.0976 - acc: 0.9688 - val_loss: 0.5619 - val_acc: 0.8750\n",
      "Epoch 400/500\n",
      "120/120 [==============================] - 38s 320ms/step - loss: 0.1137 - acc: 0.9571 - val_loss: 0.3022 - val_acc: 0.8800\n",
      "Epoch 401/500\n",
      "120/120 [==============================] - 38s 320ms/step - loss: 0.1093 - acc: 0.9633 - val_loss: 0.7338 - val_acc: 0.8625\n",
      "Epoch 402/500\n",
      "120/120 [==============================] - 38s 320ms/step - loss: 0.1220 - acc: 0.9592 - val_loss: 0.5224 - val_acc: 0.8700\n",
      "Epoch 403/500\n",
      "120/120 [==============================] - 38s 320ms/step - loss: 0.1139 - acc: 0.9671 - val_loss: 0.0946 - val_acc: 0.8700\n",
      "Epoch 404/500\n",
      "120/120 [==============================] - 38s 320ms/step - loss: 0.1185 - acc: 0.9617 - val_loss: 0.9830 - val_acc: 0.8725\n",
      "Epoch 405/500\n",
      "120/120 [==============================] - 38s 320ms/step - loss: 0.1079 - acc: 0.9663 - val_loss: 0.2300 - val_acc: 0.8975\n",
      "Epoch 406/500\n",
      "120/120 [==============================] - 38s 320ms/step - loss: 0.1036 - acc: 0.9658 - val_loss: 0.4797 - val_acc: 0.8750\n",
      "Epoch 407/500\n",
      "120/120 [==============================] - 39s 322ms/step - loss: 0.1162 - acc: 0.9633 - val_loss: 0.5389 - val_acc: 0.8650\n",
      "Epoch 408/500\n",
      "120/120 [==============================] - 38s 320ms/step - loss: 0.0970 - acc: 0.9667 - val_loss: 0.1767 - val_acc: 0.8800\n",
      "Epoch 409/500\n",
      "120/120 [==============================] - 38s 319ms/step - loss: 0.1200 - acc: 0.9588 - val_loss: 0.2154 - val_acc: 0.8725\n",
      "Epoch 410/500\n",
      "120/120 [==============================] - 39s 321ms/step - loss: 0.1122 - acc: 0.9667 - val_loss: 0.5102 - val_acc: 0.8550\n",
      "Epoch 411/500\n",
      "120/120 [==============================] - 39s 321ms/step - loss: 0.1148 - acc: 0.9596 - val_loss: 0.1278 - val_acc: 0.8575\n",
      "Epoch 412/500\n",
      "120/120 [==============================] - 38s 320ms/step - loss: 0.1226 - acc: 0.9625 - val_loss: 0.1244 - val_acc: 0.8975\n",
      "Epoch 413/500\n",
      "120/120 [==============================] - 39s 321ms/step - loss: 0.1041 - acc: 0.9696 - val_loss: 0.3849 - val_acc: 0.8875\n",
      "Epoch 414/500\n",
      "120/120 [==============================] - 38s 320ms/step - loss: 0.0894 - acc: 0.9688 - val_loss: 0.2744 - val_acc: 0.8375\n",
      "Epoch 415/500\n"
     ]
    },
    {
     "name": "stdout",
     "output_type": "stream",
     "text": [
      "120/120 [==============================] - 38s 318ms/step - loss: 0.1078 - acc: 0.9704 - val_loss: 0.8226 - val_acc: 0.8800\n",
      "Epoch 416/500\n",
      "120/120 [==============================] - 38s 318ms/step - loss: 0.1126 - acc: 0.9650 - val_loss: 0.0823 - val_acc: 0.9025\n",
      "Epoch 417/500\n",
      "120/120 [==============================] - 38s 318ms/step - loss: 0.1203 - acc: 0.9621 - val_loss: 0.3980 - val_acc: 0.8775\n",
      "Epoch 418/500\n",
      "120/120 [==============================] - 38s 317ms/step - loss: 0.1344 - acc: 0.9588 - val_loss: 0.0140 - val_acc: 0.8725\n",
      "Epoch 419/500\n",
      "120/120 [==============================] - 38s 317ms/step - loss: 0.1037 - acc: 0.9663 - val_loss: 1.7199 - val_acc: 0.9000\n",
      "Epoch 420/500\n",
      "120/120 [==============================] - 38s 319ms/step - loss: 0.1207 - acc: 0.9613 - val_loss: 0.1840 - val_acc: 0.8825\n",
      "Epoch 421/500\n",
      "120/120 [==============================] - 38s 318ms/step - loss: 0.1083 - acc: 0.9654 - val_loss: 1.0199 - val_acc: 0.8775\n",
      "Epoch 422/500\n",
      "120/120 [==============================] - 38s 319ms/step - loss: 0.1224 - acc: 0.9625 - val_loss: 0.2897 - val_acc: 0.9025\n",
      "Epoch 423/500\n",
      "120/120 [==============================] - 38s 317ms/step - loss: 0.1071 - acc: 0.9646 - val_loss: 0.2267 - val_acc: 0.8800\n",
      "Epoch 424/500\n",
      "120/120 [==============================] - 38s 317ms/step - loss: 0.0966 - acc: 0.9675 - val_loss: 0.3383 - val_acc: 0.8825\n",
      "Epoch 425/500\n",
      "120/120 [==============================] - 38s 318ms/step - loss: 0.1089 - acc: 0.9604 - val_loss: 0.0803 - val_acc: 0.9025\n",
      "Epoch 426/500\n",
      "120/120 [==============================] - 38s 317ms/step - loss: 0.1156 - acc: 0.9642 - val_loss: 0.0596 - val_acc: 0.8750\n",
      "Epoch 427/500\n",
      "120/120 [==============================] - 38s 317ms/step - loss: 0.0885 - acc: 0.9671 - val_loss: 0.1349 - val_acc: 0.8775\n",
      "Epoch 428/500\n",
      "120/120 [==============================] - 38s 318ms/step - loss: 0.0941 - acc: 0.9646 - val_loss: 0.7946 - val_acc: 0.8850\n",
      "Epoch 429/500\n",
      "120/120 [==============================] - 38s 318ms/step - loss: 0.1199 - acc: 0.9658 - val_loss: 0.2783 - val_acc: 0.8700\n",
      "Epoch 430/500\n",
      "120/120 [==============================] - 38s 317ms/step - loss: 0.1085 - acc: 0.9654 - val_loss: 0.0385 - val_acc: 0.8825\n",
      "Epoch 431/500\n",
      "120/120 [==============================] - 38s 318ms/step - loss: 0.1051 - acc: 0.9650 - val_loss: 0.3570 - val_acc: 0.8625\n",
      "Epoch 432/500\n",
      "120/120 [==============================] - 38s 318ms/step - loss: 0.0965 - acc: 0.9704 - val_loss: 0.3998 - val_acc: 0.8500\n",
      "Epoch 433/500\n",
      "120/120 [==============================] - 38s 317ms/step - loss: 0.1243 - acc: 0.9633 - val_loss: 1.7537 - val_acc: 0.8775\n",
      "Epoch 434/500\n",
      "120/120 [==============================] - 38s 317ms/step - loss: 0.1092 - acc: 0.9650 - val_loss: 0.1812 - val_acc: 0.8900\n",
      "Epoch 435/500\n",
      "120/120 [==============================] - 38s 318ms/step - loss: 0.1024 - acc: 0.9629 - val_loss: 1.2706 - val_acc: 0.8975\n",
      "Epoch 436/500\n",
      "120/120 [==============================] - 38s 318ms/step - loss: 0.1101 - acc: 0.9633 - val_loss: 0.6382 - val_acc: 0.8800\n",
      "Epoch 437/500\n",
      "120/120 [==============================] - 38s 318ms/step - loss: 0.1011 - acc: 0.9650 - val_loss: 0.1519 - val_acc: 0.8850\n",
      "Epoch 438/500\n",
      "120/120 [==============================] - 39s 325ms/step - loss: 0.1035 - acc: 0.9613 - val_loss: 0.3811 - val_acc: 0.8625\n",
      "Epoch 439/500\n",
      "120/120 [==============================] - 38s 318ms/step - loss: 0.1061 - acc: 0.9683 - val_loss: 0.1692 - val_acc: 0.9050\n",
      "Epoch 440/500\n",
      "120/120 [==============================] - 38s 318ms/step - loss: 0.1075 - acc: 0.9617 - val_loss: 0.6107 - val_acc: 0.8725\n",
      "Epoch 441/500\n",
      "120/120 [==============================] - 38s 318ms/step - loss: 0.1015 - acc: 0.9667 - val_loss: 1.0179 - val_acc: 0.8800\n",
      "Epoch 442/500\n",
      "120/120 [==============================] - 38s 318ms/step - loss: 0.0883 - acc: 0.9742 - val_loss: 0.1420 - val_acc: 0.8700\n",
      "Epoch 443/500\n",
      "120/120 [==============================] - 38s 317ms/step - loss: 0.0943 - acc: 0.9646 - val_loss: 0.0387 - val_acc: 0.8850\n",
      "Epoch 444/500\n",
      "120/120 [==============================] - 38s 320ms/step - loss: 0.1018 - acc: 0.9646 - val_loss: 0.1325 - val_acc: 0.8750\n",
      "Epoch 445/500\n",
      "120/120 [==============================] - 38s 318ms/step - loss: 0.1260 - acc: 0.9629 - val_loss: 0.3834 - val_acc: 0.8850\n",
      "Epoch 446/500\n",
      "120/120 [==============================] - 38s 318ms/step - loss: 0.1148 - acc: 0.9625 - val_loss: 0.4830 - val_acc: 0.8925\n",
      "Epoch 447/500\n",
      "120/120 [==============================] - 38s 318ms/step - loss: 0.0870 - acc: 0.9750 - val_loss: 1.6084 - val_acc: 0.8525\n",
      "Epoch 448/500\n",
      "120/120 [==============================] - 38s 318ms/step - loss: 0.0966 - acc: 0.9688 - val_loss: 0.0917 - val_acc: 0.8725\n",
      "Epoch 449/500\n",
      "120/120 [==============================] - 38s 318ms/step - loss: 0.0896 - acc: 0.9704 - val_loss: 0.3261 - val_acc: 0.8675\n",
      "Epoch 450/500\n",
      "120/120 [==============================] - 38s 319ms/step - loss: 0.1029 - acc: 0.9617 - val_loss: 0.2608 - val_acc: 0.8975\n",
      "Epoch 451/500\n",
      "120/120 [==============================] - 38s 318ms/step - loss: 0.1017 - acc: 0.9679 - val_loss: 0.2330 - val_acc: 0.8600\n",
      "Epoch 452/500\n",
      "120/120 [==============================] - 38s 318ms/step - loss: 0.1039 - acc: 0.9663 - val_loss: 0.1661 - val_acc: 0.8775\n",
      "Epoch 453/500\n",
      "120/120 [==============================] - 38s 319ms/step - loss: 0.0754 - acc: 0.9742 - val_loss: 0.7412 - val_acc: 0.8750\n",
      "Epoch 454/500\n",
      "120/120 [==============================] - 41s 341ms/step - loss: 0.1052 - acc: 0.9654 - val_loss: 1.3666 - val_acc: 0.9000\n",
      "Epoch 455/500\n",
      "120/120 [==============================] - 40s 332ms/step - loss: 0.1081 - acc: 0.9671 - val_loss: 1.0296 - val_acc: 0.8875\n",
      "Epoch 456/500\n",
      "120/120 [==============================] - 40s 337ms/step - loss: 0.1060 - acc: 0.9675 - val_loss: 0.1562 - val_acc: 0.8925\n",
      "Epoch 457/500\n",
      "120/120 [==============================] - 40s 331ms/step - loss: 0.1147 - acc: 0.9675 - val_loss: 0.8415 - val_acc: 0.8700\n",
      "Epoch 458/500\n",
      "120/120 [==============================] - 39s 326ms/step - loss: 0.1244 - acc: 0.9575 - val_loss: 0.3765 - val_acc: 0.8875\n",
      "Epoch 459/500\n",
      "120/120 [==============================] - 40s 330ms/step - loss: 0.0973 - acc: 0.9679 - val_loss: 0.7324 - val_acc: 0.8675\n",
      "Epoch 460/500\n",
      "120/120 [==============================] - 39s 326ms/step - loss: 0.0950 - acc: 0.9654 - val_loss: 0.6211 - val_acc: 0.8700\n",
      "Epoch 461/500\n",
      "120/120 [==============================] - 40s 332ms/step - loss: 0.1247 - acc: 0.9604 - val_loss: 0.0762 - val_acc: 0.8975\n",
      "Epoch 462/500\n",
      "120/120 [==============================] - 40s 330ms/step - loss: 0.0883 - acc: 0.9692 - val_loss: 0.5062 - val_acc: 0.8700\n",
      "Epoch 463/500\n",
      "120/120 [==============================] - 39s 324ms/step - loss: 0.1004 - acc: 0.9608 - val_loss: 0.5093 - val_acc: 0.8875\n",
      "Epoch 464/500\n",
      "120/120 [==============================] - 41s 344ms/step - loss: 0.0967 - acc: 0.9667 - val_loss: 1.2585 - val_acc: 0.8675\n",
      "Epoch 465/500\n",
      "120/120 [==============================] - 40s 330ms/step - loss: 0.1014 - acc: 0.9658 - val_loss: 1.3802 - val_acc: 0.8800\n",
      "Epoch 466/500\n",
      "120/120 [==============================] - 39s 321ms/step - loss: 0.1166 - acc: 0.9604 - val_loss: 0.7815 - val_acc: 0.9000\n",
      "Epoch 467/500\n",
      "120/120 [==============================] - 39s 322ms/step - loss: 0.0821 - acc: 0.9746 - val_loss: 0.0733 - val_acc: 0.8825\n",
      "Epoch 468/500\n",
      "120/120 [==============================] - 38s 320ms/step - loss: 0.1018 - acc: 0.9654 - val_loss: 0.5378 - val_acc: 0.8475\n",
      "Epoch 469/500\n",
      "120/120 [==============================] - 39s 321ms/step - loss: 0.1201 - acc: 0.9608 - val_loss: 0.3247 - val_acc: 0.8625\n",
      "Epoch 470/500\n",
      "120/120 [==============================] - 38s 320ms/step - loss: 0.0918 - acc: 0.9712 - val_loss: 0.0436 - val_acc: 0.8950\n",
      "Epoch 471/500\n",
      "120/120 [==============================] - 39s 321ms/step - loss: 0.0992 - acc: 0.9717 - val_loss: 0.2919 - val_acc: 0.8875\n",
      "Epoch 472/500\n",
      "120/120 [==============================] - 39s 322ms/step - loss: 0.1130 - acc: 0.9633 - val_loss: 0.5756 - val_acc: 0.8850\n",
      "Epoch 473/500\n",
      "120/120 [==============================] - 39s 323ms/step - loss: 0.1065 - acc: 0.9679 - val_loss: 1.3608 - val_acc: 0.8900\n",
      "Epoch 474/500\n"
     ]
    },
    {
     "name": "stdout",
     "output_type": "stream",
     "text": [
      "120/120 [==============================] - 38s 318ms/step - loss: 0.0980 - acc: 0.9692 - val_loss: 0.1482 - val_acc: 0.8975\n",
      "Epoch 475/500\n",
      "120/120 [==============================] - 38s 318ms/step - loss: 0.0942 - acc: 0.9704 - val_loss: 0.1253 - val_acc: 0.8950\n",
      "Epoch 476/500\n",
      "120/120 [==============================] - 38s 317ms/step - loss: 0.1158 - acc: 0.9633 - val_loss: 0.5901 - val_acc: 0.8350\n",
      "Epoch 477/500\n",
      "120/120 [==============================] - 38s 318ms/step - loss: 0.1036 - acc: 0.9625 - val_loss: 0.6523 - val_acc: 0.8750\n",
      "Epoch 478/500\n",
      "120/120 [==============================] - 38s 318ms/step - loss: 0.1209 - acc: 0.9638 - val_loss: 1.1035 - val_acc: 0.8875\n",
      "Epoch 479/500\n",
      "120/120 [==============================] - 38s 317ms/step - loss: 0.1001 - acc: 0.9625 - val_loss: 0.8432 - val_acc: 0.9025\n",
      "Epoch 480/500\n",
      "120/120 [==============================] - 38s 317ms/step - loss: 0.0931 - acc: 0.9717 - val_loss: 0.3747 - val_acc: 0.8925\n",
      "Epoch 481/500\n",
      "120/120 [==============================] - 38s 318ms/step - loss: 0.1021 - acc: 0.9717 - val_loss: 0.6517 - val_acc: 0.8500\n",
      "Epoch 482/500\n",
      "120/120 [==============================] - 39s 326ms/step - loss: 0.0981 - acc: 0.9654 - val_loss: 0.1077 - val_acc: 0.8850\n",
      "Epoch 483/500\n",
      "120/120 [==============================] - 38s 317ms/step - loss: 0.0943 - acc: 0.9733 - val_loss: 0.0883 - val_acc: 0.8925\n",
      "Epoch 484/500\n",
      "120/120 [==============================] - 38s 319ms/step - loss: 0.0971 - acc: 0.9683 - val_loss: 0.0064 - val_acc: 0.8675\n",
      "Epoch 485/500\n",
      "120/120 [==============================] - 38s 318ms/step - loss: 0.0994 - acc: 0.9688 - val_loss: 1.3922 - val_acc: 0.8675\n",
      "Epoch 486/500\n",
      "120/120 [==============================] - 38s 318ms/step - loss: 0.0992 - acc: 0.9638 - val_loss: 0.2390 - val_acc: 0.8925\n",
      "Epoch 487/500\n",
      "120/120 [==============================] - 39s 327ms/step - loss: 0.0950 - acc: 0.9704 - val_loss: 0.3806 - val_acc: 0.8775\n",
      "Epoch 488/500\n",
      "120/120 [==============================] - 40s 334ms/step - loss: 0.0928 - acc: 0.9696 - val_loss: 1.2027 - val_acc: 0.8525\n",
      "Epoch 489/500\n",
      "120/120 [==============================] - 40s 330ms/step - loss: 0.1023 - acc: 0.9700 - val_loss: 1.1620 - val_acc: 0.8900\n",
      "Epoch 490/500\n",
      "120/120 [==============================] - 39s 329ms/step - loss: 0.0800 - acc: 0.9725 - val_loss: 1.3226 - val_acc: 0.8925\n",
      "Epoch 491/500\n",
      "120/120 [==============================] - 39s 328ms/step - loss: 0.1016 - acc: 0.9658 - val_loss: 0.4902 - val_acc: 0.8875\n",
      "Epoch 492/500\n",
      "120/120 [==============================] - 39s 322ms/step - loss: 0.0918 - acc: 0.9683 - val_loss: 0.2479 - val_acc: 0.8950\n",
      "Epoch 493/500\n",
      "120/120 [==============================] - 38s 320ms/step - loss: 0.0840 - acc: 0.9742 - val_loss: 0.3262 - val_acc: 0.8900\n",
      "Epoch 494/500\n",
      "120/120 [==============================] - 38s 321ms/step - loss: 0.0965 - acc: 0.9688 - val_loss: 1.0445 - val_acc: 0.9000\n",
      "Epoch 495/500\n",
      "120/120 [==============================] - 39s 321ms/step - loss: 0.1166 - acc: 0.9621 - val_loss: 0.6439 - val_acc: 0.8800\n",
      "Epoch 496/500\n",
      "120/120 [==============================] - 39s 324ms/step - loss: 0.0996 - acc: 0.9671 - val_loss: 0.6663 - val_acc: 0.8950\n",
      "Epoch 497/500\n",
      "120/120 [==============================] - 41s 338ms/step - loss: 0.1044 - acc: 0.9692 - val_loss: 0.2734 - val_acc: 0.8900\n",
      "Epoch 498/500\n",
      "120/120 [==============================] - 40s 333ms/step - loss: 0.0896 - acc: 0.9675 - val_loss: 0.3057 - val_acc: 0.8950\n",
      "Epoch 499/500\n",
      "120/120 [==============================] - 39s 324ms/step - loss: 0.0999 - acc: 0.9696 - val_loss: 0.0137 - val_acc: 0.8975\n",
      "Epoch 500/500\n",
      "120/120 [==============================] - 39s 326ms/step - loss: 0.0912 - acc: 0.9629 - val_loss: 0.3204 - val_acc: 0.8925\n"
     ]
    }
   ],
   "source": [
    "# model training\n",
    "\n",
    "train_datagen = ImageDataGenerator(rescale=1./255,\n",
    "                                   rotation_range=2,\n",
    "                                   width_shift_range=0.1,\n",
    "                                   height_shift_range=0.1,\n",
    "                                   shear_range=0.1,\n",
    "                                   zoom_range=0.2,\n",
    "                                   horizontal_flip=True,\n",
    "                                   fill_mode='nearest')\n",
    "\n",
    "test_datagen = ImageDataGenerator(rescale=1./255)\n",
    "\n",
    "train_generator = train_datagen.flow_from_directory(train_dir,\n",
    "                                                   target_size=(100, 100),\n",
    "                                                   batch_size=20,\n",
    "                                                   class_mode='categorical')\n",
    "\n",
    "history = model.fit_generator(train_generator,\n",
    "                             steps_per_epoch=120,\n",
    "                             epochs=500,\n",
    "                             validation_data=validation_generator,\n",
    "                             validation_steps=40)"
   ]
  },
  {
   "cell_type": "code",
   "execution_count": 72,
   "metadata": {},
   "outputs": [],
   "source": [
    "model.save('model_5.h5')"
   ]
  },
  {
   "cell_type": "code",
   "execution_count": 73,
   "metadata": {},
   "outputs": [
    {
     "name": "stdout",
     "output_type": "stream",
     "text": [
      "Found 800 images belonging to 4 classes.\n"
     ]
    }
   ],
   "source": [
    "import keras\n",
    "\n",
    "model_5 = keras.models.load_model('model_5.h5')\n",
    "\n",
    "test_generator = test_datagen.flow_from_directory(\n",
    "    test_dir,\n",
    "    target_size=(100, 100),\n",
    "    batch_size=20,\n",
    "    class_mode='categorical')"
   ]
  },
  {
   "cell_type": "code",
   "execution_count": 74,
   "metadata": {},
   "outputs": [
    {
     "name": "stdout",
     "output_type": "stream",
     "text": [
      "test acc: 0.9175000190734863\n"
     ]
    }
   ],
   "source": [
    "test_loss, test_acc = model_5.evaluate_generator(test_generator, steps=(800/20))\n",
    "print('test acc:', test_acc)"
   ]
  },
  {
   "cell_type": "code",
   "execution_count": 75,
   "metadata": {
    "scrolled": false
   },
   "outputs": [
    {
     "data": {
      "image/png": "[encoded data removed]",
      "text/plain": [
       "<Figure size 432x288 with 1 Axes>"
      ]
     },
     "metadata": {
      "needs_background": "light"
     },
     "output_type": "display_data"
    },
    {
     "data": {
      "image/png": "[encoded data removed]",
      "text/plain": [
       "<Figure size 432x288 with 1 Axes>"
      ]
     },
     "metadata": {
      "needs_background": "light"
     },
     "output_type": "display_data"
    }
   ],
   "source": [
    "# acc, loss graph\n",
    "\n",
    "acc = history.history['acc']\n",
    "val_acc = history.history['val_acc']\n",
    "loss = history.history['loss']\n",
    "val_loss = history.history['val_loss']\n",
    "\n",
    "epochs = range(1, len(acc) + 1)\n",
    "\n",
    "plt.plot(epochs, acc, 'bo', label='Training acc')\n",
    "plt.plot(epochs, val_acc, 'b', label='Validation acc')\n",
    "plt.title('Training and validation accuracy')\n",
    "plt.legend()\n",
    "\n",
    "plt.figure()\n",
    "\n",
    "plt.plot(epochs, loss, 'bo', label='Training loss')\n",
    "plt.plot(epochs, val_loss, 'b', label='Validation loss')\n",
    "plt.title('Training and validation loss')\n",
    "plt.legend()\n",
    "\n",
    "plt.show()"
   ]
  },
  {
   "cell_type": "code",
   "execution_count": null,
   "metadata": {},
   "outputs": [],
   "source": []
  },
  {
   "cell_type": "markdown",
   "metadata": {},
   "source": [
    "# Model 6"
   ]
  },
  {
   "cell_type": "markdown",
   "metadata": {},
   "source": [
    "hidden layer 4개 / epochs 180"
   ]
  },
  {
   "cell_type": "code",
   "execution_count": 76,
   "metadata": {},
   "outputs": [],
   "source": [
    "# creating model\n",
    "\n",
    "model = models.Sequential()\n",
    "model.add(layers.Conv2D(32, (3, 3), activation='relu', input_shape=(100, 100, 3)))\n",
    "model.add(layers.MaxPooling2D((2, 2)))\n",
    "\n",
    "model.add(layers.Conv2D(64, (3, 3), activation='relu'))\n",
    "model.add(layers.MaxPooling2D((2, 2)))\n",
    "\n",
    "model.add(layers.Conv2D(128, (3, 3), activation='relu'))\n",
    "model.add(layers.MaxPooling2D((2, 2)))\n",
    "\n",
    "model.add(layers.Conv2D(128, (3, 3), activation='relu'))\n",
    "model.add(layers.MaxPooling2D((2, 2)))\n",
    "\n",
    "model.add(layers.Flatten())\n",
    "model.add(layers.Dropout(0.5))\n",
    "model.add(layers.Dense(512, activation='relu'))\n",
    "model.add(layers.Dense(4, activation='softmax'))\n",
    "\n",
    "from keras import optimizers\n",
    "\n",
    "model.compile(loss='categorical_crossentropy',\n",
    "             optimizer=optimizers.RMSprop(lr=1e-4),\n",
    "             metrics=['acc'])"
   ]
  },
  {
   "cell_type": "code",
   "execution_count": 77,
   "metadata": {
    "scrolled": true
   },
   "outputs": [
    {
     "name": "stdout",
     "output_type": "stream",
     "text": [
      "Found 2800 images belonging to 4 classes.\n",
      "Epoch 1/180\n",
      "120/120 [==============================] - 41s 338ms/step - loss: 1.3830 - acc: 0.2796 - val_loss: 1.3633 - val_acc: 0.3475\n",
      "Epoch 2/180\n",
      "120/120 [==============================] - 39s 323ms/step - loss: 1.3309 - acc: 0.3629 - val_loss: 1.2615 - val_acc: 0.4925\n",
      "Epoch 3/180\n",
      "120/120 [==============================] - 39s 324ms/step - loss: 1.2714 - acc: 0.4108 - val_loss: 1.1295 - val_acc: 0.4275\n",
      "Epoch 4/180\n",
      "120/120 [==============================] - 39s 323ms/step - loss: 1.1814 - acc: 0.4762 - val_loss: 0.9420 - val_acc: 0.5050\n",
      "Epoch 5/180\n",
      "120/120 [==============================] - 39s 325ms/step - loss: 1.1534 - acc: 0.5000 - val_loss: 1.0706 - val_acc: 0.6150\n",
      "Epoch 6/180\n",
      "120/120 [==============================] - 39s 323ms/step - loss: 1.0986 - acc: 0.5454 - val_loss: 1.0820 - val_acc: 0.5800\n",
      "Epoch 7/180\n",
      "120/120 [==============================] - 39s 325ms/step - loss: 1.0524 - acc: 0.5496 - val_loss: 0.9012 - val_acc: 0.5775\n",
      "Epoch 8/180\n",
      "120/120 [==============================] - 39s 328ms/step - loss: 1.0121 - acc: 0.5800 - val_loss: 0.8926 - val_acc: 0.6275\n",
      "Epoch 9/180\n",
      "120/120 [==============================] - 39s 325ms/step - loss: 0.9650 - acc: 0.6029 - val_loss: 0.8797 - val_acc: 0.6525\n",
      "Epoch 10/180\n",
      "120/120 [==============================] - 39s 324ms/step - loss: 0.9531 - acc: 0.6083 - val_loss: 0.9148 - val_acc: 0.6750\n",
      "Epoch 11/180\n",
      "120/120 [==============================] - 39s 324ms/step - loss: 0.9199 - acc: 0.6371 - val_loss: 0.9672 - val_acc: 0.6875\n",
      "Epoch 12/180\n",
      "120/120 [==============================] - 39s 323ms/step - loss: 0.8873 - acc: 0.6429 - val_loss: 0.7128 - val_acc: 0.6675\n",
      "Epoch 13/180\n",
      "120/120 [==============================] - 39s 324ms/step - loss: 0.8580 - acc: 0.6642 - val_loss: 0.7026 - val_acc: 0.6825\n",
      "Epoch 14/180\n",
      "120/120 [==============================] - 39s 323ms/step - loss: 0.8353 - acc: 0.6604 - val_loss: 0.9083 - val_acc: 0.7175\n",
      "Epoch 15/180\n",
      "120/120 [==============================] - 39s 324ms/step - loss: 0.8224 - acc: 0.6746 - val_loss: 0.9401 - val_acc: 0.7200\n",
      "Epoch 16/180\n",
      "120/120 [==============================] - 39s 324ms/step - loss: 0.8246 - acc: 0.6717 - val_loss: 0.6573 - val_acc: 0.6950\n",
      "Epoch 17/180\n",
      "120/120 [==============================] - 39s 327ms/step - loss: 0.8057 - acc: 0.6775 - val_loss: 0.9865 - val_acc: 0.6650\n",
      "Epoch 18/180\n",
      "120/120 [==============================] - 39s 325ms/step - loss: 0.7608 - acc: 0.6996 - val_loss: 0.8674 - val_acc: 0.7250\n",
      "Epoch 19/180\n",
      "120/120 [==============================] - 39s 325ms/step - loss: 0.7488 - acc: 0.7038 - val_loss: 0.8094 - val_acc: 0.7375\n",
      "Epoch 20/180\n",
      "120/120 [==============================] - 39s 324ms/step - loss: 0.7700 - acc: 0.6917 - val_loss: 0.8343 - val_acc: 0.7050\n",
      "Epoch 21/180\n",
      "120/120 [==============================] - 39s 325ms/step - loss: 0.7349 - acc: 0.7129 - val_loss: 0.3440 - val_acc: 0.7375\n",
      "Epoch 22/180\n",
      "120/120 [==============================] - 39s 328ms/step - loss: 0.7283 - acc: 0.7225 - val_loss: 0.6500 - val_acc: 0.7675\n",
      "Epoch 23/180\n",
      "120/120 [==============================] - 39s 326ms/step - loss: 0.7202 - acc: 0.7121 - val_loss: 0.8226 - val_acc: 0.7300\n",
      "Epoch 24/180\n",
      "120/120 [==============================] - 39s 324ms/step - loss: 0.7048 - acc: 0.7225 - val_loss: 0.4930 - val_acc: 0.7625\n",
      "Epoch 25/180\n",
      "120/120 [==============================] - 40s 330ms/step - loss: 0.6919 - acc: 0.7287 - val_loss: 0.7938 - val_acc: 0.7325\n",
      "Epoch 26/180\n",
      "120/120 [==============================] - 39s 326ms/step - loss: 0.6644 - acc: 0.7425 - val_loss: 0.4947 - val_acc: 0.7525\n",
      "Epoch 27/180\n",
      "120/120 [==============================] - 39s 324ms/step - loss: 0.6879 - acc: 0.7337 - val_loss: 0.7532 - val_acc: 0.7525\n",
      "Epoch 28/180\n",
      "120/120 [==============================] - 39s 324ms/step - loss: 0.6691 - acc: 0.7383 - val_loss: 0.7089 - val_acc: 0.7850\n",
      "Epoch 29/180\n",
      "120/120 [==============================] - 39s 326ms/step - loss: 0.6511 - acc: 0.7467 - val_loss: 0.3063 - val_acc: 0.7825\n",
      "Epoch 30/180\n",
      "120/120 [==============================] - 39s 324ms/step - loss: 0.6426 - acc: 0.7521 - val_loss: 0.5049 - val_acc: 0.7775\n",
      "Epoch 31/180\n",
      "120/120 [==============================] - 39s 324ms/step - loss: 0.6176 - acc: 0.7608 - val_loss: 0.8221 - val_acc: 0.7625\n",
      "Epoch 32/180\n",
      "120/120 [==============================] - 39s 327ms/step - loss: 0.6288 - acc: 0.7442 - val_loss: 0.4048 - val_acc: 0.7800\n",
      "Epoch 33/180\n",
      "120/120 [==============================] - 39s 325ms/step - loss: 0.6180 - acc: 0.7554 - val_loss: 0.7778 - val_acc: 0.7950\n",
      "Epoch 34/180\n",
      "120/120 [==============================] - 39s 326ms/step - loss: 0.6037 - acc: 0.7733 - val_loss: 0.6048 - val_acc: 0.7925\n",
      "Epoch 35/180\n",
      "120/120 [==============================] - 39s 325ms/step - loss: 0.5909 - acc: 0.7650 - val_loss: 0.5028 - val_acc: 0.7925\n",
      "Epoch 36/180\n",
      "120/120 [==============================] - 39s 325ms/step - loss: 0.5820 - acc: 0.7763 - val_loss: 0.2768 - val_acc: 0.7350\n",
      "Epoch 37/180\n",
      "120/120 [==============================] - 39s 324ms/step - loss: 0.5777 - acc: 0.7804 - val_loss: 0.1958 - val_acc: 0.8100\n",
      "Epoch 38/180\n",
      "120/120 [==============================] - 39s 324ms/step - loss: 0.5751 - acc: 0.7746 - val_loss: 0.9308 - val_acc: 0.7400\n",
      "Epoch 39/180\n",
      "120/120 [==============================] - 39s 324ms/step - loss: 0.5618 - acc: 0.7763 - val_loss: 0.3532 - val_acc: 0.7925\n",
      "Epoch 40/180\n",
      "120/120 [==============================] - 39s 325ms/step - loss: 0.5619 - acc: 0.7783 - val_loss: 0.5091 - val_acc: 0.8125\n",
      "Epoch 41/180\n",
      "120/120 [==============================] - 39s 325ms/step - loss: 0.5403 - acc: 0.7921 - val_loss: 0.5163 - val_acc: 0.7625\n",
      "Epoch 42/180\n",
      "120/120 [==============================] - 39s 325ms/step - loss: 0.5497 - acc: 0.7954 - val_loss: 0.5586 - val_acc: 0.8250\n",
      "Epoch 43/180\n",
      "120/120 [==============================] - 39s 325ms/step - loss: 0.5236 - acc: 0.7925 - val_loss: 0.6525 - val_acc: 0.7950\n",
      "Epoch 44/180\n",
      "120/120 [==============================] - 39s 325ms/step - loss: 0.5401 - acc: 0.7896 - val_loss: 0.3343 - val_acc: 0.7975\n",
      "Epoch 45/180\n",
      "120/120 [==============================] - 39s 325ms/step - loss: 0.4932 - acc: 0.8121 - val_loss: 1.0969 - val_acc: 0.7025\n",
      "Epoch 46/180\n",
      "120/120 [==============================] - 39s 325ms/step - loss: 0.5064 - acc: 0.8062 - val_loss: 0.7649 - val_acc: 0.7775\n",
      "Epoch 47/180\n",
      "120/120 [==============================] - 39s 328ms/step - loss: 0.5160 - acc: 0.7979 - val_loss: 0.5475 - val_acc: 0.8225\n",
      "Epoch 48/180\n",
      "120/120 [==============================] - 39s 325ms/step - loss: 0.4927 - acc: 0.8167 - val_loss: 0.2362 - val_acc: 0.8250\n",
      "Epoch 49/180\n",
      "120/120 [==============================] - 39s 324ms/step - loss: 0.4909 - acc: 0.8104 - val_loss: 0.6161 - val_acc: 0.8400\n",
      "Epoch 50/180\n",
      "120/120 [==============================] - 39s 325ms/step - loss: 0.4845 - acc: 0.8142 - val_loss: 0.5402 - val_acc: 0.8025\n",
      "Epoch 51/180\n",
      "120/120 [==============================] - 39s 326ms/step - loss: 0.4777 - acc: 0.8350 - val_loss: 0.9250 - val_acc: 0.8025\n",
      "Epoch 52/180\n",
      "120/120 [==============================] - 39s 324ms/step - loss: 0.4748 - acc: 0.8179 - val_loss: 0.4714 - val_acc: 0.8125\n",
      "Epoch 53/180\n",
      "120/120 [==============================] - 39s 325ms/step - loss: 0.4636 - acc: 0.8246 - val_loss: 0.1157 - val_acc: 0.8250\n",
      "Epoch 54/180\n",
      "120/120 [==============================] - 39s 325ms/step - loss: 0.4852 - acc: 0.8175 - val_loss: 0.3513 - val_acc: 0.8125\n",
      "Epoch 55/180\n",
      "120/120 [==============================] - 39s 326ms/step - loss: 0.4369 - acc: 0.8288 - val_loss: 0.3242 - val_acc: 0.8125\n",
      "Epoch 56/180\n",
      "120/120 [==============================] - 39s 327ms/step - loss: 0.4705 - acc: 0.8133 - val_loss: 0.8767 - val_acc: 0.7350\n",
      "Epoch 57/180\n",
      "120/120 [==============================] - 39s 325ms/step - loss: 0.4448 - acc: 0.8283 - val_loss: 1.1548 - val_acc: 0.8175\n",
      "Epoch 58/180\n",
      "120/120 [==============================] - 39s 324ms/step - loss: 0.4322 - acc: 0.8400 - val_loss: 0.5899 - val_acc: 0.7950\n",
      "Epoch 59/180\n",
      "120/120 [==============================] - 39s 325ms/step - loss: 0.4158 - acc: 0.8413 - val_loss: 0.7453 - val_acc: 0.8150\n",
      "Epoch 60/180\n"
     ]
    },
    {
     "name": "stdout",
     "output_type": "stream",
     "text": [
      "120/120 [==============================] - 39s 322ms/step - loss: 0.4579 - acc: 0.8238 - val_loss: 0.5815 - val_acc: 0.8200\n",
      "Epoch 61/180\n",
      "120/120 [==============================] - 39s 322ms/step - loss: 0.4259 - acc: 0.8396 - val_loss: 0.3896 - val_acc: 0.8225\n",
      "Epoch 62/180\n",
      "120/120 [==============================] - 39s 322ms/step - loss: 0.4360 - acc: 0.8333 - val_loss: 0.2836 - val_acc: 0.8375\n",
      "Epoch 63/180\n",
      "120/120 [==============================] - 39s 322ms/step - loss: 0.4318 - acc: 0.8392 - val_loss: 0.5496 - val_acc: 0.8425\n",
      "Epoch 64/180\n",
      "120/120 [==============================] - 39s 322ms/step - loss: 0.4243 - acc: 0.8438 - val_loss: 0.5022 - val_acc: 0.8375\n",
      "Epoch 65/180\n",
      "120/120 [==============================] - 39s 322ms/step - loss: 0.4157 - acc: 0.8479 - val_loss: 0.8292 - val_acc: 0.8375\n",
      "Epoch 66/180\n",
      "120/120 [==============================] - 39s 326ms/step - loss: 0.4272 - acc: 0.8425 - val_loss: 0.2357 - val_acc: 0.8275\n",
      "Epoch 67/180\n",
      "120/120 [==============================] - 39s 322ms/step - loss: 0.3856 - acc: 0.8583 - val_loss: 0.4558 - val_acc: 0.8175\n",
      "Epoch 68/180\n",
      "120/120 [==============================] - 39s 322ms/step - loss: 0.4089 - acc: 0.8533 - val_loss: 0.4846 - val_acc: 0.8025\n",
      "Epoch 69/180\n",
      "120/120 [==============================] - 39s 323ms/step - loss: 0.4050 - acc: 0.8533 - val_loss: 0.5180 - val_acc: 0.8250\n",
      "Epoch 70/180\n",
      "120/120 [==============================] - 39s 322ms/step - loss: 0.3928 - acc: 0.8617 - val_loss: 0.3332 - val_acc: 0.8275\n",
      "Epoch 71/180\n",
      "120/120 [==============================] - 39s 322ms/step - loss: 0.3795 - acc: 0.8617 - val_loss: 0.6447 - val_acc: 0.8300\n",
      "Epoch 72/180\n",
      "120/120 [==============================] - 39s 322ms/step - loss: 0.3972 - acc: 0.8533 - val_loss: 1.0257 - val_acc: 0.7575\n",
      "Epoch 73/180\n",
      "120/120 [==============================] - 39s 322ms/step - loss: 0.3830 - acc: 0.8554 - val_loss: 0.4665 - val_acc: 0.8200\n",
      "Epoch 74/180\n",
      "120/120 [==============================] - 39s 322ms/step - loss: 0.3804 - acc: 0.8592 - val_loss: 0.3304 - val_acc: 0.8350\n",
      "Epoch 75/180\n",
      "120/120 [==============================] - 39s 323ms/step - loss: 0.3907 - acc: 0.8546 - val_loss: 0.5409 - val_acc: 0.8425\n",
      "Epoch 76/180\n",
      "120/120 [==============================] - 39s 322ms/step - loss: 0.3572 - acc: 0.8625 - val_loss: 0.3255 - val_acc: 0.8600\n",
      "Epoch 77/180\n",
      "120/120 [==============================] - 39s 322ms/step - loss: 0.3709 - acc: 0.8600 - val_loss: 0.2762 - val_acc: 0.8250\n",
      "Epoch 78/180\n",
      "120/120 [==============================] - 39s 322ms/step - loss: 0.3633 - acc: 0.8704 - val_loss: 0.3994 - val_acc: 0.8250\n",
      "Epoch 79/180\n",
      "120/120 [==============================] - 39s 323ms/step - loss: 0.3519 - acc: 0.8671 - val_loss: 0.5266 - val_acc: 0.8475\n",
      "Epoch 80/180\n",
      "120/120 [==============================] - 39s 323ms/step - loss: 0.3789 - acc: 0.8642 - val_loss: 0.6137 - val_acc: 0.8500\n",
      "Epoch 81/180\n",
      "120/120 [==============================] - 39s 322ms/step - loss: 0.3653 - acc: 0.8700 - val_loss: 0.1641 - val_acc: 0.8550\n",
      "Epoch 82/180\n",
      "120/120 [==============================] - 39s 322ms/step - loss: 0.3464 - acc: 0.8754 - val_loss: 0.2466 - val_acc: 0.8700\n",
      "Epoch 83/180\n",
      "120/120 [==============================] - 39s 323ms/step - loss: 0.3535 - acc: 0.8692 - val_loss: 0.4965 - val_acc: 0.8225\n",
      "Epoch 84/180\n",
      "120/120 [==============================] - 39s 325ms/step - loss: 0.3561 - acc: 0.8621 - val_loss: 0.6579 - val_acc: 0.8675\n",
      "Epoch 85/180\n",
      "120/120 [==============================] - 39s 322ms/step - loss: 0.3645 - acc: 0.8646 - val_loss: 0.3512 - val_acc: 0.8400\n",
      "Epoch 86/180\n",
      "120/120 [==============================] - 39s 322ms/step - loss: 0.3665 - acc: 0.8671 - val_loss: 0.2906 - val_acc: 0.8175\n",
      "Epoch 87/180\n",
      "120/120 [==============================] - 39s 323ms/step - loss: 0.3270 - acc: 0.8850 - val_loss: 0.2012 - val_acc: 0.8575\n",
      "Epoch 88/180\n",
      "120/120 [==============================] - 39s 322ms/step - loss: 0.3444 - acc: 0.8850 - val_loss: 0.4130 - val_acc: 0.8375\n",
      "Epoch 89/180\n",
      "120/120 [==============================] - 39s 323ms/step - loss: 0.3464 - acc: 0.8758 - val_loss: 0.2852 - val_acc: 0.8400\n",
      "Epoch 90/180\n",
      "120/120 [==============================] - 39s 323ms/step - loss: 0.3264 - acc: 0.8767 - val_loss: 0.6628 - val_acc: 0.8450\n",
      "Epoch 91/180\n",
      "120/120 [==============================] - 39s 323ms/step - loss: 0.3341 - acc: 0.8838 - val_loss: 0.4380 - val_acc: 0.8600\n",
      "Epoch 92/180\n",
      "120/120 [==============================] - 39s 323ms/step - loss: 0.3009 - acc: 0.8908 - val_loss: 0.4720 - val_acc: 0.8575\n",
      "Epoch 93/180\n",
      "120/120 [==============================] - 39s 322ms/step - loss: 0.3340 - acc: 0.8804 - val_loss: 0.5045 - val_acc: 0.8550\n",
      "Epoch 94/180\n",
      "120/120 [==============================] - 39s 323ms/step - loss: 0.3346 - acc: 0.8792 - val_loss: 0.7032 - val_acc: 0.8500\n",
      "Epoch 95/180\n",
      "120/120 [==============================] - 39s 323ms/step - loss: 0.3159 - acc: 0.8842 - val_loss: 0.5019 - val_acc: 0.8425\n",
      "Epoch 96/180\n",
      "120/120 [==============================] - 39s 323ms/step - loss: 0.3135 - acc: 0.8821 - val_loss: 0.5244 - val_acc: 0.8125\n",
      "Epoch 97/180\n",
      "120/120 [==============================] - 39s 323ms/step - loss: 0.3099 - acc: 0.8825 - val_loss: 0.3439 - val_acc: 0.8700\n",
      "Epoch 98/180\n",
      "120/120 [==============================] - 39s 322ms/step - loss: 0.3293 - acc: 0.8729 - val_loss: 0.1737 - val_acc: 0.8550\n",
      "Epoch 99/180\n",
      "120/120 [==============================] - 39s 323ms/step - loss: 0.3078 - acc: 0.8929 - val_loss: 0.2257 - val_acc: 0.8625\n",
      "Epoch 100/180\n",
      "120/120 [==============================] - 39s 323ms/step - loss: 0.3001 - acc: 0.8842 - val_loss: 0.1916 - val_acc: 0.8775\n",
      "Epoch 101/180\n",
      "120/120 [==============================] - 39s 324ms/step - loss: 0.3026 - acc: 0.8913 - val_loss: 0.5110 - val_acc: 0.8500\n",
      "Epoch 102/180\n",
      "120/120 [==============================] - 39s 324ms/step - loss: 0.2991 - acc: 0.8913 - val_loss: 0.4481 - val_acc: 0.8400\n",
      "Epoch 103/180\n",
      "120/120 [==============================] - 39s 323ms/step - loss: 0.3115 - acc: 0.8829 - val_loss: 0.1430 - val_acc: 0.8325\n",
      "Epoch 104/180\n",
      "120/120 [==============================] - 39s 328ms/step - loss: 0.2953 - acc: 0.8963 - val_loss: 0.3481 - val_acc: 0.8500\n",
      "Epoch 105/180\n",
      "120/120 [==============================] - 39s 323ms/step - loss: 0.3005 - acc: 0.8900 - val_loss: 0.4078 - val_acc: 0.8650\n",
      "Epoch 106/180\n",
      "120/120 [==============================] - 39s 323ms/step - loss: 0.2887 - acc: 0.8979 - val_loss: 0.3045 - val_acc: 0.8650\n",
      "Epoch 107/180\n",
      "120/120 [==============================] - 39s 323ms/step - loss: 0.2834 - acc: 0.8950 - val_loss: 0.6897 - val_acc: 0.8500\n",
      "Epoch 108/180\n",
      "120/120 [==============================] - 39s 323ms/step - loss: 0.3028 - acc: 0.8925 - val_loss: 0.2942 - val_acc: 0.8600\n",
      "Epoch 109/180\n",
      "120/120 [==============================] - 39s 324ms/step - loss: 0.2624 - acc: 0.9042 - val_loss: 0.3396 - val_acc: 0.8675\n",
      "Epoch 110/180\n",
      "120/120 [==============================] - 39s 324ms/step - loss: 0.2756 - acc: 0.8971 - val_loss: 0.5093 - val_acc: 0.8425\n",
      "Epoch 111/180\n",
      "120/120 [==============================] - 39s 323ms/step - loss: 0.2991 - acc: 0.8892 - val_loss: 0.3143 - val_acc: 0.8400\n",
      "Epoch 112/180\n",
      "120/120 [==============================] - 40s 330ms/step - loss: 0.2929 - acc: 0.8971 - val_loss: 0.1821 - val_acc: 0.8475\n",
      "Epoch 113/180\n",
      "120/120 [==============================] - 39s 328ms/step - loss: 0.2822 - acc: 0.9021 - val_loss: 0.3295 - val_acc: 0.8725\n",
      "Epoch 114/180\n",
      "120/120 [==============================] - 39s 325ms/step - loss: 0.2867 - acc: 0.8946 - val_loss: 0.5981 - val_acc: 0.8575\n",
      "Epoch 115/180\n",
      "120/120 [==============================] - 39s 327ms/step - loss: 0.2711 - acc: 0.9046 - val_loss: 0.8223 - val_acc: 0.8425\n",
      "Epoch 116/180\n",
      "120/120 [==============================] - 39s 324ms/step - loss: 0.2817 - acc: 0.8996 - val_loss: 0.6823 - val_acc: 0.8350\n",
      "Epoch 117/180\n",
      "120/120 [==============================] - 39s 324ms/step - loss: 0.2623 - acc: 0.9096 - val_loss: 0.4303 - val_acc: 0.8350\n",
      "Epoch 118/180\n",
      "120/120 [==============================] - 40s 332ms/step - loss: 0.2568 - acc: 0.9121 - val_loss: 0.6536 - val_acc: 0.8650\n",
      "Epoch 119/180\n",
      "120/120 [==============================] - 39s 324ms/step - loss: 0.2657 - acc: 0.8996 - val_loss: 0.3080 - val_acc: 0.8275\n"
     ]
    },
    {
     "name": "stdout",
     "output_type": "stream",
     "text": [
      "Epoch 120/180\n",
      "120/120 [==============================] - 39s 323ms/step - loss: 0.2803 - acc: 0.9025 - val_loss: 0.2177 - val_acc: 0.8600\n",
      "Epoch 121/180\n",
      "120/120 [==============================] - 39s 322ms/step - loss: 0.2631 - acc: 0.8988 - val_loss: 0.5408 - val_acc: 0.8300\n",
      "Epoch 122/180\n",
      "120/120 [==============================] - 39s 322ms/step - loss: 0.2502 - acc: 0.9117 - val_loss: 0.3459 - val_acc: 0.8650\n",
      "Epoch 123/180\n",
      "120/120 [==============================] - 39s 327ms/step - loss: 0.2760 - acc: 0.8979 - val_loss: 0.2074 - val_acc: 0.8500\n",
      "Epoch 124/180\n",
      "120/120 [==============================] - 40s 331ms/step - loss: 0.2562 - acc: 0.9058 - val_loss: 0.4465 - val_acc: 0.8675\n",
      "Epoch 125/180\n",
      "120/120 [==============================] - 39s 323ms/step - loss: 0.2559 - acc: 0.9079 - val_loss: 0.4274 - val_acc: 0.8525\n",
      "Epoch 126/180\n",
      "120/120 [==============================] - 39s 322ms/step - loss: 0.2745 - acc: 0.9008 - val_loss: 0.8547 - val_acc: 0.8775\n",
      "Epoch 127/180\n",
      "120/120 [==============================] - 39s 323ms/step - loss: 0.2624 - acc: 0.9058 - val_loss: 0.6682 - val_acc: 0.8575\n",
      "Epoch 128/180\n",
      "120/120 [==============================] - 39s 323ms/step - loss: 0.2709 - acc: 0.9054 - val_loss: 0.7084 - val_acc: 0.8725\n",
      "Epoch 129/180\n",
      "120/120 [==============================] - 39s 322ms/step - loss: 0.2442 - acc: 0.9162 - val_loss: 0.7134 - val_acc: 0.8525\n",
      "Epoch 130/180\n",
      "120/120 [==============================] - 39s 324ms/step - loss: 0.2387 - acc: 0.9083 - val_loss: 0.4567 - val_acc: 0.8575\n",
      "Epoch 131/180\n",
      "120/120 [==============================] - 39s 324ms/step - loss: 0.2482 - acc: 0.9187 - val_loss: 0.5426 - val_acc: 0.8625\n",
      "Epoch 132/180\n",
      "120/120 [==============================] - 39s 322ms/step - loss: 0.2463 - acc: 0.9137 - val_loss: 0.8971 - val_acc: 0.8625\n",
      "Epoch 133/180\n",
      "120/120 [==============================] - 39s 328ms/step - loss: 0.2341 - acc: 0.9104 - val_loss: 0.6849 - val_acc: 0.8700\n",
      "Epoch 134/180\n",
      "120/120 [==============================] - 41s 342ms/step - loss: 0.2497 - acc: 0.9117 - val_loss: 0.6290 - val_acc: 0.8700\n",
      "Epoch 135/180\n",
      "120/120 [==============================] - 39s 323ms/step - loss: 0.2282 - acc: 0.9204 - val_loss: 0.5753 - val_acc: 0.8600\n",
      "Epoch 136/180\n",
      "120/120 [==============================] - 39s 322ms/step - loss: 0.2420 - acc: 0.9104 - val_loss: 0.5058 - val_acc: 0.8650\n",
      "Epoch 137/180\n",
      "120/120 [==============================] - 39s 325ms/step - loss: 0.2154 - acc: 0.9212 - val_loss: 0.6085 - val_acc: 0.8650\n",
      "Epoch 138/180\n",
      "120/120 [==============================] - 39s 323ms/step - loss: 0.2598 - acc: 0.9079 - val_loss: 0.1432 - val_acc: 0.8675\n",
      "Epoch 139/180\n",
      "120/120 [==============================] - 39s 324ms/step - loss: 0.2590 - acc: 0.9075 - val_loss: 0.1093 - val_acc: 0.8625\n",
      "Epoch 140/180\n",
      "120/120 [==============================] - 39s 324ms/step - loss: 0.2289 - acc: 0.9179 - val_loss: 0.6352 - val_acc: 0.8775\n",
      "Epoch 141/180\n",
      "120/120 [==============================] - 39s 324ms/step - loss: 0.2374 - acc: 0.9162 - val_loss: 0.4757 - val_acc: 0.8825\n",
      "Epoch 142/180\n",
      "120/120 [==============================] - 39s 322ms/step - loss: 0.2436 - acc: 0.9158 - val_loss: 0.5859 - val_acc: 0.8675\n",
      "Epoch 143/180\n",
      "120/120 [==============================] - 39s 324ms/step - loss: 0.2288 - acc: 0.9196 - val_loss: 0.5106 - val_acc: 0.8575\n",
      "Epoch 144/180\n",
      "120/120 [==============================] - 39s 323ms/step - loss: 0.2159 - acc: 0.9225 - val_loss: 0.0456 - val_acc: 0.8800\n",
      "Epoch 145/180\n",
      "120/120 [==============================] - 39s 322ms/step - loss: 0.2296 - acc: 0.9183 - val_loss: 0.1732 - val_acc: 0.8525\n",
      "Epoch 146/180\n",
      "120/120 [==============================] - 39s 323ms/step - loss: 0.2278 - acc: 0.9142 - val_loss: 0.4347 - val_acc: 0.8400\n",
      "Epoch 147/180\n",
      "120/120 [==============================] - 39s 322ms/step - loss: 0.2269 - acc: 0.9196 - val_loss: 0.1328 - val_acc: 0.8875\n",
      "Epoch 148/180\n",
      "120/120 [==============================] - 39s 323ms/step - loss: 0.2298 - acc: 0.9079 - val_loss: 0.4339 - val_acc: 0.8675\n",
      "Epoch 149/180\n",
      "120/120 [==============================] - 39s 323ms/step - loss: 0.2310 - acc: 0.9150 - val_loss: 0.4102 - val_acc: 0.8600\n",
      "Epoch 150/180\n",
      "120/120 [==============================] - 39s 323ms/step - loss: 0.2111 - acc: 0.9225 - val_loss: 0.1491 - val_acc: 0.8650\n",
      "Epoch 151/180\n",
      "120/120 [==============================] - 39s 323ms/step - loss: 0.2203 - acc: 0.9150 - val_loss: 0.4068 - val_acc: 0.8775\n",
      "Epoch 152/180\n",
      "120/120 [==============================] - 39s 323ms/step - loss: 0.2161 - acc: 0.9162 - val_loss: 0.7670 - val_acc: 0.8825\n",
      "Epoch 153/180\n",
      "120/120 [==============================] - 39s 323ms/step - loss: 0.2030 - acc: 0.9275 - val_loss: 0.4824 - val_acc: 0.8725\n",
      "Epoch 154/180\n",
      "120/120 [==============================] - 39s 325ms/step - loss: 0.2237 - acc: 0.9154 - val_loss: 0.7331 - val_acc: 0.8575\n",
      "Epoch 155/180\n",
      "120/120 [==============================] - 39s 323ms/step - loss: 0.2212 - acc: 0.9192 - val_loss: 0.6844 - val_acc: 0.8775\n",
      "Epoch 156/180\n",
      "120/120 [==============================] - 39s 323ms/step - loss: 0.2062 - acc: 0.9254 - val_loss: 0.3631 - val_acc: 0.8550\n",
      "Epoch 157/180\n",
      "120/120 [==============================] - 39s 322ms/step - loss: 0.2366 - acc: 0.9204 - val_loss: 0.3099 - val_acc: 0.8675\n",
      "Epoch 158/180\n",
      "120/120 [==============================] - 39s 324ms/step - loss: 0.2008 - acc: 0.9287 - val_loss: 0.1199 - val_acc: 0.8725\n",
      "Epoch 159/180\n",
      "120/120 [==============================] - 39s 323ms/step - loss: 0.2041 - acc: 0.9271 - val_loss: 0.6378 - val_acc: 0.8725\n",
      "Epoch 160/180\n",
      "120/120 [==============================] - 39s 323ms/step - loss: 0.2003 - acc: 0.9237 - val_loss: 0.7518 - val_acc: 0.8600\n",
      "Epoch 161/180\n",
      "120/120 [==============================] - 39s 324ms/step - loss: 0.2039 - acc: 0.9242 - val_loss: 0.7973 - val_acc: 0.8750\n",
      "Epoch 162/180\n",
      "120/120 [==============================] - 40s 332ms/step - loss: 0.1864 - acc: 0.9292 - val_loss: 0.4903 - val_acc: 0.8775\n",
      "Epoch 163/180\n",
      "120/120 [==============================] - 39s 326ms/step - loss: 0.2144 - acc: 0.9233 - val_loss: 0.2032 - val_acc: 0.8450\n",
      "Epoch 164/180\n",
      "120/120 [==============================] - 39s 325ms/step - loss: 0.2099 - acc: 0.9204 - val_loss: 0.2116 - val_acc: 0.8925\n",
      "Epoch 165/180\n",
      "120/120 [==============================] - 39s 328ms/step - loss: 0.1895 - acc: 0.9371 - val_loss: 0.6280 - val_acc: 0.8650\n",
      "Epoch 166/180\n",
      "120/120 [==============================] - 39s 327ms/step - loss: 0.1975 - acc: 0.9279 - val_loss: 1.3166 - val_acc: 0.8500\n",
      "Epoch 167/180\n",
      "120/120 [==============================] - 39s 324ms/step - loss: 0.1985 - acc: 0.9308 - val_loss: 0.0951 - val_acc: 0.8825\n",
      "Epoch 168/180\n",
      "120/120 [==============================] - 39s 325ms/step - loss: 0.1708 - acc: 0.9379 - val_loss: 0.1132 - val_acc: 0.8700\n",
      "Epoch 169/180\n",
      "120/120 [==============================] - 39s 324ms/step - loss: 0.2123 - acc: 0.9233 - val_loss: 0.3946 - val_acc: 0.8475\n",
      "Epoch 170/180\n",
      "120/120 [==============================] - 39s 325ms/step - loss: 0.2079 - acc: 0.9254 - val_loss: 0.0315 - val_acc: 0.8775\n",
      "Epoch 171/180\n",
      "120/120 [==============================] - 39s 326ms/step - loss: 0.1752 - acc: 0.9354 - val_loss: 0.2279 - val_acc: 0.8450\n",
      "Epoch 172/180\n",
      "120/120 [==============================] - 39s 327ms/step - loss: 0.1933 - acc: 0.9321 - val_loss: 0.6503 - val_acc: 0.8425\n",
      "Epoch 173/180\n",
      "120/120 [==============================] - 39s 325ms/step - loss: 0.1943 - acc: 0.9287 - val_loss: 0.5467 - val_acc: 0.8300\n",
      "Epoch 174/180\n",
      "120/120 [==============================] - 39s 324ms/step - loss: 0.2109 - acc: 0.9217 - val_loss: 0.0843 - val_acc: 0.8725\n",
      "Epoch 175/180\n",
      "120/120 [==============================] - 39s 325ms/step - loss: 0.1772 - acc: 0.9346 - val_loss: 0.3878 - val_acc: 0.8500\n",
      "Epoch 176/180\n",
      "120/120 [==============================] - 39s 324ms/step - loss: 0.1760 - acc: 0.9388 - val_loss: 0.4038 - val_acc: 0.8800\n",
      "Epoch 177/180\n",
      "120/120 [==============================] - 39s 326ms/step - loss: 0.1881 - acc: 0.9325 - val_loss: 0.3125 - val_acc: 0.8750\n",
      "Epoch 178/180\n",
      "120/120 [==============================] - 39s 329ms/step - loss: 0.1837 - acc: 0.9371 - val_loss: 0.1822 - val_acc: 0.8600\n",
      "Epoch 179/180\n"
     ]
    },
    {
     "name": "stdout",
     "output_type": "stream",
     "text": [
      "120/120 [==============================] - 41s 343ms/step - loss: 0.1738 - acc: 0.9379 - val_loss: 0.0312 - val_acc: 0.8850\n",
      "Epoch 180/180\n",
      "120/120 [==============================] - 38s 321ms/step - loss: 0.1993 - acc: 0.9325 - val_loss: 0.1051 - val_acc: 0.8875\n"
     ]
    }
   ],
   "source": [
    "# model training\n",
    "\n",
    "train_datagen = ImageDataGenerator(rescale=1./255,\n",
    "                                   rotation_range=2,\n",
    "                                   width_shift_range=0.1,\n",
    "                                   height_shift_range=0.1,\n",
    "                                   shear_range=0.1,\n",
    "                                   zoom_range=0.2,\n",
    "                                   horizontal_flip=True,\n",
    "                                   fill_mode='nearest')\n",
    "\n",
    "test_datagen = ImageDataGenerator(rescale=1./255)\n",
    "\n",
    "train_generator = train_datagen.flow_from_directory(train_dir,\n",
    "                                                   target_size=(100, 100),\n",
    "                                                   batch_size=20,\n",
    "                                                   class_mode='categorical')\n",
    "\n",
    "history = model.fit_generator(train_generator,\n",
    "                             steps_per_epoch=120,\n",
    "                             epochs=180,\n",
    "                             validation_data=validation_generator,\n",
    "                             validation_steps=40)"
   ]
  },
  {
   "cell_type": "code",
   "execution_count": 78,
   "metadata": {},
   "outputs": [],
   "source": [
    "model.save('model_6.h5')"
   ]
  },
  {
   "cell_type": "code",
   "execution_count": 79,
   "metadata": {},
   "outputs": [
    {
     "name": "stdout",
     "output_type": "stream",
     "text": [
      "Found 800 images belonging to 4 classes.\n"
     ]
    }
   ],
   "source": [
    "import keras\n",
    "\n",
    "model_6 = keras.models.load_model('model_6.h5')\n",
    "\n",
    "test_generator = test_datagen.flow_from_directory(\n",
    "    test_dir,\n",
    "    target_size=(100, 100),\n",
    "    batch_size=20,\n",
    "    class_mode='categorical')"
   ]
  },
  {
   "cell_type": "code",
   "execution_count": 80,
   "metadata": {},
   "outputs": [
    {
     "name": "stdout",
     "output_type": "stream",
     "text": [
      "test acc: 0.893750011920929\n"
     ]
    }
   ],
   "source": [
    "test_loss, test_acc = model_6.evaluate_generator(test_generator, steps=(800/20))\n",
    "print('test acc:', test_acc)"
   ]
  },
  {
   "cell_type": "code",
   "execution_count": 75,
   "metadata": {
    "scrolled": false
   },
   "outputs": [
    {
     "data": {
      "image/png": "[encoded data removed]",
      "text/plain": [
       "<Figure size 432x288 with 1 Axes>"
      ]
     },
     "metadata": {
      "needs_background": "light"
     },
     "output_type": "display_data"
    },
    {
     "data": {
      "image/png": "[encoded data removed]",
      "text/plain": [
       "<Figure size 432x288 with 1 Axes>"
      ]
     },
     "metadata": {
      "needs_background": "light"
     },
     "output_type": "display_data"
    }
   ],
   "source": [
    "# acc, loss graph\n",
    "\n",
    "acc = history.history['acc']\n",
    "val_acc = history.history['val_acc']\n",
    "loss = history.history['loss']\n",
    "val_loss = history.history['val_loss']\n",
    "\n",
    "epochs = range(1, len(acc) + 1)\n",
    "\n",
    "plt.plot(epochs, acc, 'bo', label='Training acc')\n",
    "plt.plot(epochs, val_acc, 'b', label='Validation acc')\n",
    "plt.title('Training and validation accuracy')\n",
    "plt.legend()\n",
    "\n",
    "plt.figure()\n",
    "\n",
    "plt.plot(epochs, loss, 'bo', label='Training loss')\n",
    "plt.plot(epochs, val_loss, 'b', label='Validation loss')\n",
    "plt.title('Training and validation loss')\n",
    "plt.legend()\n",
    "\n",
    "plt.show()"
   ]
  },
  {
   "cell_type": "code",
   "execution_count": null,
   "metadata": {},
   "outputs": [],
   "source": []
  }
 ],
 "metadata": {
  "kernelspec": {
   "display_name": "Python 3",
   "language": "python",
   "name": "python3"
  },
  "language_info": {
   "codemirror_mode": {
    "name": "ipython",
    "version": 3
   },
   "file_extension": ".py",
   "mimetype": "text/x-python",
   "name": "python",
   "nbconvert_exporter": "python",
   "pygments_lexer": "ipython3",
   "version": "3.7.6"
  }
 },
 "nbformat": 4,
 "nbformat_minor": 4
}
